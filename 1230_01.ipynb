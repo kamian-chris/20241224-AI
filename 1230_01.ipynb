{
  "nbformat": 4,
  "nbformat_minor": 0,
  "metadata": {
    "colab": {
      "provenance": [],
      "authorship_tag": "ABX9TyMZp2/ouqzlDnwfHYAtBpe8",
      "include_colab_link": true
    },
    "kernelspec": {
      "name": "python3",
      "display_name": "Python 3"
    },
    "language_info": {
      "name": "python"
    }
  },
  "cells": [
    {
      "cell_type": "markdown",
      "metadata": {
        "id": "view-in-github",
        "colab_type": "text"
      },
      "source": [
        "<a href=\"https://colab.research.google.com/github/kamian-chris/20241224-AI/blob/main/1230_01.ipynb\" target=\"_parent\"><img src=\"https://colab.research.google.com/assets/colab-badge.svg\" alt=\"Open In Colab\"/></a>"
      ]
    },
    {
      "cell_type": "markdown",
      "source": [
        "#迴圈\n",
        "\n",
        "```python\n",
        "1.重複n次：從0次數到n-1次\n",
        "10: 0 1 2 .....9\n",
        "\n",
        "準備一個計數器:\n",
        "1. 初始化: i = 0\n",
        "2. 判斷: i < 10\n",
        "3. 增加: i = i + 1\n",
        "\n",
        "i = 0\n",
        "while i < 10:\n",
        "  print(\"hello\")\n",
        "  i = i + 1\n",
        "# 只改print裡面 >>> 間隔X >>> *X ，從Y開始 >>> +Y Y-\n",
        "\n",
        "\n",
        "```"
      ],
      "metadata": {
        "id": "ijr4_SC8IQTN"
      }
    },
    {
      "cell_type": "code",
      "execution_count": null,
      "metadata": {
        "colab": {
          "base_uri": "https://localhost:8080/"
        },
        "id": "onv8dgcEHpMj",
        "outputId": "f4eb5599-c375-4a22-b4d1-f43d424a3d5c"
      },
      "outputs": [
        {
          "output_type": "stream",
          "name": "stdout",
          "text": [
            "test\n",
            "5 20 1 50 600\n",
            "6 19 3 47 590\n",
            "7 18 5 44 580\n",
            "8 17 7 41 570\n",
            "9 16 9 38 560\n",
            "10 15 11 35 550\n",
            "11 14 13 32 540\n",
            "12 13 15 29 530\n",
            "13 12 17 26 520\n",
            "14 11 19 23 510\n"
          ]
        }
      ],
      "source": [
        "print(\"test\")\n",
        "i = 0\n",
        "while i < 10:\n",
        "  print(5 + i,\n",
        "     20 - i,\n",
        "     2 * i + 1,\n",
        "     50 - 3 * i,\n",
        "     600 - 10 * i)\n",
        "  i = i + 1"
      ]
    },
    {
      "cell_type": "code",
      "source": [
        "i = 0\n",
        "while i < 10:\n",
        "  print(\"X\" * (i + 1))\n",
        "  i = i + 1\n"
      ],
      "metadata": {
        "colab": {
          "base_uri": "https://localhost:8080/"
        },
        "id": "woNpkaTObF9O",
        "outputId": "bc20d248-e952-412e-e43f-79cd549b0b65"
      },
      "execution_count": null,
      "outputs": [
        {
          "output_type": "stream",
          "name": "stdout",
          "text": [
            "X\n",
            "XX\n",
            "XXX\n",
            "XXXX\n",
            "XXXXX\n",
            "XXXXXX\n",
            "XXXXXXX\n",
            "XXXXXXXX\n",
            "XXXXXXXXX\n",
            "XXXXXXXXXX\n"
          ]
        }
      ]
    },
    {
      "cell_type": "code",
      "source": [
        "hight = 10\n",
        "i = 0\n",
        "while i < hight:\n",
        "  print(\" \" * (hight - i - 1) + \"O\" * (i + 1))\n",
        "  i = i + 1"
      ],
      "metadata": {
        "colab": {
          "base_uri": "https://localhost:8080/"
        },
        "id": "DhY83Hn-fIE6",
        "outputId": "e0ff5568-8eaf-45e9-f360-1bdd1a75951f"
      },
      "execution_count": null,
      "outputs": [
        {
          "output_type": "stream",
          "name": "stdout",
          "text": [
            "         O\n",
            "        OO\n",
            "       OOO\n",
            "      OOOO\n",
            "     OOOOO\n",
            "    OOOOOO\n",
            "   OOOOOOO\n",
            "  OOOOOOOO\n",
            " OOOOOOOOO\n",
            "OOOOOOOOOO\n"
          ]
        }
      ]
    },
    {
      "cell_type": "markdown",
      "source": [
        "倒金字塔 7.5.3.1"
      ],
      "metadata": {
        "id": "jGfXs3SAhXnh"
      }
    },
    {
      "cell_type": "code",
      "source": [
        "hight = 5\n",
        "lsymbol, msymbol, rsymbol = \".\", \"O\", \".\"\n",
        "i = 0\n",
        "while i < hight:\n",
        "  lcount = i\n",
        "  mcount = (hight * 2 - 1) - 2 * i\n",
        "  # 思考與 層數 的關係\n",
        "  rcount = i\n",
        "  print(lsymbol * lcount +\n",
        "     msymbol * mcount +\n",
        "     rsymbol * rcount)\n",
        "  i = i + 1"
      ],
      "metadata": {
        "colab": {
          "base_uri": "https://localhost:8080/"
        },
        "id": "jtj7GILihW3D",
        "outputId": "dd0fc94d-0fc4-4ae5-c10e-33744805a0a2"
      },
      "execution_count": null,
      "outputs": [
        {
          "output_type": "stream",
          "name": "stdout",
          "text": [
            "OOOOOOOOO\n",
            ".OOOOOOO.\n",
            "..OOOOO..\n",
            "...OOO...\n",
            "....O....\n"
          ]
        }
      ]
    },
    {
      "cell_type": "code",
      "source": [
        "# 不優秀\n",
        "hight = 5\n",
        "lsymbol, msymbol, rsymbol = \".\", \"O\", \".\"\n",
        "i = 0\n",
        "while i < hight:\n",
        "  if i % 2 == 0:\n",
        "    lsymbol, msymbol, rsymbol = \".\", \"O\", \".\"\n",
        "  else:\n",
        "    lsymbol, msymbol, rsymbol = \".\", \"X\", \".\"\n",
        "  lcount = i\n",
        "  mcount = (hight * 2 - 1) - 2 * i\n",
        "  rcount = i\n",
        "  print(lsymbol * lcount +\n",
        "     msymbol * mcount +\n",
        "     rsymbol * rcount)\n",
        "  i = i + 1"
      ],
      "metadata": {
        "colab": {
          "base_uri": "https://localhost:8080/"
        },
        "id": "LsH_O_D3m82U",
        "outputId": "e5ffd092-6b91-40e5-f607-9b88ab4880cf"
      },
      "execution_count": null,
      "outputs": [
        {
          "output_type": "stream",
          "name": "stdout",
          "text": [
            "OOOOOOOOO\n",
            ".XXXXXXX.\n",
            "..OOOOO..\n",
            "...XXX...\n",
            "....O....\n"
          ]
        }
      ]
    },
    {
      "cell_type": "code",
      "source": [
        "# 創建清單放符號，讓下面可以直接代入\n",
        "# 萬國編碼：\\u\n",
        "list = [\"\\u260E\", \"\\u2709\", \"\\u270E\", \"\\u25B2\"]\n",
        "hight = 10\n",
        "i = 0\n",
        "while i < hight:\n",
        "  # 符號\n",
        "  lsymbol =\".\"\n",
        "  # 中間這個需要從上面清單代入，所以使用list[]\n",
        "  # 至於要代入哪個，則用 取餘(%)\n",
        "  # 由於是循環上面list的長度，則用 len() 這個函式來取長度\n",
        "  msymbol = list[i%len(list)]\n",
        "  rsymbol =\".\"\n",
        "\n",
        "  # 數目\n",
        "  lcount = i\n",
        "  mcount = (hight * 2 - 1) - 2 * i\n",
        "  rcount = i\n",
        "  print(lsymbol * lcount +\n",
        "     msymbol * mcount +\n",
        "     rsymbol * rcount)\n",
        "  i = i + 1"
      ],
      "metadata": {
        "id": "0JI1nSuZrCwj",
        "colab": {
          "base_uri": "https://localhost:8080/"
        },
        "outputId": "4dd69cfd-2b36-4468-e158-b1d06a795690"
      },
      "execution_count": 37,
      "outputs": [
        {
          "output_type": "stream",
          "name": "stdout",
          "text": [
            "☎☎☎☎☎☎☎☎☎☎☎☎☎☎☎☎☎☎☎\n",
            ".✉✉✉✉✉✉✉✉✉✉✉✉✉✉✉✉✉.\n",
            "..✎✎✎✎✎✎✎✎✎✎✎✎✎✎✎..\n",
            "...▲▲▲▲▲▲▲▲▲▲▲▲▲...\n",
            "....☎☎☎☎☎☎☎☎☎☎☎....\n",
            ".....✉✉✉✉✉✉✉✉✉.....\n",
            "......✎✎✎✎✎✎✎......\n",
            ".......▲▲▲▲▲.......\n",
            "........☎☎☎........\n",
            ".........✉.........\n"
          ]
        }
      ]
    },
    {
      "cell_type": "code",
      "source": [
        "# 我要隨機數，所以導入 radom\n",
        "import random\n",
        "# 創建 list 讓下面選\n",
        "list = [\"\\u260E\", \"\\u2709\", \"\\u270E\", \"\\u25B2\", \"\\u2606\"]\n",
        "# 做幾次\n",
        "hight = 10\n",
        "i = 0\n",
        "# 想要定義隨機數的最小值(我覺得是i，因為 i = 0)跟 最大值(用list的長度-1，就是這個list範圍內的最大值)\n",
        "smallnumber = i\n",
        "bignumber = len(list) - 1\n",
        "while i < hight:\n",
        "  # 先思考符號\n",
        "  # 我想要中間的號碼每次都從list隨機，且每次回圈都重找一次，所以在迴圈中找隨機數 x\n",
        "  # 並用外面的 smallnumber、bignumber 控制大小值(後面想到我才加到外面，這樣可以從外面控制)\n",
        "  x = random.randint(smallnumber, bignumber)\n",
        "  lsymbol =\".\"\n",
        "  # 從清單中找隨機數第 x 個的圖案\n",
        "  msymbol = list[x]\n",
        "  rsymbol =\".\"\n",
        "\n",
        "  # 再處理數目\n",
        "  lcount = i\n",
        "  mcount = (hight * 2 - 1) - 2 * i\n",
        "  rcount = i\n",
        "  print(lsymbol * lcount +\n",
        "     msymbol * mcount +\n",
        "     rsymbol * rcount)\n",
        "  i = i + 1"
      ],
      "metadata": {
        "colab": {
          "base_uri": "https://localhost:8080/"
        },
        "id": "VCFHG03V3-pj",
        "outputId": "7c352745-df65-47f6-8550-91f8fa6e2e5e"
      },
      "execution_count": 42,
      "outputs": [
        {
          "output_type": "stream",
          "name": "stdout",
          "text": [
            "✉✉✉✉✉✉✉✉✉✉✉✉✉✉✉✉✉✉✉\n",
            ".✎✎✎✎✎✎✎✎✎✎✎✎✎✎✎✎✎.\n",
            "..☎☎☎☎☎☎☎☎☎☎☎☎☎☎☎..\n",
            "...✉✉✉✉✉✉✉✉✉✉✉✉✉...\n",
            "....✉✉✉✉✉✉✉✉✉✉✉....\n",
            ".....✉✉✉✉✉✉✉✉✉.....\n",
            "......▲▲▲▲▲▲▲......\n",
            ".......✎✎✎✎✎.......\n",
            "........▲▲▲........\n",
            ".........☆.........\n"
          ]
        }
      ]
    },
    {
      "cell_type": "code",
      "source": [
        "# 1+2+...+10\n",
        "# 拒絕跳躍性思考\n",
        "\n",
        "\n",
        "total = 0\n",
        "\n",
        "i = 0\n",
        "while i < 10:\n",
        "  total = total + (i + 1)\n",
        "  print(total)\n",
        "  i = i + 1"
      ],
      "metadata": {
        "colab": {
          "base_uri": "https://localhost:8080/"
        },
        "id": "k0l2Fn72Frft",
        "outputId": "d75fda32-c0df-4b6c-fc11-4970ee5d087c"
      },
      "execution_count": null,
      "outputs": [
        {
          "output_type": "stream",
          "name": "stdout",
          "text": [
            "1\n",
            "3\n",
            "6\n",
            "10\n",
            "15\n",
            "21\n",
            "28\n",
            "36\n",
            "45\n",
            "55\n"
          ]
        }
      ]
    }
  ]
}