{
  "nbformat": 4,
  "nbformat_minor": 0,
  "metadata": {
    "colab": {
      "provenance": [],
      "authorship_tag": "ABX9TyOy48+Ht1m17shldtHFVENg",
      "include_colab_link": true
    },
    "kernelspec": {
      "name": "python3",
      "display_name": "Python 3"
    },
    "language_info": {
      "name": "python"
    }
  },
  "cells": [
    {
      "cell_type": "markdown",
      "metadata": {
        "id": "view-in-github",
        "colab_type": "text"
      },
      "source": [
        "<a href=\"https://colab.research.google.com/github/kamian-chris/20241224-AI/blob/main/1230_01.ipynb\" target=\"_parent\"><img src=\"https://colab.research.google.com/assets/colab-badge.svg\" alt=\"Open In Colab\"/></a>"
      ]
    },
    {
      "cell_type": "markdown",
      "source": [
        "#迴圈\n",
        "\n",
        "```python\n",
        "1.重複n次：從0次數到n-1次\n",
        "10: 0 1 2 .....9\n",
        "\n",
        "準備一個計數器:\n",
        "1. 初始化: i = 0\n",
        "2. 判斷: i < 10\n",
        "3. 增加: i = i + 1\n",
        "\n",
        "i = 0\n",
        "while i < 10:\n",
        "  print(\"hello\")\n",
        "  i = i + 1\n",
        "# 只改print裡面 >>> 間隔X >>> *X ，從Y開始 >>> +Y Y-\n",
        "\n",
        "\n",
        "```"
      ],
      "metadata": {
        "id": "ijr4_SC8IQTN"
      }
    },
    {
      "cell_type": "code",
      "execution_count": 17,
      "metadata": {
        "colab": {
          "base_uri": "https://localhost:8080/"
        },
        "id": "onv8dgcEHpMj",
        "outputId": "bc7baae7-1c0b-4c2b-b310-c03ce4d913e0"
      },
      "outputs": [
        {
          "output_type": "stream",
          "name": "stdout",
          "text": [
            "5 20 1 50 600\n",
            "6 19 3 47 590\n",
            "7 18 5 44 580\n",
            "8 17 7 41 570\n",
            "9 16 9 38 560\n",
            "10 15 11 35 550\n",
            "11 14 13 32 540\n",
            "12 13 15 29 530\n",
            "13 12 17 26 520\n",
            "14 11 19 23 510\n"
          ]
        }
      ],
      "source": [
        "i = 0\n",
        "while i < 10:\n",
        "  print(5 + i,\n",
        "     20 - i,\n",
        "     2 * i + 1,\n",
        "     50 - 3 * i,\n",
        "     600 - 10 * i)\n",
        "  i = i + 1"
      ]
    }
  ]
}