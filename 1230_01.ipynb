{
  "nbformat": 4,
  "nbformat_minor": 0,
  "metadata": {
    "colab": {
      "provenance": [],
      "authorship_tag": "ABX9TyPC/ZswCaVewW8Rcam/E7Kk",
      "include_colab_link": true
    },
    "kernelspec": {
      "name": "python3",
      "display_name": "Python 3"
    },
    "language_info": {
      "name": "python"
    }
  },
  "cells": [
    {
      "cell_type": "markdown",
      "metadata": {
        "id": "view-in-github",
        "colab_type": "text"
      },
      "source": [
        "<a href=\"https://colab.research.google.com/github/kamian-chris/20241224-AI/blob/main/1230_01.ipynb\" target=\"_parent\"><img src=\"https://colab.research.google.com/assets/colab-badge.svg\" alt=\"Open In Colab\"/></a>"
      ]
    },
    {
      "cell_type": "markdown",
      "source": [
        "#迴圈\n",
        "\n",
        "```python\n",
        "1.重複n次：從0次數到n-1次\n",
        "10: 0 1 2 .....9\n",
        "\n",
        "準備一個計數器:\n",
        "1. 初始化: i = 0\n",
        "2. 判斷: i < 10\n",
        "3. 增加: i = i + 1\n",
        "\n",
        "i = 0\n",
        "while i < 10:\n",
        "  print(\"hello\")\n",
        "  i = i + 1\n",
        "# 只改print裡面 >>> 間隔X >>> *X ，從Y開始 >>> +Y Y-\n",
        "\n",
        "\n",
        "```"
      ],
      "metadata": {
        "id": "ijr4_SC8IQTN"
      }
    },
    {
      "cell_type": "code",
      "execution_count": 33,
      "metadata": {
        "colab": {
          "base_uri": "https://localhost:8080/"
        },
        "id": "onv8dgcEHpMj",
        "outputId": "f4eb5599-c375-4a22-b4d1-f43d424a3d5c"
      },
      "outputs": [
        {
          "output_type": "stream",
          "name": "stdout",
          "text": [
            "test\n",
            "5 20 1 50 600\n",
            "6 19 3 47 590\n",
            "7 18 5 44 580\n",
            "8 17 7 41 570\n",
            "9 16 9 38 560\n",
            "10 15 11 35 550\n",
            "11 14 13 32 540\n",
            "12 13 15 29 530\n",
            "13 12 17 26 520\n",
            "14 11 19 23 510\n"
          ]
        }
      ],
      "source": [
        "print(\"test\")\n",
        "i = 0\n",
        "while i < 10:\n",
        "  print(5 + i,\n",
        "     20 - i,\n",
        "     2 * i + 1,\n",
        "     50 - 3 * i,\n",
        "     600 - 10 * i)\n",
        "  i = i + 1"
      ]
    },
    {
      "cell_type": "code",
      "source": [
        "i = 0\n",
        "while i < 10:\n",
        "  print(\"X\" * (i + 1))\n",
        "  i = i + 1\n"
      ],
      "metadata": {
        "colab": {
          "base_uri": "https://localhost:8080/"
        },
        "id": "woNpkaTObF9O",
        "outputId": "bc20d248-e952-412e-e43f-79cd549b0b65"
      },
      "execution_count": 34,
      "outputs": [
        {
          "output_type": "stream",
          "name": "stdout",
          "text": [
            "X\n",
            "XX\n",
            "XXX\n",
            "XXXX\n",
            "XXXXX\n",
            "XXXXXX\n",
            "XXXXXXX\n",
            "XXXXXXXX\n",
            "XXXXXXXXX\n",
            "XXXXXXXXXX\n"
          ]
        }
      ]
    },
    {
      "cell_type": "code",
      "source": [
        "hight = 10\n",
        "i = 0\n",
        "while i < hight:\n",
        "  print(\" \" * (hight - i - 1) + \"O\" * (i + 1))\n",
        "  i = i + 1"
      ],
      "metadata": {
        "colab": {
          "base_uri": "https://localhost:8080/"
        },
        "id": "DhY83Hn-fIE6",
        "outputId": "e0ff5568-8eaf-45e9-f360-1bdd1a75951f"
      },
      "execution_count": 32,
      "outputs": [
        {
          "output_type": "stream",
          "name": "stdout",
          "text": [
            "         O\n",
            "        OO\n",
            "       OOO\n",
            "      OOOO\n",
            "     OOOOO\n",
            "    OOOOOO\n",
            "   OOOOOOO\n",
            "  OOOOOOOO\n",
            " OOOOOOOOO\n",
            "OOOOOOOOOO\n"
          ]
        }
      ]
    },
    {
      "cell_type": "markdown",
      "source": [
        "倒金字塔 7.5.3.1"
      ],
      "metadata": {
        "id": "jGfXs3SAhXnh"
      }
    },
    {
      "cell_type": "code",
      "source": [
        "hight = 10\n",
        "lsymbol, msymbol, rsymbol = \" \", \"O\", \" \"\n",
        "i = 0\n",
        "while i < hight:\n",
        "  lcount = i\n",
        "  mcount = (hight * 2 - 1) - 2 * i\n",
        "  # 思考與 層數 的關係\n",
        "  rcount = i\n",
        "  print(lsymbol * lcount +\n",
        "     msymbol * mcount +\n",
        "     rsymbol * rcount)\n",
        "  i = i + 1"
      ],
      "metadata": {
        "colab": {
          "base_uri": "https://localhost:8080/"
        },
        "id": "jtj7GILihW3D",
        "outputId": "3af8719b-9b2b-4c9d-da7c-12fbad76b77f"
      },
      "execution_count": 56,
      "outputs": [
        {
          "output_type": "stream",
          "name": "stdout",
          "text": [
            "OOOOOOOOOOOOOOOOOOO\n",
            " OOOOOOOOOOOOOOOOO \n",
            "  OOOOOOOOOOOOOOO  \n",
            "   OOOOOOOOOOOOO   \n",
            "    OOOOOOOOOOO    \n",
            "     OOOOOOOOO     \n",
            "      OOOOOOO      \n",
            "       OOOOO       \n",
            "        OOO        \n",
            "         O         \n"
          ]
        }
      ]
    }
  ]
}