{
  "nbformat": 4,
  "nbformat_minor": 0,
  "metadata": {
    "colab": {
      "provenance": [],
      "authorship_tag": "ABX9TyO8JY+0uD5xFQdiw01cXBKU",
      "include_colab_link": true
    },
    "kernelspec": {
      "name": "python3",
      "display_name": "Python 3"
    },
    "language_info": {
      "name": "python"
    }
  },
  "cells": [
    {
      "cell_type": "markdown",
      "metadata": {
        "id": "view-in-github",
        "colab_type": "text"
      },
      "source": [
        "<a href=\"https://colab.research.google.com/github/kamian-chris/20241224-AI/blob/main/0106_01.ipynb\" target=\"_parent\"><img src=\"https://colab.research.google.com/assets/colab-badge.svg\" alt=\"Open In Colab\"/></a>"
      ]
    },
    {
      "cell_type": "markdown",
      "source": [
        "# 作業-01"
      ],
      "metadata": {
        "id": "V3y20Ys7K_xY"
      }
    },
    {
      "cell_type": "code",
      "source": [
        "# 由於需要一開始的 2個 數字，所以設P1, P2 並=0\n",
        "p1, p2 = 0, 0\n",
        "# 操控次數(經過下面算法，得知這邊total與階數的關係是2倍差，所以最後print時total * 2)\n",
        "total = 10\n",
        "\n",
        "for i in range(total):\n",
        "    if i < 1 :\n",
        "      # 因為經過講解，以及實際畫圖後得知 P3 = P1 + P2 -> Pn = P(n-1) + P(n-2)\n",
        "      # 所以我後續的理解是 -> 要有 Pn, 就先要有P(n-1) 以及 P(n-2), 也就是初始的2個數字，然後就可以往下做\n",
        "      # 至於為何 i < 1, 是我後面在print的時候，發現由於我是帶入2個數字, 所以一次 i 就會產出 2個數字(1組)\n",
        "      # 而 P1 為何等於 i + 1, 是因為range(total)是從 0 開始帶入, 但我一開始有 1 種做法(走1步)，所以 + 1\n",
        "      p1 = i + 1\n",
        "      # 而 P2 就會等於 (i + 1) + P1 種方法\n",
        "      p2 = (i + 1) + p1\n",
        "      # 由於此題我只需要一開始的 2 個數字, 所以剩下都交給else\n",
        "    else:\n",
        "      # 回傳P1 + P2 = 新的P1\n",
        "      p1 = p1 + p2\n",
        "      # 回傳P1 + P2 = 新的P2\n",
        "      p2 = p1 + p2\n",
        "      # 就會得到 3階 及 4階的數字\n",
        "    # print(p1, p2)\n",
        "    # 這邊我是實際列出來看一下答案，中間錯蠻多次的哈哈\n",
        "\n",
        "print(total * 2, \"階是:\", p2, \"種作法\")"
      ],
      "metadata": {
        "colab": {
          "base_uri": "https://localhost:8080/"
        },
        "id": "HKFHUjKpuv0P",
        "outputId": "b2df71ac-9315-40b6-f624-d06c330030c4"
      },
      "execution_count": null,
      "outputs": [
        {
          "output_type": "stream",
          "name": "stdout",
          "text": [
            "1 2\n",
            "3 5\n",
            "8 13\n",
            "21 34\n",
            "55 89\n",
            "144 233\n",
            "377 610\n",
            "987 1597\n",
            "2584 4181\n",
            "6765 10946\n",
            "20 階是: 10946 種作法\n"
          ]
        }
      ]
    },
    {
      "cell_type": "code",
      "source": [
        "# 我想驗證一下是否可行(若有3種步伐)\n",
        "# 順便寫一下輸入，以及轉換(3不好做)\n",
        "want_total = int(input(\"想要算到第幾階:\"))\n",
        "# 階層需要比取商多 1層，不然找不到取完商的後面2階\n",
        "layer = want_total // 3 + 1\n",
        "n = want_total % 3\n",
        "# print(layer, n)\n",
        "p1, p2, p3 = 0, 0, 0\n",
        "total = layer\n",
        "\n",
        "for i in range(total):\n",
        "    if i < 1 :\n",
        "      p1 = i + 1\n",
        "      p2 = (i + 1) + p1\n",
        "      p3 = (i + 1) + p2 + p1\n",
        "    else:\n",
        "      p1 = p1 + p2 + p3\n",
        "      p2 = p1 + p2 + p3\n",
        "      p3 = p1 + p2 + p3\n",
        "    # 嘗試 print 看看 -> 好像對(實際畫圖看看也對)\n",
        "    print(p1, p2, p3)\n",
        "    # 設定 np 為答案，討論關係\n",
        "\n",
        "# 最後已經迴圈完畢，準備取值\n",
        "if n == 1:\n",
        "  np = p1\n",
        "if n == 2:\n",
        "  np = p2\n",
        "# 只有當我們要找的階層可以被 3(若有3種步伐) 整除時，需要找上一個群組的最後一個(p3 - p2 - p1)\n",
        "if n == 0:\n",
        "  np = p3 - p2 - p1\n",
        "\n",
        "print(want_total, \"階是:\", np, \"種作法\")\n",
        "\n",
        "# 目前結論：看起來可以"
      ],
      "metadata": {
        "colab": {
          "base_uri": "https://localhost:8080/"
        },
        "id": "U0MdmyJ3dZsC",
        "outputId": "22170a3f-6334-4506-e290-286abe8de26d"
      },
      "execution_count": null,
      "outputs": [
        {
          "output_type": "stream",
          "name": "stdout",
          "text": [
            "想要算到第幾階:9\n",
            "1 2 4\n",
            "7 13 24\n",
            "44 81 149\n",
            "274 504 927\n",
            "9 階是: 149 種作法\n"
          ]
        }
      ]
    },
    {
      "cell_type": "code",
      "source": [
        "# 想要偶數階才能1或2步，單數階都1步 -> 只需最後定下單數階只顯示 1種(1步)\n",
        "want_total = int(input(\"想要算到第幾階:\"))\n",
        "p1, p2 = 0, 0\n",
        "# 固定 2 種走路方式(1步2步)\n",
        "step = 2\n",
        "layer = want_total // 2 + 1\n",
        "n = want_total % 2\n",
        "\n",
        "\n",
        "for i in range(layer):\n",
        "    if i < (step -1) :\n",
        "      p1 = i + 1\n",
        "      p2 = (i + 1) + p1\n",
        "    else:\n",
        "      p1 = p1 + p2\n",
        "      p2 = p1 + p2\n",
        "    print(p1, p2)\n",
        "\n",
        "if n == 0:\n",
        "  np = p2 - p1\n",
        "else:\n",
        "  np = 1\n",
        "\n",
        "print(want_total, \"階是:\", np, \"種作法\")"
      ],
      "metadata": {
        "colab": {
          "base_uri": "https://localhost:8080/"
        },
        "id": "NqB7lUd2PK9V",
        "outputId": "aeaf2b5f-d008-4ef3-913d-11194c207a32"
      },
      "execution_count": null,
      "outputs": [
        {
          "output_type": "stream",
          "name": "stdout",
          "text": [
            "想要算到第幾階:10\n",
            "1 2\n",
            "3 5\n",
            "8 13\n",
            "21 34\n",
            "55 89\n",
            "144 233\n",
            "10 階是: 89 種作法\n"
          ]
        }
      ]
    },
    {
      "cell_type": "markdown",
      "source": [
        "# 作業-02"
      ],
      "metadata": {
        "id": "q0fS9KAquwmu"
      }
    },
    {
      "cell_type": "markdown",
      "source": [
        "```python\n",
        "有點難，我先想，想法:\n",
        "1.載入文字\n",
        "2.我想用數字來驗證 -> ord()\n",
        "      1.先把提示給數字化\n",
        "      2.把文章數字化 -> 做 26 次\n",
        "      3.檢查 提示的數字 包含於哪串 轉化過的文章\n",
        "      4.確定後把文章轉化回來\n",
        "\n",
        "\n",
        "```"
      ],
      "metadata": {
        "id": "nTpUgKgiUPLp"
      }
    },
    {
      "cell_type": "code",
      "source": [
        "import urllib.request as req\n",
        "\n",
        "url = \"https://github.com/Elwing-Chou/tibame1224/raw/refs/heads/main/password.txt\"\n",
        "req.urlretrieve(url, \"password.txt\")\n",
        "f = open(\"password.txt\", \"r\", encoding=\"utf-8\")\n",
        "# 加密文件\n",
        "message = f.read()\n",
        "# 轉換用\n",
        "m1 = message.lower()\n",
        "m2 = \"\"\n",
        "# 對答案用\n",
        "message_n = \"\"\n",
        "\n",
        "# 轉化提示\n",
        "password = \"trouble will come of it\"\n",
        "password_n = \"\"\n",
        "for i in range(len(password)):\n",
        "    password_n =  password_n + str(ord(password[i]))\n",
        "# 這是答案數字\n",
        "# print(password_n)\n",
        "\n",
        "\n",
        "# 把文章數字化\n",
        "\n",
        "\n",
        "# 把 message +1 (message -> ord -> +1 -> chr -> 丟回message)\n",
        "for i in range(len(message)):\n",
        "    if i > 10:\n",
        "      break\n",
        "    if ord(\"a\") <= ord(message[i]) <= ord(\"z\"):\n",
        "      n1 = (ord(message[i])+1) % (ord(\"z\")+1)\n",
        "      m2 = m2 + chr(n1)\n",
        "    else:\n",
        "      m2 = m2 + message[i]\n",
        "    print(m2)\n",
        "    # 直接轉化(連同符號)\n",
        "    for j in range(len(message)):\n",
        "          message_n = message_n + str(ord(m2[j]))\n",
        "\n",
        "    # while True:\n",
        "    #     if password_n in message_n:\n",
        "    #       break\n",
        "    print(message_n)\n",
        "\n",
        "\n",
        "\n",
        "f.close()"
      ],
      "metadata": {
        "colab": {
          "base_uri": "https://localhost:8080/",
          "height": 228
        },
        "id": "vhe01wxBqTuH",
        "outputId": "252fe8f7-5165-4422-c47e-5df92e2865f8"
      },
      "execution_count": 24,
      "outputs": [
        {
          "output_type": "stream",
          "name": "stdout",
          "text": [
            "q\n"
          ]
        },
        {
          "output_type": "error",
          "ename": "IndexError",
          "evalue": "string index out of range",
          "traceback": [
            "\u001b[0;31m---------------------------------------------------------------------------\u001b[0m",
            "\u001b[0;31mIndexError\u001b[0m                                Traceback (most recent call last)",
            "\u001b[0;32m<ipython-input-24-d279a7eaabd4>\u001b[0m in \u001b[0;36m<cell line: 27>\u001b[0;34m()\u001b[0m\n\u001b[1;32m     36\u001b[0m     \u001b[0;31m# 直接轉化(連同符號)\u001b[0m\u001b[0;34m\u001b[0m\u001b[0;34m\u001b[0m\u001b[0m\n\u001b[1;32m     37\u001b[0m     \u001b[0;32mfor\u001b[0m \u001b[0mj\u001b[0m \u001b[0;32min\u001b[0m \u001b[0mrange\u001b[0m\u001b[0;34m(\u001b[0m\u001b[0mlen\u001b[0m\u001b[0;34m(\u001b[0m\u001b[0mmessage\u001b[0m\u001b[0;34m)\u001b[0m\u001b[0;34m)\u001b[0m\u001b[0;34m:\u001b[0m\u001b[0;34m\u001b[0m\u001b[0;34m\u001b[0m\u001b[0m\n\u001b[0;32m---> 38\u001b[0;31m           \u001b[0mmessage_n\u001b[0m \u001b[0;34m=\u001b[0m \u001b[0mmessage_n\u001b[0m \u001b[0;34m+\u001b[0m \u001b[0mstr\u001b[0m\u001b[0;34m(\u001b[0m\u001b[0mord\u001b[0m\u001b[0;34m(\u001b[0m\u001b[0mm2\u001b[0m\u001b[0;34m[\u001b[0m\u001b[0mj\u001b[0m\u001b[0;34m]\u001b[0m\u001b[0;34m)\u001b[0m\u001b[0;34m)\u001b[0m\u001b[0;34m\u001b[0m\u001b[0;34m\u001b[0m\u001b[0m\n\u001b[0m\u001b[1;32m     39\u001b[0m \u001b[0;34m\u001b[0m\u001b[0m\n\u001b[1;32m     40\u001b[0m     \u001b[0;31m# while True:\u001b[0m\u001b[0;34m\u001b[0m\u001b[0;34m\u001b[0m\u001b[0m\n",
            "\u001b[0;31mIndexError\u001b[0m: string index out of range"
          ]
        }
      ]
    },
    {
      "cell_type": "code",
      "source": [
        "for i in range(len(message)):\n",
        "    if ord(\"a\") <= ord(message[i]) <= ord(\"z\"):\n",
        "        m2 = ord(message[i]) + 1\n",
        "        m1 = m1 + chr(m2)\n",
        "    else:\n",
        "      pass\n",
        "print(message)\n",
        "print(m1)"
      ],
      "metadata": {
        "colab": {
          "base_uri": "https://localhost:8080/"
        },
        "id": "L0Oz6AElWkJD",
        "outputId": "12a92a3e-ae8e-41bf-f5f1-7bf1cb7a2f99"
      },
      "execution_count": null,
      "outputs": [
        {
          "output_type": "stream",
          "name": "stdout",
          "text": [
            "p adcv-tmetrits epgin\n",
            "\n",
            "lwtc bg. qxaqd qpvvxch du qpv tcs pccdjcrts iwpi wt ldjas hwdgian qt rtatqgpixcv wxh tatktcin-uxghi qxgiwspn lxiw p epgin du hetrxpa bpvcxuxrtcrt, iwtgt lph bjrw ipaz pcs tmrxitbtci xc wdqqxidc.\n",
            "\n",
            "qxaqd lph ktgn gxrw pcs ktgn etrjaxpg, pcs wps qttc iwt ldcstg du iwt hwxgt udg hxmin ntpgh, tktg hxcrt wxh gtbpgzpqat sxhpeetpgpcrt pcs jctmetrits gtijgc. iwt gxrwth wt wps qgdjvwi qprz ugdb wxh igpktah wps cdl qtrdbt p adrpa atvtcs, pcs xi lph edejapgan qtaxtkts, lwpitktg iwt das udaz bxvwi hpn, iwpi iwt wxaa pi qpv tcs lph ujaa du ijcctah hijuuts lxiw igtphjgt. pcs xu iwpi lph cdi tcdjvw udg upbt, iwtgt lph pahd wxh egdadcvts kxvdjg id bpgkta pi. ixbt ldgt dc, qji xi httbts id wpkt axiiat tuutri dc bg. qpvvxch. pi cxctin wt lph bjrw iwt hpbt ph pi uxuin. pi cxctin-cxct iwtn qtvpc id rpaa wxb ltaa-egthtgkts, qji jcrwpcvts ldjas wpkt qttc ctpgtg iwt bpgz. iwtgt ltgt hdbt iwpi hwddz iwtxg wtpsh pcs iwdjvwi iwxh lph idd bjrw du p vdds iwxcv; xi httbts jcupxg iwpi pcndct hwdjas edhhthh (peepgtcian) etgetijpa ndjiw ph ltaa ph (gtejitsan) xctmwpjhixqat ltpaiw.\n",
            "\n",
            "'xi lxaa wpkt id qt epxs udg,' iwtn hpxs. 'xi xhc'i cpijgpa, pcs igdjqat lxaa rdbt du xi!'\n",
            "kllmlmmnlmmnmnnoqbedwunfusjutfqhjomxudchrybrerqwwydievrqwudtqddekdsutjxqjxumekbtixehjborusuburhqjydwxyiubuludjovyhijryhjxtqomyjxqfqhjoevifusyqbcqwdyvysudsujxuhumqicksxjqb{qdtunsyjucudjydxerryjedrybremqiluhohysxqdtluhofuskbyqhqdtxqtruudjxumedtuhevjxuixyhuvehiynjoouqhiuluhiydsuxyihucqh{qrbutyiqffuqhqdsuqdtkdunfusjuthujkhdjxuhysxuixuxqtrhekwxjrqs{vhecxyijhqlubixqtdemrusecuqbesqbbuwudtqdtyjmqifefkbqhborubyulutmxqjuluhjxuebtveb{cywxjiqojxqjjxuxybbqjrqwudtmqivkbbevjkddubiijkvvutmyjxjhuqikhuqdtyvjxqjmqidejudekwxvehvqcujxuhumqiqbiexyifhebedwutlywekhjecqhlubqjjycumehuedrkjyjiuucutjexqlubyjjbuuvvusjedchrqwwydiqjdydujoxumqicksxjxuiqcuqiqjvyvjoqjdydujodydujxuoruwqdjesqbbxycmubbfhuiuhlutrkjkdsxqdwutmekbtxqluruudduqhuhjxucqh{jxuhumuhuiecujxqjixee{jxuyhxuqtiqdtjxekwxjjxyimqijeecksxevqweetjxydwyjiuucutkdvqyhjxqjqdoeduixekbtfeiiuiiqffqhudjbofuhfujkqboekjxqimubbqihufkjutboydunxqkijyrbumuqbjxyjmybbxqlujerufqytvehjxuoiqytyjyidjdqjkhqbqdtjhekrbumybbsecuevyjqbedwunfusjutfqhjomxudchrybrerqwwydievrqwudtqddekdsutjxqjxumekbtixehjborusuburhqjydwxyiubuludjovyhijryhjxtqomyjxqfqhjoevifusyqbcqwdyvysudsujxuhumqicksxjqb{qdtunsyjucudjydxerryjedrybremqiluhohysxqdtluhofuskbyqhqdtxqtruudjxumedtuhevjxuixyhuvehiynjoouqhiuluhiydsuxyihucqh{qrbutyiqffuqhqdsuqdtkdunfusjuthujkhdjxuhysxuixuxqtrhekwxjrqs{vhecxyijhqlubixqtdemrusecuqbesqbbuwudtqdtyjmqifefkbqhborubyulutmxqjuluhjxuebtveb{cywxjiqojxqjjxuxybbqjrqwudtmqivkbbevjkddubiijkvvutmyjxjhuqikhuqdtyvjxqjmqidejudekwxvehvqcujxuhumqiqbiexyifhebedwutlywekhjecqhlubqjjycumehuedrkjyjiuucutjexqlubyjjbuuvvusjedchrqwwydiqjdydujoxumqicksxjxuiqcuqiqjvyvjoqjdydujodydujxuoruwqdjesqbbxycmubbfhuiuhlutrkjkdsxqdwutmekbtxqluruudduqhuhjxucqh{jxuhumuhuiecujxqjixee{jxuyhxuqtiqdtjxekwxjjxyimqijeecksxevqweetjxydwyjiuucutkdvqyhjxqjqdoeduixekbtfeiiuiiqffqhudjbofuhfujkqboekjxqimubbqihufkjutboydunxqkijyrbumuqbjxyjmybbxqlujerufqytvehjxuoiqytyjyidjdqjkhqbqdtjhekrbumybbsecuevyjqbedwunfusjutfqhjomxudchrybrerqwwydievrqwudtqddekdsutjxqjxumekbtixehjborusuburhqjydwxyiubuludjovyhijryhjxtqomyjxqfqhjoevifusyqbcqwdyvysudsujxuhumqicksxjqb{qdtunsyjucudjydxerryjedrybremqiluhohysxqdtluhofuskbyqhqdtxqtruudjxumedtuhevjxuixyhuvehiynjoouqhiuluhiydsuxyihucqh{qrbutyiqffuqhqdsuqdtkdunfusjuthujkhdjxuhysxuixuxqtrhekwxjrqs{vhecxyijhqlubixqtdemrusecuqbesqbbuwudtqdtyjmqifefkbqhborubyulutmxqjuluhjxuebtveb{cywxjiqojxqjjxuxybbqjrqwudtmqivkbbevjkddubiijkvvutmyjxjhuqikhuqdtyvjxqjmqidejudekwxvehvqcujxuhumqiqbiexyifhebedwutlywekhjecqhlubqjjycumehuedrkjyjiuucutjexqlubyjjbuuvvusjedchrqwwydiqjdydujoxumqicksxjxuiqcuqiqjvyvjoqjdydujodydujxuoruwqdjesqbbxycmubbfhuiuhlutrkjkdsxqdwutmekbtxqluruudduqhuhjxucqh{jxuhumuhuiecujxqjixee{jxuyhxuqtiqdtjxekwxjjxyimqijeecksxevqweetjxydwyjiuucutkdvqyhjxqjqdoeduixekbtfeiiuiiqffqhudjbofuhfujkqboekjxqimubbqihufkjutboydunxqkijyrbumuqbjxyjmybbxqlujerufqytvehjxuoiqytyjyidjdqjkhqbqdtjhekrbumybbsecuevyj\n"
          ]
        }
      ]
    },
    {
      "cell_type": "code",
      "source": [
        "# 測試用\n",
        "x = \"123 1223\"\n",
        "y = [1,2,3,\" \",1,2,2,3,8,7,6,5]\n",
        "z = \"\"\n",
        "for i in range(len(y)):\n",
        "  z = z + str(y[i])\n",
        "print(z)\n",
        "x in z"
      ],
      "metadata": {
        "colab": {
          "base_uri": "https://localhost:8080/"
        },
        "id": "eWYX_66SKA-M",
        "outputId": "8c9609b7-e98c-4de1-e1c5-6ad9d06e1c26"
      },
      "execution_count": null,
      "outputs": [
        {
          "output_type": "stream",
          "name": "stdout",
          "text": [
            "123 12238765\n"
          ]
        },
        {
          "output_type": "execute_result",
          "data": {
            "text/plain": [
              "True"
            ]
          },
          "metadata": {},
          "execution_count": 146
        }
      ]
    },
    {
      "cell_type": "code",
      "source": [
        "# 測試用\n",
        "c = \"HJHHjhdjhf,jhfjkJJ,jfhKJ\"\n",
        "n = c.lower()\n",
        "print(n)"
      ],
      "metadata": {
        "id": "owwySdfKuzc-",
        "colab": {
          "base_uri": "https://localhost:8080/"
        },
        "outputId": "e1108f4c-90f4-4101-a3e3-d57c54c06fec"
      },
      "execution_count": null,
      "outputs": [
        {
          "output_type": "stream",
          "name": "stdout",
          "text": [
            "hjhhjhdjhf,jhfjkjj,jfhkj\n"
          ]
        }
      ]
    },
    {
      "cell_type": "code",
      "source": [
        "# 測試用\n",
        "x = \"trouble will come of it\"\n",
        "x1 = x.lower()\n",
        "password_n = \"\"\n",
        "ord(x[0])\n",
        "for i in range(len(x1)):\n",
        "  if ord(\"a\") <= ord(x1[i]) <= ord(\"z\"):\n",
        "    password_n = password_n + str(ord(x1[i]))\n",
        "  else:\n",
        "    pass\n",
        "print(type(password_n))\n",
        "password_n = int(password_n)\n",
        "print(password_n)\n",
        "print(type(password_n))"
      ],
      "metadata": {
        "colab": {
          "base_uri": "https://localhost:8080/"
        },
        "id": "_IiA3IVBsKBe",
        "outputId": "bb6b249f-57ee-4d44-aaae-e732a4932239"
      },
      "execution_count": null,
      "outputs": [
        {
          "output_type": "stream",
          "name": "stdout",
          "text": [
            "<class 'str'>\n",
            "1161141111179810810111910510810899111109101111102105116\n",
            "<class 'int'>\n"
          ]
        }
      ]
    },
    {
      "cell_type": "code",
      "source": [
        "# 測試用\n",
        "x = \"trouble will come of it\"\n",
        "y = \"564654651865486463165116105321021113210110911199321081081051193210110898117111114116\"\n",
        "password_n = \"\"\n",
        "ord(x[0])\n",
        "for i in range(len(x)):\n",
        "  password_n = str(ord(x[i])) + password_n\n",
        "while True:\n",
        "    if password_n in y:\n",
        "      print(\"成功\")\n",
        "      break\n",
        "    else:\n",
        "      print(\"失敗\")"
      ],
      "metadata": {
        "colab": {
          "base_uri": "https://localhost:8080/"
        },
        "id": "yHRZGl8ZEKxh",
        "outputId": "bf0dbbfb-813a-4172-e5d9-79c0087a35e8"
      },
      "execution_count": null,
      "outputs": [
        {
          "output_type": "stream",
          "name": "stdout",
          "text": [
            "成功\n"
          ]
        }
      ]
    },
    {
      "cell_type": "code",
      "source": [
        "# 測試用\n",
        "print(ord(\"e\"))\n",
        "print(ord(\" \"))\n",
        "print(ord(\"t\"))\n",
        "print(len(password))\n",
        "for i in range(len(password)):\n",
        "  print(ord(password[i]))"
      ],
      "metadata": {
        "colab": {
          "base_uri": "https://localhost:8080/"
        },
        "id": "TxknsZDQgbhd",
        "outputId": "874fa0d9-773c-4a25-b268-587dc748790d"
      },
      "execution_count": null,
      "outputs": [
        {
          "output_type": "stream",
          "name": "stdout",
          "text": [
            "101\n",
            "32\n",
            "116\n",
            "23\n",
            "116\n",
            "114\n",
            "111\n",
            "117\n",
            "98\n",
            "108\n",
            "101\n",
            "32\n",
            "119\n",
            "105\n",
            "108\n",
            "108\n",
            "32\n",
            "99\n",
            "111\n",
            "109\n",
            "101\n",
            "32\n",
            "111\n",
            "102\n",
            "32\n",
            "105\n",
            "116\n"
          ]
        }
      ]
    },
    {
      "cell_type": "markdown",
      "source": [
        "# 作業-03"
      ],
      "metadata": {
        "id": "7mbVO5r6uz-E"
      }
    },
    {
      "cell_type": "code",
      "source": [],
      "metadata": {
        "id": "XVPJyRWyU9IF"
      },
      "execution_count": null,
      "outputs": []
    },
    {
      "cell_type": "code",
      "source": [
        "!pip install ColabTurtle"
      ],
      "metadata": {
        "colab": {
          "base_uri": "https://localhost:8080/"
        },
        "id": "oPSpOxWNK1nX",
        "outputId": "d10ef4dc-671b-4672-efb2-923f201b97b4"
      },
      "execution_count": null,
      "outputs": [
        {
          "output_type": "stream",
          "name": "stdout",
          "text": [
            "Collecting ColabTurtle\n",
            "  Downloading ColabTurtle-2.1.0.tar.gz (6.8 kB)\n",
            "  Preparing metadata (setup.py) ... \u001b[?25l\u001b[?25hdone\n",
            "Building wheels for collected packages: ColabTurtle\n",
            "  Building wheel for ColabTurtle (setup.py) ... \u001b[?25l\u001b[?25hdone\n",
            "  Created wheel for ColabTurtle: filename=ColabTurtle-2.1.0-py3-none-any.whl size=7642 sha256=d97bb5de40a4ae83a5774d2dd0430e6fd3dd7a62a5f1dbc3aa5ec4269eebc25f\n",
            "  Stored in directory: /root/.cache/pip/wheels/5b/86/e8/54f5c8c853606e3a3060bb2e60363cbed632374a12e0f33ffc\n",
            "Successfully built ColabTurtle\n",
            "Installing collected packages: ColabTurtle\n",
            "Successfully installed ColabTurtle-2.1.0\n"
          ]
        }
      ]
    }
  ]
}