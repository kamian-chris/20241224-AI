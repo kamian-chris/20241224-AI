{
  "nbformat": 4,
  "nbformat_minor": 0,
  "metadata": {
    "colab": {
      "provenance": [],
      "authorship_tag": "ABX9TyPMBv46HlvjP0x/1vgCNA+U",
      "include_colab_link": true
    },
    "kernelspec": {
      "name": "python3",
      "display_name": "Python 3"
    },
    "language_info": {
      "name": "python"
    }
  },
  "cells": [
    {
      "cell_type": "markdown",
      "metadata": {
        "id": "view-in-github",
        "colab_type": "text"
      },
      "source": [
        "<a href=\"https://colab.research.google.com/github/kamian-chris/20241224-AI/blob/main/0106_01.ipynb\" target=\"_parent\"><img src=\"https://colab.research.google.com/assets/colab-badge.svg\" alt=\"Open In Colab\"/></a>"
      ]
    },
    {
      "cell_type": "markdown",
      "source": [
        "# 作業-01"
      ],
      "metadata": {
        "id": "V3y20Ys7K_xY"
      }
    },
    {
      "cell_type": "code",
      "source": [
        "# 由於需要一開始的 2個 數字，所以設P1, P2 並=0\n",
        "p1, p2 = 0, 0\n",
        "# 操控次數(經過下面算法，得知這邊total與階數的關係是2倍差，所以最後print時total * 2)\n",
        "total = 10\n",
        "\n",
        "for i in range(total):\n",
        "    if i < 1 :\n",
        "      # 因為經過講解，以及實際畫圖後得知 P3 = P1 + P2 -> Pn = P(n-1) + P(n-2)\n",
        "      # 所以我後續的理解是 -> 要有 Pn, 就先要有P(n-1) 以及 P(n-2), 也就是初始的2個數字，然後就可以往下做\n",
        "      # 至於為何 i < 1, 是我後面在print的時候，發現由於我是帶入2個數字, 所以一次 i 就會產出 2個數字(1組)\n",
        "      # 而 P1 為何等於 i + 1, 是因為range(total)是從 0 開始帶入, 但我一開始有 1 種做法(走1步)，所以 + 1\n",
        "      p1 = i + 1\n",
        "      # 而 P2 就會等於 (i + 1) + P1 種方法\n",
        "      p2 = (i + 1) + p1\n",
        "      # 由於此題我只需要一開始的 2 個數字, 所以剩下都交給else\n",
        "    else:\n",
        "      # 回傳P1 + P2 = 新的P1\n",
        "      p1 = p1 + p2\n",
        "      # 回傳P1 + P2 = 新的P2\n",
        "      p2 = p1 + p2\n",
        "      # 就會得到 3階 及 4階的數字\n",
        "    # print(p1, p2)\n",
        "    # 這邊我是實際列出來看一下答案，中間錯蠻多次的哈哈\n",
        "\n",
        "print(total * 2, \"階是:\", p2, \"種作法\")"
      ],
      "metadata": {
        "colab": {
          "base_uri": "https://localhost:8080/"
        },
        "id": "HKFHUjKpuv0P",
        "outputId": "b2df71ac-9315-40b6-f624-d06c330030c4"
      },
      "execution_count": null,
      "outputs": [
        {
          "output_type": "stream",
          "name": "stdout",
          "text": [
            "1 2\n",
            "3 5\n",
            "8 13\n",
            "21 34\n",
            "55 89\n",
            "144 233\n",
            "377 610\n",
            "987 1597\n",
            "2584 4181\n",
            "6765 10946\n",
            "20 階是: 10946 種作法\n"
          ]
        }
      ]
    },
    {
      "cell_type": "code",
      "source": [
        "# 我想驗證一下是否可行(若有3種步伐)\n",
        "# 順便寫一下輸入，以及轉換(3不好做)\n",
        "want_total = int(input(\"想要算到第幾階:\"))\n",
        "# 階層需要比取商多 1層，不然找不到取完商的後面2階\n",
        "layer = want_total // 3 + 1\n",
        "n = want_total % 3\n",
        "# print(layer, n)\n",
        "p1, p2, p3 = 0, 0, 0\n",
        "total = layer\n",
        "\n",
        "for i in range(total):\n",
        "    if i < 1 :\n",
        "      p1 = i + 1\n",
        "      p2 = (i + 1) + p1\n",
        "      p3 = (i + 1) + p2 + p1\n",
        "    else:\n",
        "      p1 = p1 + p2 + p3\n",
        "      p2 = p1 + p2 + p3\n",
        "      p3 = p1 + p2 + p3\n",
        "    # 嘗試 print 看看 -> 好像對(實際畫圖看看也對)\n",
        "    print(p1, p2, p3)\n",
        "    # 設定 np 為答案，討論關係\n",
        "\n",
        "# 最後已經迴圈完畢，準備取值\n",
        "if n == 1:\n",
        "  np = p1\n",
        "if n == 2:\n",
        "  np = p2\n",
        "# 只有當我們要找的階層可以被 3(若有3種步伐) 整除時，需要找上一個群組的最後一個(p3 - p2 - p1)\n",
        "if n == 0:\n",
        "  np = p3 - p2 - p1\n",
        "\n",
        "print(want_total, \"階是:\", np, \"種作法\")\n",
        "\n",
        "# 目前結論：看起來可以"
      ],
      "metadata": {
        "colab": {
          "base_uri": "https://localhost:8080/"
        },
        "id": "U0MdmyJ3dZsC",
        "outputId": "22170a3f-6334-4506-e290-286abe8de26d"
      },
      "execution_count": null,
      "outputs": [
        {
          "output_type": "stream",
          "name": "stdout",
          "text": [
            "想要算到第幾階:9\n",
            "1 2 4\n",
            "7 13 24\n",
            "44 81 149\n",
            "274 504 927\n",
            "9 階是: 149 種作法\n"
          ]
        }
      ]
    },
    {
      "cell_type": "code",
      "source": [
        "# 想要偶數階才能1或2步，單數階都1步 -> 只需最後定下單數階只顯示 1種(1步)\n",
        "want_total = int(input(\"想要算到第幾階:\"))\n",
        "p1, p2 = 0, 0\n",
        "# 固定 2 種走路方式(1步2步)\n",
        "step = 2\n",
        "layer = want_total // 2 + 1\n",
        "n = want_total % 2\n",
        "\n",
        "\n",
        "for i in range(layer):\n",
        "    if i < (step -1) :\n",
        "      p1 = i + 1\n",
        "      p2 = (i + 1) + p1\n",
        "    else:\n",
        "      p1 = p1 + p2\n",
        "      p2 = p1 + p2\n",
        "    print(p1, p2)\n",
        "\n",
        "if n == 0:\n",
        "  np = p2 - p1\n",
        "else:\n",
        "  np = 1\n",
        "\n",
        "print(want_total, \"階是:\", np, \"種作法\")"
      ],
      "metadata": {
        "colab": {
          "base_uri": "https://localhost:8080/"
        },
        "id": "NqB7lUd2PK9V",
        "outputId": "aeaf2b5f-d008-4ef3-913d-11194c207a32"
      },
      "execution_count": null,
      "outputs": [
        {
          "output_type": "stream",
          "name": "stdout",
          "text": [
            "想要算到第幾階:10\n",
            "1 2\n",
            "3 5\n",
            "8 13\n",
            "21 34\n",
            "55 89\n",
            "144 233\n",
            "10 階是: 89 種作法\n"
          ]
        }
      ]
    },
    {
      "cell_type": "markdown",
      "source": [
        "# 作業-02"
      ],
      "metadata": {
        "id": "q0fS9KAquwmu"
      }
    },
    {
      "cell_type": "markdown",
      "source": [
        "```python\n",
        "有點難，我先想，想法:\n",
        "1.載入文字\n",
        "2.我想用數字來驗證 -> ord()\n",
        "      1.先把提示給數字化\n",
        "      2.把文章數字化 -> 做 26 次\n",
        "      3.檢查 提示的數字 包含於哪串 轉化過的文章\n",
        "      4.確定後把文章轉化回來\n",
        "\n",
        "\n",
        "```"
      ],
      "metadata": {
        "id": "nTpUgKgiUPLp"
      }
    },
    {
      "cell_type": "code",
      "source": [
        "import urllib.request as req\n",
        "\n",
        "url = \"https://github.com/Elwing-Chou/tibame1224/raw/refs/heads/main/password.txt\"\n",
        "req.urlretrieve(url, \"password.txt\")\n",
        "f = open(\"password.txt\", \"r\", encoding=\"utf-8\")\n",
        "# 加密文件\n",
        "message = f.read()\n",
        "print(message)\n",
        "# 轉換用\n",
        "m1 = message.lower()\n",
        "m2 = \"\"\n",
        "# 對答案用\n",
        "message_n = \"\"\n",
        "\n",
        "# 轉化提示\n",
        "password = \"trouble will come of it\"\n",
        "password_n = \"\"\n",
        "for i in range(len(password)):\n",
        "    password_n =  password_n + str(ord(password[i]))\n",
        "# print(password_n)\n",
        "# 這是答案數字\n",
        "# print(password_n)\n",
        "\n",
        "\n",
        "# 把文章數字化\n",
        "\n",
        "\n",
        "# 把 message +1 (message -> ord -> +1 -> chr -> 丟回message)\n",
        "c = 0\n",
        "for i in range(26):\n",
        "    for i in range(len(message)):\n",
        "        if ord(\"a\") <= ord(message[i]) <= ord(\"z\"):\n",
        "          n1 = (ord(message[i])-ord(\"a\")+1) % (26)\n",
        "          m2 = m2 + chr(n1+ord(\"a\"))\n",
        "        else:\n",
        "          m2 = m2 + message[i]\n",
        "        # 直接轉化(連同符號)\n",
        "\n",
        "    for j in range(len(m2)):\n",
        "        message_n = message_n + str(ord(m2[j]))\n",
        "\n",
        "    print(m2)\n",
        "    if password_n in message_n:\n",
        "        break\n",
        "    else:\n",
        "        message = m2\n",
        "        m2 = \"\"\n",
        "        message_n = \"\"\n",
        "\n",
        "\n",
        "print(message_n)\n",
        "\n",
        "\n",
        "\n",
        "f.close()"
      ],
      "metadata": {
        "colab": {
          "base_uri": "https://localhost:8080/"
        },
        "id": "vhe01wxBqTuH",
        "outputId": "4fe58e5c-16a4-46a1-b393-ac95f302fe19"
      },
      "execution_count": 14,
      "outputs": [
        {
          "output_type": "stream",
          "name": "stdout",
          "text": [
            "p adcv-tmetrits epgin\n",
            "\n",
            "lwtc bg. qxaqd qpvvxch du qpv tcs pccdjcrts iwpi wt ldjas hwdgian qt rtatqgpixcv wxh tatktcin-uxghi qxgiwspn lxiw p epgin du hetrxpa bpvcxuxrtcrt, iwtgt lph bjrw ipaz pcs tmrxitbtci xc wdqqxidc.\n",
            "\n",
            "qxaqd lph ktgn gxrw pcs ktgn etrjaxpg, pcs wps qttc iwt ldcstg du iwt hwxgt udg hxmin ntpgh, tktg hxcrt wxh gtbpgzpqat sxhpeetpgpcrt pcs jctmetrits gtijgc. iwt gxrwth wt wps qgdjvwi qprz ugdb wxh igpktah wps cdl qtrdbt p adrpa atvtcs, pcs xi lph edejapgan qtaxtkts, lwpitktg iwt das udaz bxvwi hpn, iwpi iwt wxaa pi qpv tcs lph ujaa du ijcctah hijuuts lxiw igtphjgt. pcs xu iwpi lph cdi tcdjvw udg upbt, iwtgt lph pahd wxh egdadcvts kxvdjg id bpgkta pi. ixbt ldgt dc, qji xi httbts id wpkt axiiat tuutri dc bg. qpvvxch. pi cxctin wt lph bjrw iwt hpbt ph pi uxuin. pi cxctin-cxct iwtn qtvpc id rpaa wxb ltaa-egthtgkts, qji jcrwpcvts ldjas wpkt qttc ctpgtg iwt bpgz. iwtgt ltgt hdbt iwpi hwddz iwtxg wtpsh pcs iwdjvwi iwxh lph idd bjrw du p vdds iwxcv; xi httbts jcupxg iwpi pcndct hwdjas edhhthh (peepgtcian) etgetijpa ndjiw ph ltaa ph (gtejitsan) xctmwpjhixqat ltpaiw.\n",
            "\n",
            "'xi lxaa wpkt id qt epxs udg,' iwtn hpxs. 'xi xhc'i cpijgpa, pcs igdjqat lxaa rdbt du xi!'\n",
            "q bedw-unfusjut fqhjo\n",
            "\n",
            "mxud ch. rybre rqwwydi ev rqw udt qddekdsut jxqj xu mekbt ixehjbo ru suburhqjydw xyi ubuludjo-vyhij ryhjxtqo myjx q fqhjo ev ifusyqb cqwdyvysudsu, jxuhu mqi cksx jqba qdt unsyjucudj yd xerryjed.\n",
            "\n",
            "rybre mqi luho hysx qdt luho fuskbyqh, qdt xqt ruud jxu medtuh ev jxu ixyhu veh iynjo ouqhi, uluh iydsu xyi hucqhaqrbu tyiqffuqhqdsu qdt kdunfusjut hujkhd. jxu hysxui xu xqt rhekwxj rqsa vhec xyi jhqlubi xqt dem rusecu q besqb buwudt, qdt yj mqi fefkbqhbo rubyulut, mxqjuluh jxu ebt veba cywxj iqo, jxqj jxu xybb qj rqw udt mqi vkbb ev jkddubi ijkvvut myjx jhuqikhu. qdt yv jxqj mqi dej udekwx veh vqcu, jxuhu mqi qbie xyi fhebedwut lywekh je cqhlub qj. jycu mehu ed, rkj yj iuucut je xqlu byjjbu uvvusj ed ch. rqwwydi. qj dydujo xu mqi cksx jxu iqcu qi qj vyvjo. qj dydujo-dydu jxuo ruwqd je sqbb xyc mubb-fhuiuhlut, rkj kdsxqdwut mekbt xqlu ruud duqhuh jxu cqha. jxuhu muhu iecu jxqj ixeea jxuyh xuqti qdt jxekwxj jxyi mqi jee cksx ev q weet jxydw; yj iuucut kdvqyh jxqj qdoedu ixekbt feiiuii (qffqhudjbo) fuhfujkqb oekjx qi mubb qi (hufkjutbo) ydunxqkijyrbu muqbjx.\n",
            "\n",
            "'yj mybb xqlu je ru fqyt veh,' jxuo iqyt. 'yj yid'j dqjkhqb, qdt jhekrbu mybb secu ev yj!'\n",
            "r cfex-vogvtkvu grikp\n",
            "\n",
            "nyve di. szcsf srxxzej fw srx veu reefletvu kyrk yv nflcu jyfikcp sv tvcvsirkzex yzj vcvmvekp-wzijk szikyurp nzky r grikp fw jgvtzrc drxezwztvetv, kyviv nrj dlty krcb reu votzkvdvek ze yfsszkfe.\n",
            "\n",
            "szcsf nrj mvip izty reu mvip gvtlczri, reu yru svve kyv nfeuvi fw kyv jyziv wfi jzokp pvrij, vmvi jzetv yzj ivdribrscv uzjrggvriretv reu levogvtkvu ivklie. kyv iztyvj yv yru siflxyk srtb wifd yzj kirmvcj yru efn svtfdv r cftrc cvxveu, reu zk nrj gfglcricp svczvmvu, nyrkvmvi kyv fcu wfcb dzxyk jrp, kyrk kyv yzcc rk srx veu nrj wlcc fw kleevcj jklwwvu nzky kivrjliv. reu zw kyrk nrj efk veflxy wfi wrdv, kyviv nrj rcjf yzj gifcfexvu mzxfli kf drimvc rk. kzdv nfiv fe, slk zk jvvdvu kf yrmv czkkcv vwwvtk fe di. srxxzej. rk ezevkp yv nrj dlty kyv jrdv rj rk wzwkp. rk ezevkp-ezev kyvp svxre kf trcc yzd nvcc-givjvimvu, slk letyrexvu nflcu yrmv svve evrivi kyv drib. kyviv nviv jfdv kyrk jyffb kyvzi yvruj reu kyflxyk kyzj nrj kff dlty fw r xffu kyzex; zk jvvdvu lewrzi kyrk repfev jyflcu gfjjvjj (rggrivekcp) gvigvklrc pflky rj nvcc rj (ivglkvucp) zevoyrljkzscv nvrcky.\n",
            "\n",
            "'zk nzcc yrmv kf sv grzu wfi,' kyvp jrzu. 'zk zje'k erklirc, reu kiflscv nzcc tfdv fw zk!'\n",
            "s dgfy-wphwulwv hsjlq\n",
            "\n",
            "ozwf ej. tadtg tsyyafk gx tsy wfv sffgmfuwv lzsl zw ogmdv kzgjldq tw uwdwtjslafy zak wdwnwflq-xajkl tajlzvsq oalz s hsjlq gx khwuasd esyfaxauwfuw, lzwjw osk emuz lsdc sfv wpualwewfl af zgttalgf.\n",
            "\n",
            "tadtg osk nwjq jauz sfv nwjq hwumdasj, sfv zsv twwf lzw ogfvwj gx lzw kzajw xgj kaplq qwsjk, wnwj kafuw zak jwesjcstdw vakshhwsjsfuw sfv mfwphwulwv jwlmjf. lzw jauzwk zw zsv tjgmyzl tsuc xjge zak ljsnwdk zsv fgo twugew s dgusd dwywfv, sfv al osk hghmdsjdq twdawnwv, ozslwnwj lzw gdv xgdc eayzl ksq, lzsl lzw zadd sl tsy wfv osk xmdd gx lmffwdk klmxxwv oalz ljwskmjw. sfv ax lzsl osk fgl wfgmyz xgj xsew, lzwjw osk sdkg zak hjgdgfywv naygmj lg esjnwd sl. laew ogjw gf, tml al kwwewv lg zsnw dalldw wxxwul gf ej. tsyyafk. sl fafwlq zw osk emuz lzw ksew sk sl xaxlq. sl fafwlq-fafw lzwq twysf lg usdd zae owdd-hjwkwjnwv, tml mfuzsfywv ogmdv zsnw twwf fwsjwj lzw esjc. lzwjw owjw kgew lzsl kzggc lzwaj zwsvk sfv lzgmyzl lzak osk lgg emuz gx s yggv lzafy; al kwwewv mfxsaj lzsl sfqgfw kzgmdv hgkkwkk (shhsjwfldq) hwjhwlmsd qgmlz sk owdd sk (jwhmlwvdq) afwpzsmklatdw owsdlz.\n",
            "\n",
            "'al oadd zsnw lg tw hsav xgj,' lzwq ksav. 'al akf'l fslmjsd, sfv ljgmtdw oadd ugew gx al!'\n",
            "t ehgz-xqixvmxw itkmr\n",
            "\n",
            "paxg fk. ubeuh utzzbgl hy utz xgw tgghngvxw matm ax phnew lahkmer ux vxexuktmbgz abl xexoxgmr-ybklm ubkmawtr pbma t itkmr hy lixvbte ftzgbybvxgvx, maxkx ptl fnva mted tgw xqvbmxfxgm bg ahuubmhg.\n",
            "\n",
            "ubeuh ptl oxkr kbva tgw oxkr ixvnebtk, tgw atw uxxg max phgwxk hy max labkx yhk lbqmr rxtkl, xoxk lbgvx abl kxftkdtuex wbltiixtktgvx tgw ngxqixvmxw kxmnkg. max kbvaxl ax atw ukhnzam utvd ykhf abl mktoxel atw ghp uxvhfx t ehvte exzxgw, tgw bm ptl ihinetker uxebxoxw, patmxoxk max hew yhed fbzam ltr, matm max abee tm utz xgw ptl ynee hy mnggxel lmnyyxw pbma mkxtlnkx. tgw by matm ptl ghm xghnza yhk ytfx, maxkx ptl telh abl ikhehgzxw obzhnk mh ftkoxe tm. mbfx phkx hg, unm bm lxxfxw mh atox ebmmex xyyxvm hg fk. utzzbgl. tm gbgxmr ax ptl fnva max ltfx tl tm ybymr. tm gbgxmr-gbgx maxr uxztg mh vtee abf pxee-ikxlxkoxw, unm ngvatgzxw phnew atox uxxg gxtkxk max ftkd. maxkx pxkx lhfx matm lahhd maxbk axtwl tgw mahnzam mabl ptl mhh fnva hy t zhhw mabgz; bm lxxfxw ngytbk matm tgrhgx lahnew ihllxll (tiitkxgmer) ixkixmnte rhnma tl pxee tl (kxinmxwer) bgxqatnlmbuex pxtema.\n",
            "\n",
            "'bm pbee atox mh ux itbw yhk,' maxr ltbw. 'bm blg'm gtmnkte, tgw mkhnuex pbee vhfx hy bm!'\n",
            "u fiha-yrjywnyx julns\n",
            "\n",
            "qbyh gl. vcfvi vuaachm iz vua yhx uhhiohwyx nbun by qiofx mbilnfs vy wyfyvluncha bcm yfypyhns-zclmn vclnbxus qcnb u julns iz mjywcuf guahczcwyhwy, nbyly qum gowb nufe uhx yrwcnygyhn ch bivvcnih.\n",
            "\n",
            "vcfvi qum pyls lcwb uhx pyls jywofcul, uhx bux vyyh nby qihxyl iz nby mbcly zil mcrns syulm, ypyl mchwy bcm lyguleuvfy xcmujjyuluhwy uhx ohyrjywnyx lynolh. nby lcwbym by bux vlioabn vuwe zlig bcm nlupyfm bux hiq vywigy u fiwuf fyayhx, uhx cn qum jijofulfs vyfcypyx, qbunypyl nby ifx zife gcabn mus, nbun nby bcff un vua yhx qum zoff iz nohhyfm mnozzyx qcnb nlyumoly. uhx cz nbun qum hin yhioab zil zugy, nbyly qum ufmi bcm jlifihayx pcaiol ni gulpyf un. ncgy qily ih, von cn myygyx ni bupy fcnnfy yzzywn ih gl. vuaachm. un hchyns by qum gowb nby mugy um un zczns. un hchyns-hchy nbys vyauh ni wuff bcg qyff-jlymylpyx, von ohwbuhayx qiofx bupy vyyh hyulyl nby gule. nbyly qyly migy nbun mbiie nbycl byuxm uhx nbioabn nbcm qum nii gowb iz u aiix nbcha; cn myygyx ohzucl nbun uhsihy mbiofx jimmymm (ujjulyhnfs) jyljynouf sionb um qyff um (lyjonyxfs) chyrbuomncvfy qyufnb.\n",
            "\n",
            "'cn qcff bupy ni vy jucx zil,' nbys mucx. 'cn cmh'n hunoluf, uhx nliovfy qcff wigy iz cn!'\n",
            "v gjib-zskzxozy kvmot\n",
            "\n",
            "rczi hm. wdgwj wvbbdin ja wvb ziy viijpixzy ocvo cz rjpgy ncjmogt wz xzgzwmvodib cdn zgzqziot-admno wdmocyvt rdoc v kvmot ja nkzxdvg hvbidadxzixz, oczmz rvn hpxc ovgf viy zsxdozhzio di cjwwdoji.\n",
            "\n",
            "wdgwj rvn qzmt mdxc viy qzmt kzxpgdvm, viy cvy wzzi ocz rjiyzm ja ocz ncdmz ajm ndsot tzvmn, zqzm ndixz cdn mzhvmfvwgz ydnvkkzvmvixz viy pizskzxozy mzopmi. ocz mdxczn cz cvy wmjpbco wvxf amjh cdn omvqzgn cvy ijr wzxjhz v gjxvg gzbziy, viy do rvn kjkpgvmgt wzgdzqzy, rcvozqzm ocz jgy ajgf hdbco nvt, ocvo ocz cdgg vo wvb ziy rvn apgg ja opiizgn nopaazy rdoc omzvnpmz. viy da ocvo rvn ijo zijpbc ajm avhz, oczmz rvn vgnj cdn kmjgjibzy qdbjpm oj hvmqzg vo. odhz rjmz ji, wpo do nzzhzy oj cvqz gdoogz zaazxo ji hm. wvbbdin. vo idizot cz rvn hpxc ocz nvhz vn vo adaot. vo idizot-idiz oczt wzbvi oj xvgg cdh rzgg-kmznzmqzy, wpo pixcvibzy rjpgy cvqz wzzi izvmzm ocz hvmf. oczmz rzmz njhz ocvo ncjjf oczdm czvyn viy ocjpbco ocdn rvn ojj hpxc ja v bjjy ocdib; do nzzhzy piavdm ocvo vitjiz ncjpgy kjnnznn (vkkvmziogt) kzmkzopvg tjpoc vn rzgg vn (mzkpozygt) dizscvpnodwgz rzvgoc.\n",
            "\n",
            "'do rdgg cvqz oj wz kvdy ajm,' oczt nvdy. 'do dni'o ivopmvg, viy omjpwgz rdgg xjhz ja do!'\n",
            "w hkjc-atlaypaz lwnpu\n",
            "\n",
            "sdaj in. xehxk xwccejo kb xwc ajz wjjkqjyaz pdwp da skqhz odknphu xa yahaxnwpejc deo aharajpu-benop xenpdzwu sepd w lwnpu kb olayewh iwcjebeyajya, pdana swo iqyd pwhg wjz atyepaiajp ej dkxxepkj.\n",
            "\n",
            "xehxk swo ranu neyd wjz ranu layqhewn, wjz dwz xaaj pda skjzan kb pda odena bkn oetpu uawno, aran oejya deo naiwngwxha zeowllawnwjya wjz qjatlaypaz napqnj. pda neydao da dwz xnkqcdp xwyg bnki deo pnwraho dwz jks xaykia w hkywh hacajz, wjz ep swo lklqhwnhu xahearaz, sdwparan pda khz bkhg iecdp owu, pdwp pda dehh wp xwc ajz swo bqhh kb pqjjaho opqbbaz sepd pnawoqna. wjz eb pdwp swo jkp ajkqcd bkn bwia, pdana swo whok deo lnkhkjcaz reckqn pk iwnrah wp. peia skna kj, xqp ep oaaiaz pk dwra heppha abbayp kj in. xwccejo. wp jejapu da swo iqyd pda owia wo wp bebpu. wp jejapu-jeja pdau xacwj pk ywhh dei sahh-lnaoanraz, xqp qjydwjcaz skqhz dwra xaaj jawnan pda iwng. pdana sana okia pdwp odkkg pdaen dawzo wjz pdkqcdp pdeo swo pkk iqyd kb w ckkz pdejc; ep oaaiaz qjbwen pdwp wjukja odkqhz lkooaoo (wllwnajphu) lanlapqwh ukqpd wo sahh wo (nalqpazhu) ejatdwqopexha sawhpd.\n",
            "\n",
            "'ep sehh dwra pk xa lwez bkn,' pdau owez. 'ep eoj'p jwpqnwh, wjz pnkqxha sehh ykia kb ep!'\n",
            "x ilkd-bumbzqba mxoqv\n",
            "\n",
            "tebk jo. yfiyl yxddfkp lc yxd bka xkklrkzba qexq eb tlria peloqiv yb zbibyoxqfkd efp bibsbkqv-cfopq yfoqeaxv tfqe x mxoqv lc pmbzfxi jxdkfcfzbkzb, qebob txp jrze qxih xka buzfqbjbkq fk elyyfqlk.\n",
            "\n",
            "yfiyl txp sbov ofze xka sbov mbzrifxo, xka exa ybbk qeb tlkabo lc qeb pefob clo pfuqv vbxop, bsbo pfkzb efp objxohxyib afpxmmbxoxkzb xka rkbumbzqba obqrok. qeb ofzebp eb exa yolrdeq yxzh colj efp qoxsbip exa klt ybzljb x ilzxi ibdbka, xka fq txp mlmrixoiv ybifbsba, texqbsbo qeb lia clih jfdeq pxv, qexq qeb efii xq yxd bka txp crii lc qrkkbip pqrccba tfqe qobxprob. xka fc qexq txp klq bklrde clo cxjb, qebob txp xipl efp molilkdba sfdlro ql jxosbi xq. qfjb tlob lk, yrq fq pbbjba ql exsb ifqqib bccbzq lk jo. yxddfkp. xq kfkbqv eb txp jrze qeb pxjb xp xq cfcqv. xq kfkbqv-kfkb qebv ybdxk ql zxii efj tbii-mobpbosba, yrq rkzexkdba tlria exsb ybbk kbxobo qeb jxoh. qebob tbob pljb qexq pellh qebfo ebxap xka qelrdeq qefp txp qll jrze lc x dlla qefkd; fq pbbjba rkcxfo qexq xkvlkb pelria mlppbpp (xmmxobkqiv) mbombqrxi vlrqe xp tbii xp (obmrqbaiv) fkbuexrpqfyib tbxiqe.\n",
            "\n",
            "'fq tfii exsb ql yb mxfa clo,' qebv pxfa. 'fq fpk'q kxqroxi, xka qolryib tfii zljb lc fq!'\n",
            "y jmle-cvncarcb nyprw\n",
            "\n",
            "ufcl kp. zgjzm zyeeglq md zye clb yllmslacb rfyr fc umsjb qfmprjw zc acjczpyrgle fgq cjctclrw-dgpqr zgprfbyw ugrf y nyprw md qncagyj kyelgdgaclac, rfcpc uyq ksaf ryji ylb cvagrckclr gl fmzzgrml.\n",
            "\n",
            "zgjzm uyq tcpw pgaf ylb tcpw ncasjgyp, ylb fyb zccl rfc umlbcp md rfc qfgpc dmp qgvrw wcypq, ctcp qglac fgq pckypiyzjc bgqynncypylac ylb slcvncarcb pcrspl. rfc pgafcq fc fyb zpmsefr zyai dpmk fgq rpytcjq fyb lmu zcamkc y jmayj jceclb, ylb gr uyq nmnsjypjw zcjgctcb, ufyrctcp rfc mjb dmji kgefr qyw, rfyr rfc fgjj yr zye clb uyq dsjj md rsllcjq qrsddcb ugrf rpcyqspc. ylb gd rfyr uyq lmr clmsef dmp dykc, rfcpc uyq yjqm fgq npmjmlecb tgemsp rm kyptcj yr. rgkc umpc ml, zsr gr qcckcb rm fytc jgrrjc cddcar ml kp. zyeeglq. yr lglcrw fc uyq ksaf rfc qykc yq yr dgdrw. yr lglcrw-lglc rfcw zceyl rm ayjj fgk ucjj-npcqcptcb, zsr slafylecb umsjb fytc zccl lcypcp rfc kypi. rfcpc ucpc qmkc rfyr qfmmi rfcgp fcybq ylb rfmsefr rfgq uyq rmm ksaf md y emmb rfgle; gr qcckcb sldygp rfyr ylwmlc qfmsjb nmqqcqq (ynnypclrjw) ncpncrsyj wmsrf yq ucjj yq (pcnsrcbjw) glcvfysqrgzjc ucyjrf.\n",
            "\n",
            "'gr ugjj fytc rm zc nygb dmp,' rfcw qygb. 'gr gql'r lyrspyj, ylb rpmszjc ugjj amkc md gr!'\n",
            "z knmf-dwodbsdc ozqsx\n",
            "\n",
            "vgdm lq. ahkan azffhmr ne azf dmc zmmntmbdc sgzs gd vntkc rgnqskx ad bdkdaqzshmf ghr dkdudmsx-ehqrs ahqsgczx vhsg z ozqsx ne rodbhzk lzfmhehbdmbd, sgdqd vzr ltbg szkj zmc dwbhsdldms hm gnaahsnm.\n",
            "\n",
            "ahkan vzr udqx qhbg zmc udqx odbtkhzq, zmc gzc addm sgd vnmcdq ne sgd rghqd enq rhwsx xdzqr, dudq rhmbd ghr qdlzqjzakd chrzoodzqzmbd zmc tmdwodbsdc qdstqm. sgd qhbgdr gd gzc aqntfgs azbj eqnl ghr sqzudkr gzc mnv adbnld z knbzk kdfdmc, zmc hs vzr onotkzqkx adkhdudc, vgzsdudq sgd nkc enkj lhfgs rzx, sgzs sgd ghkk zs azf dmc vzr etkk ne stmmdkr rsteedc vhsg sqdzrtqd. zmc he sgzs vzr mns dmntfg enq ezld, sgdqd vzr zkrn ghr oqnknmfdc uhfntq sn lzqudk zs. shld vnqd nm, ats hs rddldc sn gzud khsskd deedbs nm lq. azffhmr. zs mhmdsx gd vzr ltbg sgd rzld zr zs ehesx. zs mhmdsx-mhmd sgdx adfzm sn bzkk ghl vdkk-oqdrdqudc, ats tmbgzmfdc vntkc gzud addm mdzqdq sgd lzqj. sgdqd vdqd rnld sgzs rgnnj sgdhq gdzcr zmc sgntfgs sghr vzr snn ltbg ne z fnnc sghmf; hs rddldc tmezhq sgzs zmxnmd rgntkc onrrdrr (zoozqdmskx) odqodstzk xntsg zr vdkk zr (qdotsdckx) hmdwgztrshakd vdzksg.\n",
            "\n",
            "'hs vhkk gzud sn ad ozhc enq,' sgdx rzhc. 'hs hrm's mzstqzk, zmc sqntakd vhkk bnld ne hs!'\n",
            "a long-expected party\n",
            "\n",
            "when mr. bilbo baggins of bag end announced that he would shortly be celebrating his eleventy-first birthday with a party of special magnificence, there was much talk and excitement in hobbiton.\n",
            "\n",
            "bilbo was very rich and very peculiar, and had been the wonder of the shire for sixty years, ever since his remarkable disappearance and unexpected return. the riches he had brought back from his travels had now become a local legend, and it was popularly believed, whatever the old folk might say, that the hill at bag end was full of tunnels stuffed with treasure. and if that was not enough for fame, there was also his prolonged vigour to marvel at. time wore on, but it seemed to have little effect on mr. baggins. at ninety he was much the same as at fifty. at ninety-nine they began to call him well-preserved, but unchanged would have been nearer the mark. there were some that shook their heads and thought this was too much of a good thing; it seemed unfair that anyone should possess (apparently) perpetual youth as well as (reputedly) inexhaustible wealth.\n",
            "\n",
            "'it will have to be paid for,' they said. 'it isn't natural, and trouble will come of it!'\n",
            "9732108111110103451011201121019911610110032112971141161211010119104101110321091144632981051089811132989710310310511011532111102329897103321011101003297110110111117110991011003211610497116321041013211911111710810032115104111114116108121329810132991011081019811497116105110103321041051153210110810111810111011612145102105114115116329810511411610410097121321191051161043297321129711411612132111102321151121019910597108321099710311010510210599101110991014432116104101114101321199711532109117991043211697108107329711010032101120991051161011091011101163210511032104111989810511611111046101098105108981113211997115321181011141213211410599104329711010032118101114121321121019911710810597114443297110100321049710032981011011103211610410132119111110100101114321111023211610410132115104105114101321021111143211510512011612132121101971141154432101118101114321151051109910132104105115321141011099711410797981081013210010511597112112101971149711099101329711010032117110101120112101991161011003211410111611711411046321161041013211410599104101115321041013210497100329811411111710310411632989799107321021141111093210410511532116114971181011081153210497100321101111193298101991111091013297321081119997108321081011031011101004432971101003210511632119971153211211111211710897114108121329810110810510111810110044321191049711610111810111432116104101321111081003210211110810732109105103104116321159712144321161049711632116104101321041051081083297116329897103321011101003211997115321021171081083211110232116117110110101108115321151161171021021011003211910511610432116114101971151171141014632971101003210510232116104971163211997115321101111163210111011111710310432102111114321029710910144321161041011141013211997115329710811511132104105115321121141111081111101031011003211810510311111711432116111321099711411810110832971164632116105109101321191111141013211111044329811711632105116321151011011091011003211611132104971181013210810511611610810132101102102101991163211111032109114463298971031031051101154632971163211010511010111612132104101321199711532109117991043211610410132115971091013297115329711632102105102116121463297116321101051101011161214511010511010132116104101121329810110397110321161113299971081083210410510932119101108108451121141011151011141181011004432981171163211711099104971101031011003211911111710810032104971181013298101101110321101019711410111432116104101321099711410746321161041011141013211910111410132115111109101321161049711632115104111111107321161041011051143210410197100115329711010032116104111117103104116321161041051153211997115321161111113210911799104321111023297321031111111003211610410511010359321051163211510110110910110032117110102971051143211610497116329711012111111010132115104111117108100321121111151151011151153240971121129711410111011610812141321121011141121011161179710832121111117116104329711532119101108108329711532401141011121171161011001081214132105110101120104971171151161059810810132119101971081161044610103910511632119105108108321049711810132116111329810132112971051003210211111444393211610410112132115971051004632391051163210511511039116321109711611711497108443297110100321161141111179810810132119105108108329911110910132111102321051163339\n"
          ]
        }
      ]
    },
    {
      "cell_type": "code",
      "source": [
        "password_n in message_n"
      ],
      "metadata": {
        "colab": {
          "base_uri": "https://localhost:8080/"
        },
        "id": "E1hTnzxYo7jK",
        "outputId": "0f43389e-aaa7-482d-8d0a-25cdb31103f6"
      },
      "execution_count": 10,
      "outputs": [
        {
          "output_type": "execute_result",
          "data": {
            "text/plain": [
              "False"
            ]
          },
          "metadata": {},
          "execution_count": 10
        }
      ]
    },
    {
      "cell_type": "code",
      "source": [
        "for i in range(len(message)):\n",
        "    if ord(\"a\") <= ord(message[i]) <= ord(\"z\"):\n",
        "        m2 = ord(message[i]) + 1\n",
        "        m1 = m1 + chr(m2)\n",
        "    else:\n",
        "      pass\n",
        "print(message)\n",
        "print(m1)"
      ],
      "metadata": {
        "colab": {
          "base_uri": "https://localhost:8080/"
        },
        "id": "L0Oz6AElWkJD",
        "outputId": "12a92a3e-ae8e-41bf-f5f1-7bf1cb7a2f99"
      },
      "execution_count": null,
      "outputs": [
        {
          "output_type": "stream",
          "name": "stdout",
          "text": [
            "p adcv-tmetrits epgin\n",
            "\n",
            "lwtc bg. qxaqd qpvvxch du qpv tcs pccdjcrts iwpi wt ldjas hwdgian qt rtatqgpixcv wxh tatktcin-uxghi qxgiwspn lxiw p epgin du hetrxpa bpvcxuxrtcrt, iwtgt lph bjrw ipaz pcs tmrxitbtci xc wdqqxidc.\n",
            "\n",
            "qxaqd lph ktgn gxrw pcs ktgn etrjaxpg, pcs wps qttc iwt ldcstg du iwt hwxgt udg hxmin ntpgh, tktg hxcrt wxh gtbpgzpqat sxhpeetpgpcrt pcs jctmetrits gtijgc. iwt gxrwth wt wps qgdjvwi qprz ugdb wxh igpktah wps cdl qtrdbt p adrpa atvtcs, pcs xi lph edejapgan qtaxtkts, lwpitktg iwt das udaz bxvwi hpn, iwpi iwt wxaa pi qpv tcs lph ujaa du ijcctah hijuuts lxiw igtphjgt. pcs xu iwpi lph cdi tcdjvw udg upbt, iwtgt lph pahd wxh egdadcvts kxvdjg id bpgkta pi. ixbt ldgt dc, qji xi httbts id wpkt axiiat tuutri dc bg. qpvvxch. pi cxctin wt lph bjrw iwt hpbt ph pi uxuin. pi cxctin-cxct iwtn qtvpc id rpaa wxb ltaa-egthtgkts, qji jcrwpcvts ldjas wpkt qttc ctpgtg iwt bpgz. iwtgt ltgt hdbt iwpi hwddz iwtxg wtpsh pcs iwdjvwi iwxh lph idd bjrw du p vdds iwxcv; xi httbts jcupxg iwpi pcndct hwdjas edhhthh (peepgtcian) etgetijpa ndjiw ph ltaa ph (gtejitsan) xctmwpjhixqat ltpaiw.\n",
            "\n",
            "'xi lxaa wpkt id qt epxs udg,' iwtn hpxs. 'xi xhc'i cpijgpa, pcs igdjqat lxaa rdbt du xi!'\n",
            "kllmlmmnlmmnmnnoqbedwunfusjutfqhjomxudchrybrerqwwydievrqwudtqddekdsutjxqjxumekbtixehjborusuburhqjydwxyiubuludjovyhijryhjxtqomyjxqfqhjoevifusyqbcqwdyvysudsujxuhumqicksxjqb{qdtunsyjucudjydxerryjedrybremqiluhohysxqdtluhofuskbyqhqdtxqtruudjxumedtuhevjxuixyhuvehiynjoouqhiuluhiydsuxyihucqh{qrbutyiqffuqhqdsuqdtkdunfusjuthujkhdjxuhysxuixuxqtrhekwxjrqs{vhecxyijhqlubixqtdemrusecuqbesqbbuwudtqdtyjmqifefkbqhborubyulutmxqjuluhjxuebtveb{cywxjiqojxqjjxuxybbqjrqwudtmqivkbbevjkddubiijkvvutmyjxjhuqikhuqdtyvjxqjmqidejudekwxvehvqcujxuhumqiqbiexyifhebedwutlywekhjecqhlubqjjycumehuedrkjyjiuucutjexqlubyjjbuuvvusjedchrqwwydiqjdydujoxumqicksxjxuiqcuqiqjvyvjoqjdydujodydujxuoruwqdjesqbbxycmubbfhuiuhlutrkjkdsxqdwutmekbtxqluruudduqhuhjxucqh{jxuhumuhuiecujxqjixee{jxuyhxuqtiqdtjxekwxjjxyimqijeecksxevqweetjxydwyjiuucutkdvqyhjxqjqdoeduixekbtfeiiuiiqffqhudjbofuhfujkqboekjxqimubbqihufkjutboydunxqkijyrbumuqbjxyjmybbxqlujerufqytvehjxuoiqytyjyidjdqjkhqbqdtjhekrbumybbsecuevyjqbedwunfusjutfqhjomxudchrybrerqwwydievrqwudtqddekdsutjxqjxumekbtixehjborusuburhqjydwxyiubuludjovyhijryhjxtqomyjxqfqhjoevifusyqbcqwdyvysudsujxuhumqicksxjqb{qdtunsyjucudjydxerryjedrybremqiluhohysxqdtluhofuskbyqhqdtxqtruudjxumedtuhevjxuixyhuvehiynjoouqhiuluhiydsuxyihucqh{qrbutyiqffuqhqdsuqdtkdunfusjuthujkhdjxuhysxuixuxqtrhekwxjrqs{vhecxyijhqlubixqtdemrusecuqbesqbbuwudtqdtyjmqifefkbqhborubyulutmxqjuluhjxuebtveb{cywxjiqojxqjjxuxybbqjrqwudtmqivkbbevjkddubiijkvvutmyjxjhuqikhuqdtyvjxqjmqidejudekwxvehvqcujxuhumqiqbiexyifhebedwutlywekhjecqhlubqjjycumehuedrkjyjiuucutjexqlubyjjbuuvvusjedchrqwwydiqjdydujoxumqicksxjxuiqcuqiqjvyvjoqjdydujodydujxuoruwqdjesqbbxycmubbfhuiuhlutrkjkdsxqdwutmekbtxqluruudduqhuhjxucqh{jxuhumuhuiecujxqjixee{jxuyhxuqtiqdtjxekwxjjxyimqijeecksxevqweetjxydwyjiuucutkdvqyhjxqjqdoeduixekbtfeiiuiiqffqhudjbofuhfujkqboekjxqimubbqihufkjutboydunxqkijyrbumuqbjxyjmybbxqlujerufqytvehjxuoiqytyjyidjdqjkhqbqdtjhekrbumybbsecuevyjqbedwunfusjutfqhjomxudchrybrerqwwydievrqwudtqddekdsutjxqjxumekbtixehjborusuburhqjydwxyiubuludjovyhijryhjxtqomyjxqfqhjoevifusyqbcqwdyvysudsujxuhumqicksxjqb{qdtunsyjucudjydxerryjedrybremqiluhohysxqdtluhofuskbyqhqdtxqtruudjxumedtuhevjxuixyhuvehiynjoouqhiuluhiydsuxyihucqh{qrbutyiqffuqhqdsuqdtkdunfusjuthujkhdjxuhysxuixuxqtrhekwxjrqs{vhecxyijhqlubixqtdemrusecuqbesqbbuwudtqdtyjmqifefkbqhborubyulutmxqjuluhjxuebtveb{cywxjiqojxqjjxuxybbqjrqwudtmqivkbbevjkddubiijkvvutmyjxjhuqikhuqdtyvjxqjmqidejudekwxvehvqcujxuhumqiqbiexyifhebedwutlywekhjecqhlubqjjycumehuedrkjyjiuucutjexqlubyjjbuuvvusjedchrqwwydiqjdydujoxumqicksxjxuiqcuqiqjvyvjoqjdydujodydujxuoruwqdjesqbbxycmubbfhuiuhlutrkjkdsxqdwutmekbtxqluruudduqhuhjxucqh{jxuhumuhuiecujxqjixee{jxuyhxuqtiqdtjxekwxjjxyimqijeecksxevqweetjxydwyjiuucutkdvqyhjxqjqdoeduixekbtfeiiuiiqffqhudjbofuhfujkqboekjxqimubbqihufkjutboydunxqkijyrbumuqbjxyjmybbxqlujerufqytvehjxuoiqytyjyidjdqjkhqbqdtjhekrbumybbsecuevyj\n"
          ]
        }
      ]
    },
    {
      "cell_type": "code",
      "source": [
        "# 測試用\n",
        "x = \"123 1223\"\n",
        "y = [1,2,3,\" \",1,2,2,3,8,7,6,5]\n",
        "z = \"\"\n",
        "for i in range(len(y)):\n",
        "  z = z + str(y[i])\n",
        "print(z)\n",
        "x in z"
      ],
      "metadata": {
        "colab": {
          "base_uri": "https://localhost:8080/"
        },
        "id": "eWYX_66SKA-M",
        "outputId": "8c9609b7-e98c-4de1-e1c5-6ad9d06e1c26"
      },
      "execution_count": null,
      "outputs": [
        {
          "output_type": "stream",
          "name": "stdout",
          "text": [
            "123 12238765\n"
          ]
        },
        {
          "output_type": "execute_result",
          "data": {
            "text/plain": [
              "True"
            ]
          },
          "metadata": {},
          "execution_count": 146
        }
      ]
    },
    {
      "cell_type": "code",
      "source": [
        "# 測試用\n",
        "c = \"HJHHjhdjhf,jhfjkJJ,jfhKJ\"\n",
        "n = c.lower()\n",
        "print(n)"
      ],
      "metadata": {
        "id": "owwySdfKuzc-",
        "colab": {
          "base_uri": "https://localhost:8080/"
        },
        "outputId": "e1108f4c-90f4-4101-a3e3-d57c54c06fec"
      },
      "execution_count": null,
      "outputs": [
        {
          "output_type": "stream",
          "name": "stdout",
          "text": [
            "hjhhjhdjhf,jhfjkjj,jfhkj\n"
          ]
        }
      ]
    },
    {
      "cell_type": "code",
      "source": [
        "# 測試用\n",
        "x = \"trouble will come of it\"\n",
        "x1 = x.lower()\n",
        "password_n = \"\"\n",
        "ord(x[0])\n",
        "for i in range(len(x1)):\n",
        "  if ord(\"a\") <= ord(x1[i]) <= ord(\"z\"):\n",
        "    password_n = password_n + str(ord(x1[i]))\n",
        "  else:\n",
        "    pass\n",
        "print(type(password_n))\n",
        "password_n = int(password_n)\n",
        "print(password_n)\n",
        "print(type(password_n))"
      ],
      "metadata": {
        "colab": {
          "base_uri": "https://localhost:8080/"
        },
        "id": "_IiA3IVBsKBe",
        "outputId": "bb6b249f-57ee-4d44-aaae-e732a4932239"
      },
      "execution_count": null,
      "outputs": [
        {
          "output_type": "stream",
          "name": "stdout",
          "text": [
            "<class 'str'>\n",
            "1161141111179810810111910510810899111109101111102105116\n",
            "<class 'int'>\n"
          ]
        }
      ]
    },
    {
      "cell_type": "code",
      "source": [
        "# 測試用\n",
        "x = \"trouble will come of it\"\n",
        "y = \"564654651865486463165116105321021113210110911199321081081051193210110898117111114116\"\n",
        "password_n = \"\"\n",
        "ord(x[0])\n",
        "for i in range(len(x)):\n",
        "  password_n = str(ord(x[i])) + password_n\n",
        "while True:\n",
        "    if password_n in y:\n",
        "      print(\"成功\")\n",
        "      break\n",
        "    else:\n",
        "      print(\"失敗\")"
      ],
      "metadata": {
        "colab": {
          "base_uri": "https://localhost:8080/"
        },
        "id": "yHRZGl8ZEKxh",
        "outputId": "bf0dbbfb-813a-4172-e5d9-79c0087a35e8"
      },
      "execution_count": null,
      "outputs": [
        {
          "output_type": "stream",
          "name": "stdout",
          "text": [
            "成功\n"
          ]
        }
      ]
    },
    {
      "cell_type": "code",
      "source": [
        "# 測試用\n",
        "print(ord(\"q\"))\n",
        "print(ord(\" \"))\n",
        "print(ord(\"b\"))\n",
        "print(ord(\"e\"))"
      ],
      "metadata": {
        "colab": {
          "base_uri": "https://localhost:8080/"
        },
        "id": "TxknsZDQgbhd",
        "outputId": "3ee06e4d-d165-4bf8-dbb9-16a91307057e"
      },
      "execution_count": null,
      "outputs": [
        {
          "output_type": "stream",
          "name": "stdout",
          "text": [
            "113\n",
            "32\n",
            "98\n",
            "101\n"
          ]
        }
      ]
    },
    {
      "cell_type": "code",
      "source": [
        "for i in range(10):\n",
        "  print(i)"
      ],
      "metadata": {
        "colab": {
          "base_uri": "https://localhost:8080/"
        },
        "id": "Cr-fog4Swzhz",
        "outputId": "4bd0b355-b02d-401f-ef9b-5a4dd81cfb02"
      },
      "execution_count": null,
      "outputs": [
        {
          "output_type": "stream",
          "name": "stdout",
          "text": [
            "0\n",
            "1\n",
            "2\n",
            "3\n",
            "4\n",
            "5\n",
            "6\n",
            "7\n",
            "8\n",
            "9\n"
          ]
        }
      ]
    },
    {
      "cell_type": "markdown",
      "source": [
        "# 作業-03"
      ],
      "metadata": {
        "id": "7mbVO5r6uz-E"
      }
    },
    {
      "cell_type": "code",
      "source": [],
      "metadata": {
        "id": "XVPJyRWyU9IF"
      },
      "execution_count": null,
      "outputs": []
    },
    {
      "cell_type": "code",
      "source": [
        "!pip install ColabTurtle"
      ],
      "metadata": {
        "colab": {
          "base_uri": "https://localhost:8080/"
        },
        "id": "oPSpOxWNK1nX",
        "outputId": "d10ef4dc-671b-4672-efb2-923f201b97b4"
      },
      "execution_count": null,
      "outputs": [
        {
          "output_type": "stream",
          "name": "stdout",
          "text": [
            "Collecting ColabTurtle\n",
            "  Downloading ColabTurtle-2.1.0.tar.gz (6.8 kB)\n",
            "  Preparing metadata (setup.py) ... \u001b[?25l\u001b[?25hdone\n",
            "Building wheels for collected packages: ColabTurtle\n",
            "  Building wheel for ColabTurtle (setup.py) ... \u001b[?25l\u001b[?25hdone\n",
            "  Created wheel for ColabTurtle: filename=ColabTurtle-2.1.0-py3-none-any.whl size=7642 sha256=d97bb5de40a4ae83a5774d2dd0430e6fd3dd7a62a5f1dbc3aa5ec4269eebc25f\n",
            "  Stored in directory: /root/.cache/pip/wheels/5b/86/e8/54f5c8c853606e3a3060bb2e60363cbed632374a12e0f33ffc\n",
            "Successfully built ColabTurtle\n",
            "Installing collected packages: ColabTurtle\n",
            "Successfully installed ColabTurtle-2.1.0\n"
          ]
        }
      ]
    }
  ]
}