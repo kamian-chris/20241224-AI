{
  "nbformat": 4,
  "nbformat_minor": 0,
  "metadata": {
    "colab": {
      "provenance": [],
      "authorship_tag": "ABX9TyN+GdcXGw6CAF1CR6NH6D1K",
      "include_colab_link": true
    },
    "kernelspec": {
      "name": "python3",
      "display_name": "Python 3"
    },
    "language_info": {
      "name": "python"
    }
  },
  "cells": [
    {
      "cell_type": "markdown",
      "metadata": {
        "id": "view-in-github",
        "colab_type": "text"
      },
      "source": [
        "<a href=\"https://colab.research.google.com/github/kamian-chris/20241224-AI/blob/main/0106_01.ipynb\" target=\"_parent\"><img src=\"https://colab.research.google.com/assets/colab-badge.svg\" alt=\"Open In Colab\"/></a>"
      ]
    },
    {
      "cell_type": "markdown",
      "source": [
        "# 作業-01"
      ],
      "metadata": {
        "id": "V3y20Ys7K_xY"
      }
    },
    {
      "cell_type": "code",
      "source": [
        "# 由於需要一開始的 2個 數字，所以設P1, P2 並=0\n",
        "p1, p2 = 0, 0\n",
        "# 操控次數(經過下面算法，得知這邊total與階數的關係是2倍差，所以最後print時total * 2)\n",
        "total = 10\n",
        "\n",
        "for i in range(total):\n",
        "    if i < 1 :\n",
        "      # 因為經過講解，以及實際畫圖後得知 P3 = P1 + P2 -> Pn = P(n-1) + P(n-2)\n",
        "      # 所以我後續的理解是 -> 要有 Pn, 就先要有P(n-1) 以及 P(n-2), 也就是初始的2個數字，然後就可以往下做\n",
        "      # 至於為何 i < 1, 是我後面在print的時候，發現由於我是帶入2個數字, 所以一次 i 就會產出 2個數字(1組)\n",
        "      # 而 P1 為何等於 i + 1, 是因為range(total)是從 0 開始帶入, 但我一開始有 1 種做法(走1步)，所以 + 1\n",
        "      p1 = i + 1\n",
        "      # 而 P2 就會等於 (i + 1) + P1 種方法\n",
        "      p2 = (i + 1) + p1\n",
        "      # 由於此題我只需要一開始的 2 個數字, 所以剩下都交給else\n",
        "    else:\n",
        "      # 回傳P1 + P2 = 新的P1\n",
        "      p1 = p1 + p2\n",
        "      # 回傳P1 + P2 = 新的P2\n",
        "      p2 = p1 + p2\n",
        "      # 就會得到 3階 及 4階的數字\n",
        "    # print(p1, p2)\n",
        "    # 這邊我是實際列出來看一下答案，中間錯蠻多次的哈哈\n",
        "\n",
        "print(total * 2, \"階是:\", p2, \"種作法\")"
      ],
      "metadata": {
        "colab": {
          "base_uri": "https://localhost:8080/"
        },
        "id": "HKFHUjKpuv0P",
        "outputId": "b2df71ac-9315-40b6-f624-d06c330030c4"
      },
      "execution_count": null,
      "outputs": [
        {
          "output_type": "stream",
          "name": "stdout",
          "text": [
            "1 2\n",
            "3 5\n",
            "8 13\n",
            "21 34\n",
            "55 89\n",
            "144 233\n",
            "377 610\n",
            "987 1597\n",
            "2584 4181\n",
            "6765 10946\n",
            "20 階是: 10946 種作法\n"
          ]
        }
      ]
    },
    {
      "cell_type": "code",
      "source": [
        "# 我想驗證一下是否可行(若有3種步伐)\n",
        "# 順便嘗試寫一下輸入，以及轉換\n",
        "want_total = int(input(\"想要算到第幾階:\"))\n",
        "# 階層需要比取商多 1層，不然找不到取完商的後面2階\n",
        "layer = want_total // 3 + 1\n",
        "n = want_total % 3\n",
        "# print(layer, n)\n",
        "p1, p2, p3 = 0, 0, 0\n",
        "total = layer\n",
        "\n",
        "for i in range(total):\n",
        "    if i < 1 :\n",
        "      p1 = i + 1\n",
        "      p2 = (i + 1) + p1\n",
        "      p3 = (i + 1) + p2 + p1\n",
        "    else:\n",
        "      p1 = p1 + p2 + p3\n",
        "      p2 = p1 + p2 + p3\n",
        "      p3 = p1 + p2 + p3\n",
        "    # 嘗試 print 看看 -> 好像對(實際畫圖看看也對)\n",
        "    print(p1, p2, p3)\n",
        "    # 設定 np 為答案，討論關係\n",
        "\n",
        "# 最後已經迴圈完畢，準備取值\n",
        "if n == 1:\n",
        "  np = p1\n",
        "if n == 2:\n",
        "  np = p2\n",
        "# 只有當我們要找的階層可以被 3(若有3種步伐) 整除時，需要找上一個群組的最後一個(p3 - p2 - p1)\n",
        "if n == 0:\n",
        "  np = p3 - p2 - p1\n",
        "\n",
        "print(want_total, \"階是:\", np, \"種作法\")\n",
        "\n",
        "# 目前結論：看起來可以"
      ],
      "metadata": {
        "colab": {
          "base_uri": "https://localhost:8080/"
        },
        "id": "U0MdmyJ3dZsC",
        "outputId": "22170a3f-6334-4506-e290-286abe8de26d"
      },
      "execution_count": null,
      "outputs": [
        {
          "output_type": "stream",
          "name": "stdout",
          "text": [
            "想要算到第幾階:9\n",
            "1 2 4\n",
            "7 13 24\n",
            "44 81 149\n",
            "274 504 927\n",
            "9 階是: 149 種作法\n"
          ]
        }
      ]
    },
    {
      "cell_type": "code",
      "source": [
        "# 想要偶數階才能1或2步，單數階都1步 -> 只需最後定下單數階只顯示 1種(1步)\n",
        "want_total = int(input(\"想要算到第幾階:\"))\n",
        "p1, p2 = 0, 0\n",
        "# 固定 2 種走路方式(1步2步)\n",
        "step = 2\n",
        "layer = want_total // 2 + 1\n",
        "n = want_total % 2\n",
        "\n",
        "\n",
        "for i in range(layer):\n",
        "    if i < (step -1) :\n",
        "      p1 = i + 1\n",
        "      p2 = (i + 1) + p1\n",
        "    else:\n",
        "      p1 = p1 + p2\n",
        "      p2 = p1 + p2\n",
        "    print(p1, p2)\n",
        "\n",
        "if n == 0:\n",
        "  np = p2 - p1\n",
        "else:\n",
        "  np = 1\n",
        "\n",
        "print(want_total, \"階是:\", np, \"種作法\")"
      ],
      "metadata": {
        "colab": {
          "base_uri": "https://localhost:8080/"
        },
        "id": "NqB7lUd2PK9V",
        "outputId": "aeaf2b5f-d008-4ef3-913d-11194c207a32"
      },
      "execution_count": null,
      "outputs": [
        {
          "output_type": "stream",
          "name": "stdout",
          "text": [
            "想要算到第幾階:10\n",
            "1 2\n",
            "3 5\n",
            "8 13\n",
            "21 34\n",
            "55 89\n",
            "144 233\n",
            "10 階是: 89 種作法\n"
          ]
        }
      ]
    },
    {
      "cell_type": "markdown",
      "source": [
        "# 作業-02"
      ],
      "metadata": {
        "id": "q0fS9KAquwmu"
      }
    },
    {
      "cell_type": "markdown",
      "source": [
        "```python\n",
        "有點難，我先想，想法:\n",
        "1.載入文字\n",
        "2.我想用數字來驗證 -> ord()\n",
        "      1.先把提示ord化\n",
        "      2.把文章ord化 -> +1 -> 轉chr: 就是新文章了\n",
        "      3.新文章 -> ord化\n",
        "      4.檢查 提示的ord 是否 in 新文章的ord\n",
        "      5.沒有就繼續做 -> 做到 in 就 break\n",
        "\n",
        "```"
      ],
      "metadata": {
        "id": "nTpUgKgiUPLp"
      }
    },
    {
      "cell_type": "code",
      "source": [
        "import urllib.request as req\n",
        "# 1. 先讀取文件\n",
        "url = \"https://github.com/Elwing-Chou/tibame1224/raw/refs/heads/main/password.txt\"\n",
        "req.urlretrieve(url, \"password.txt\")\n",
        "f = open(\"password.txt\", \"r\", encoding=\"utf-8\")\n",
        "message = f.read()\n",
        "# print(message)\n",
        "\n",
        "# 這個設置是後面想到需要一個空字串來裝才加的\n",
        "m2 = \"\"\n",
        "\n",
        "# 2. 想說寫一個空的字串對答案用\n",
        "message_n = \"\"\n",
        "\n",
        "# 3. 轉化提示變成 \"字串\" (因為我想用 in 來檢查)\n",
        "password = \"trouble will come of it\"\n",
        "password_n = \"\"\n",
        "for i in range(len(password)):\n",
        "    password_n =  password_n + str(ord(password[i]))\n",
        "# print(password_n)\n",
        "\n",
        "# 4. 我想把 (message 的 ord)+1 (message -> ord -> +1 -> chr -> 丟回message)\n",
        "#   然後我開始寫下面的東西\n",
        "\n",
        "# 7. 想把這個動作最多重複 26 次\n",
        "for i in range(26):\n",
        "    # 6. 我之後才想把 message 拿來 ord\n",
        "    for i in range(len(message)):\n",
        "        if ord(\"a\") <= ord(message[i]) <= ord(\"z\"):\n",
        "          # 設置n1 = 把ord之後的它回歸到 0 再 +1 % 26 (比較直覺，等於是 0-2 6的輪迴,希望 z 能回到 a )\n",
        "          n1 = (ord(message[i])-ord(\"a\")+1) % (26)\n",
        "          # 設置m2(初始空的) = m2 + chr 的 n1(前面-a這邊就+a回去)\n",
        "          m2 = m2 + chr(n1+ord(\"a\"))\n",
        "        else:\n",
        "          # 若不再區間則直接加上(這樣後續ord時符號、空白等ord都會一樣)\n",
        "          m2 = m2 + message[i]\n",
        "    # 5. 我先想好ord新文章，用來後面檢查\n",
        "    for j in range(len(m2)):\n",
        "        message_n = message_n + str(ord(m2[j]))\n",
        "    # print(m2)\n",
        "    # 8. 設置: 若 password_n in message_n 就停\n",
        "    if password_n in message_n:\n",
        "        break\n",
        "\n",
        "    # 9. !!!!!!!我卡最久的地方!!!!!!\n",
        "    #   前面我都把它設置回去，但我忘記，我這個寫法，在重複26次前，是一件事情\n",
        "    #   也就是我想產生新的轉換前，我應該: \"把舊的值清空\"\n",
        "    #   不然東西會一直加回去，越加越多( 可惡害我想一下午生氣)\n",
        "    #   所以當沒有break的時候: 再把它設置成\"\"(空值)\n",
        "    else:\n",
        "        message = m2\n",
        "        m2 = \"\"\n",
        "        message_n = \"\"\n",
        "\n",
        "print(m2)\n",
        "f.close()"
      ],
      "metadata": {
        "id": "vhe01wxBqTuH"
      },
      "execution_count": null,
      "outputs": []
    },
    {
      "cell_type": "code",
      "source": [
        "# 嘗試優化\n",
        "import urllib.request as req\n",
        "url = \"https://github.com/Elwing-Chou/tibame1224/raw/refs/heads/main/password.txt\"\n",
        "req.urlretrieve(url, \"password.txt\")\n",
        "f = open(\"password.txt\", \"r\", encoding=\"utf-8\")\n",
        "message = f.read()\n",
        "\n",
        "new_message = \"\"\n",
        "message_n = \"\"\n",
        "\n",
        "password = \"trouble will come of it\"\n",
        "password_n = \"\"\n",
        "for i in range(len(password)):\n",
        "    password_n =  password_n + str(ord(password[i]))\n",
        "\n",
        "for i in range(26):\n",
        "    for i in range(len(message.lower())):\n",
        "        if ord(\"a\") <= ord(message[i]) <= ord(\"z\"):\n",
        "          n1 = (ord(message[i])-ord(\"a\")+1) % (26)\n",
        "          new_message = new_message + chr(n1+ord(\"a\"))\n",
        "        else:\n",
        "          new_message = new_message + message[i]\n",
        "\n",
        "    for j in range(len(new_message)):\n",
        "        message_n = message_n + str(ord(new_message[j]))\n",
        "\n",
        "    if password_n in message_n:\n",
        "        break\n",
        "    else:\n",
        "        message = new_message\n",
        "        new_message = \"\"\n",
        "        message_n = \"\"\n",
        "\n",
        "print(new_message)\n",
        "f.close()\n",
        "# 嗯我累了"
      ],
      "metadata": {
        "colab": {
          "base_uri": "https://localhost:8080/"
        },
        "id": "bEIfMP-P92P6",
        "outputId": "c2d0261c-70bd-46e2-96bd-a66de7ff35b4"
      },
      "execution_count": 16,
      "outputs": [
        {
          "output_type": "stream",
          "name": "stdout",
          "text": [
            "a long-expected party\n",
            "\n",
            "when mr. bilbo baggins of bag end announced that he would shortly be celebrating his eleventy-first birthday with a party of special magnificence, there was much talk and excitement in hobbiton.\n",
            "\n",
            "bilbo was very rich and very peculiar, and had been the wonder of the shire for sixty years, ever since his remarkable disappearance and unexpected return. the riches he had brought back from his travels had now become a local legend, and it was popularly believed, whatever the old folk might say, that the hill at bag end was full of tunnels stuffed with treasure. and if that was not enough for fame, there was also his prolonged vigour to marvel at. time wore on, but it seemed to have little effect on mr. baggins. at ninety he was much the same as at fifty. at ninety-nine they began to call him well-preserved, but unchanged would have been nearer the mark. there were some that shook their heads and thought this was too much of a good thing; it seemed unfair that anyone should possess (apparently) perpetual youth as well as (reputedly) inexhaustible wealth.\n",
            "\n",
            "'it will have to be paid for,' they said. 'it isn't natural, and trouble will come of it!'\n"
          ]
        }
      ]
    },
    {
      "cell_type": "code",
      "source": [
        "# 測試用\n",
        "for i in range(len(message)):\n",
        "    if ord(\"a\") <= ord(message[i]) <= ord(\"z\"):\n",
        "        m2 = ord(message[i]) + 1\n",
        "        m1 = m1 + chr(m2)\n",
        "    else:\n",
        "      pass\n",
        "print(message)\n",
        "print(m1)"
      ],
      "metadata": {
        "id": "L0Oz6AElWkJD"
      },
      "execution_count": null,
      "outputs": []
    },
    {
      "cell_type": "code",
      "source": [
        "# 測試用\n",
        "x = \"123 1223\"\n",
        "y = [1,2,3,\" \",1,2,2,3,8,7,6,5]\n",
        "z = \"\"\n",
        "for i in range(len(y)):\n",
        "  z = z + str(y[i])\n",
        "print(z)\n",
        "x in z"
      ],
      "metadata": {
        "id": "eWYX_66SKA-M"
      },
      "execution_count": null,
      "outputs": []
    },
    {
      "cell_type": "code",
      "source": [
        "# 測試用\n",
        "c = \"HJHHjhdjhf,jhfjkJJ,jfhKJ\"\n",
        "n = c.lower()\n",
        "print(n)"
      ],
      "metadata": {
        "id": "owwySdfKuzc-"
      },
      "execution_count": null,
      "outputs": []
    },
    {
      "cell_type": "code",
      "source": [
        "# 測試用\n",
        "x = \"trouble will come of it\"\n",
        "x1 = x.lower()\n",
        "password_n = \"\"\n",
        "ord(x[0])\n",
        "for i in range(len(x1)):\n",
        "  if ord(\"a\") <= ord(x1[i]) <= ord(\"z\"):\n",
        "    password_n = password_n + str(ord(x1[i]))\n",
        "  else:\n",
        "    pass\n",
        "print(type(password_n))\n",
        "password_n = int(password_n)\n",
        "print(password_n)\n",
        "print(type(password_n))"
      ],
      "metadata": {
        "id": "_IiA3IVBsKBe"
      },
      "execution_count": null,
      "outputs": []
    },
    {
      "cell_type": "code",
      "source": [
        "# 測試用\n",
        "x = \"trouble will come of it\"\n",
        "y = \"564654651865486463165116105321021113210110911199321081081051193210110898117111114116\"\n",
        "password_n = \"\"\n",
        "ord(x[0])\n",
        "for i in range(len(x)):\n",
        "  password_n = str(ord(x[i])) + password_n\n",
        "while True:\n",
        "    if password_n in y:\n",
        "      print(\"成功\")\n",
        "      break\n",
        "    else:\n",
        "      print(\"失敗\")"
      ],
      "metadata": {
        "id": "yHRZGl8ZEKxh"
      },
      "execution_count": null,
      "outputs": []
    },
    {
      "cell_type": "code",
      "source": [
        "# 測試用\n",
        "print(ord(\"q\"))\n",
        "print(ord(\" \"))\n",
        "print(ord(\"b\"))\n",
        "print(ord(\"e\"))"
      ],
      "metadata": {
        "id": "TxknsZDQgbhd"
      },
      "execution_count": null,
      "outputs": []
    },
    {
      "cell_type": "code",
      "source": [
        "for i in range(10):\n",
        "  print(i)"
      ],
      "metadata": {
        "id": "Cr-fog4Swzhz"
      },
      "execution_count": null,
      "outputs": []
    },
    {
      "cell_type": "markdown",
      "source": [
        "# 作業-03"
      ],
      "metadata": {
        "id": "7mbVO5r6uz-E"
      }
    },
    {
      "cell_type": "code",
      "source": [],
      "metadata": {
        "id": "XVPJyRWyU9IF"
      },
      "execution_count": null,
      "outputs": []
    },
    {
      "cell_type": "code",
      "source": [
        "!pip install ColabTurtle"
      ],
      "metadata": {
        "colab": {
          "base_uri": "https://localhost:8080/"
        },
        "id": "oPSpOxWNK1nX",
        "outputId": "d10ef4dc-671b-4672-efb2-923f201b97b4"
      },
      "execution_count": null,
      "outputs": [
        {
          "output_type": "stream",
          "name": "stdout",
          "text": [
            "Collecting ColabTurtle\n",
            "  Downloading ColabTurtle-2.1.0.tar.gz (6.8 kB)\n",
            "  Preparing metadata (setup.py) ... \u001b[?25l\u001b[?25hdone\n",
            "Building wheels for collected packages: ColabTurtle\n",
            "  Building wheel for ColabTurtle (setup.py) ... \u001b[?25l\u001b[?25hdone\n",
            "  Created wheel for ColabTurtle: filename=ColabTurtle-2.1.0-py3-none-any.whl size=7642 sha256=d97bb5de40a4ae83a5774d2dd0430e6fd3dd7a62a5f1dbc3aa5ec4269eebc25f\n",
            "  Stored in directory: /root/.cache/pip/wheels/5b/86/e8/54f5c8c853606e3a3060bb2e60363cbed632374a12e0f33ffc\n",
            "Successfully built ColabTurtle\n",
            "Installing collected packages: ColabTurtle\n",
            "Successfully installed ColabTurtle-2.1.0\n"
          ]
        }
      ]
    }
  ]
}