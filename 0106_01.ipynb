{
  "nbformat": 4,
  "nbformat_minor": 0,
  "metadata": {
    "colab": {
      "provenance": [],
      "authorship_tag": "ABX9TyPHq4B1mKMShtID3DDX3kjM",
      "include_colab_link": true
    },
    "kernelspec": {
      "name": "python3",
      "display_name": "Python 3"
    },
    "language_info": {
      "name": "python"
    }
  },
  "cells": [
    {
      "cell_type": "markdown",
      "metadata": {
        "id": "view-in-github",
        "colab_type": "text"
      },
      "source": [
        "<a href=\"https://colab.research.google.com/github/kamian-chris/20241224-AI/blob/main/0106_01.ipynb\" target=\"_parent\"><img src=\"https://colab.research.google.com/assets/colab-badge.svg\" alt=\"Open In Colab\"/></a>"
      ]
    },
    {
      "cell_type": "markdown",
      "source": [
        "# 作業-01"
      ],
      "metadata": {
        "id": "V3y20Ys7K_xY"
      }
    },
    {
      "cell_type": "code",
      "source": [
        "# 由於需要一開始的 2個 數字，所以設P1, P2 並=0\n",
        "p1, p2 = 0, 0\n",
        "# 操控次數(經過下面算法，得知這邊total與階數的關係是2倍差，所以最後print時total * 2)\n",
        "total = 10\n",
        "\n",
        "for i in range(total):\n",
        "    if i < 1 :\n",
        "      # 因為經過講解，以及實際畫圖後得知 P3 = P1 + P2 -> Pn = P(n-1) + P(n-2)\n",
        "      # 所以我後續的理解是 -> 要有 Pn, 就先要有P(n-1) 以及 P(n-2), 也就是初始的2個數字，然後就可以往下做\n",
        "      # 至於為何 i < 1, 是我後面在print的時候，發現由於我是帶入2個數字, 所以一次 i 就會產出 2個數字(1組)\n",
        "      # 而 P1 為何等於 i + 1, 是因為range(total)是從 0 開始帶入, 但我一開始有 1 種做法(走1步)，所以 + 1\n",
        "      p1 = i + 1\n",
        "      # 而 P2 就會等於 (i + 1) + P1 種方法\n",
        "      p2 = (i + 1) + p1\n",
        "      # 由於此題我只需要一開始的 2 個數字, 所以剩下都交給else\n",
        "    else:\n",
        "      # 回傳P1 + P2 = 新的P1\n",
        "      p1 = p1 + p2\n",
        "      # 回傳P1 + P2 = 新的P2\n",
        "      p2 = p1 + p2\n",
        "      # 就會得到 3階 及 4階的數字\n",
        "    # print(p1, p2)\n",
        "    # 這邊我是實際列出來看一下答案，中間錯蠻多次的哈哈\n",
        "\n",
        "print(total * 2, \"階是:\", p2, \"種作法\")"
      ],
      "metadata": {
        "colab": {
          "base_uri": "https://localhost:8080/"
        },
        "id": "HKFHUjKpuv0P",
        "outputId": "b2df71ac-9315-40b6-f624-d06c330030c4"
      },
      "execution_count": 9,
      "outputs": [
        {
          "output_type": "stream",
          "name": "stdout",
          "text": [
            "1 2\n",
            "3 5\n",
            "8 13\n",
            "21 34\n",
            "55 89\n",
            "144 233\n",
            "377 610\n",
            "987 1597\n",
            "2584 4181\n",
            "6765 10946\n",
            "20 階是: 10946 種作法\n"
          ]
        }
      ]
    },
    {
      "cell_type": "code",
      "source": [
        "# 我想驗證一下是否可行(若有3種步伐)\n",
        "# 順便寫一下輸入，以及轉換(3不好做)\n",
        "want_total = int(input(\"想要算到第幾階:\"))\n",
        "# 階層需要比取商多 1層，不然找不到取完商的後面2階\n",
        "layer = want_total // 3 + 1\n",
        "n = want_total % 3\n",
        "# print(layer, n)\n",
        "p1, p2, p3 = 0, 0, 0\n",
        "total = layer\n",
        "\n",
        "for i in range(total):\n",
        "    if i < 1 :\n",
        "      p1 = i + 1\n",
        "      p2 = (i + 1) + p1\n",
        "      p3 = (i + 1) + p2 + p1\n",
        "    else:\n",
        "      p1 = p1 + p2 + p3\n",
        "      p2 = p1 + p2 + p3\n",
        "      p3 = p1 + p2 + p3\n",
        "    # 嘗試 print 看看 -> 好像對(實際畫圖看看也對)\n",
        "    print(p1, p2, p3)\n",
        "    # 設定 np 為答案，討論關係\n",
        "\n",
        "# 最後已經迴圈完畢，準備取值\n",
        "if n == 1:\n",
        "  np = p1\n",
        "if n == 2:\n",
        "  np = p2\n",
        "# 只有當我們要找的階層可以被 3(若有3種步伐) 整除時，需要找上一個群組的最後一個(p3 - p2 - p1)\n",
        "if n == 0:\n",
        "  np = p3 - p2 - p1\n",
        "\n",
        "print(want_total, \"階是:\", np, \"種作法\")\n",
        "\n",
        "# 目前結論：看起來可以"
      ],
      "metadata": {
        "colab": {
          "base_uri": "https://localhost:8080/"
        },
        "id": "U0MdmyJ3dZsC",
        "outputId": "22170a3f-6334-4506-e290-286abe8de26d"
      },
      "execution_count": 8,
      "outputs": [
        {
          "output_type": "stream",
          "name": "stdout",
          "text": [
            "想要算到第幾階:9\n",
            "1 2 4\n",
            "7 13 24\n",
            "44 81 149\n",
            "274 504 927\n",
            "9 階是: 149 種作法\n"
          ]
        }
      ]
    },
    {
      "cell_type": "code",
      "source": [
        "# 想要偶數階才能1或2步，單數階都1步 -> 只需最後定下單數階只顯示 1種(1步)\n",
        "want_total = int(input(\"想要算到第幾階:\"))\n",
        "p1, p2 = 0, 0\n",
        "# 固定 2 種走路方式(1步2步)\n",
        "step = 2\n",
        "layer = want_total // 2 + 1\n",
        "n = want_total % 2\n",
        "\n",
        "\n",
        "for i in range(layer):\n",
        "    if i < (step -1) :\n",
        "      p1 = i + 1\n",
        "      p2 = (i + 1) + p1\n",
        "    else:\n",
        "      p1 = p1 + p2\n",
        "      p2 = p1 + p2\n",
        "    print(p1, p2)\n",
        "\n",
        "if n == 0:\n",
        "  np = p2 - p1\n",
        "else:\n",
        "  np = 1\n",
        "\n",
        "print(want_total, \"階是:\", np, \"種作法\")"
      ],
      "metadata": {
        "colab": {
          "base_uri": "https://localhost:8080/"
        },
        "id": "NqB7lUd2PK9V",
        "outputId": "aeaf2b5f-d008-4ef3-913d-11194c207a32"
      },
      "execution_count": 15,
      "outputs": [
        {
          "output_type": "stream",
          "name": "stdout",
          "text": [
            "想要算到第幾階:10\n",
            "1 2\n",
            "3 5\n",
            "8 13\n",
            "21 34\n",
            "55 89\n",
            "144 233\n",
            "10 階是: 89 種作法\n"
          ]
        }
      ]
    },
    {
      "cell_type": "markdown",
      "source": [
        "# 作業-02"
      ],
      "metadata": {
        "id": "q0fS9KAquwmu"
      }
    },
    {
      "cell_type": "code",
      "source": [
        "# 測試\n",
        "c = \"HJHHjhdjhf,jhfjkJJ,jfhKJ\"\n",
        "n = c.lower()\n",
        "print(n)"
      ],
      "metadata": {
        "id": "owwySdfKuzc-",
        "colab": {
          "base_uri": "https://localhost:8080/"
        },
        "outputId": "8986df65-86d6-4554-b498-ab12eb99344c"
      },
      "execution_count": null,
      "outputs": [
        {
          "output_type": "stream",
          "name": "stdout",
          "text": [
            "hjhhjhdjhf,jhfjkjj,jfhkj\n"
          ]
        }
      ]
    },
    {
      "cell_type": "markdown",
      "source": [
        "```python\n",
        "想法:\n",
        "1.載入文字\n",
        "2.要檢查是共同往後幾格 -> ord()之後for in range:(要文件 . lower(),讓他都變小寫)\n",
        "                    設定範圍(因為都是小寫) ord(\"a\") <= ord() <= ord(\"z\")\n",
        "                    只有如果 ord() 都在範圍內\n",
        "\n",
        "                    1\n",
        "                    1\n",
        "\n",
        "\n",
        "```"
      ],
      "metadata": {
        "id": "nTpUgKgiUPLp"
      }
    },
    {
      "cell_type": "markdown",
      "source": [
        "# 作業-03"
      ],
      "metadata": {
        "id": "7mbVO5r6uz-E"
      }
    },
    {
      "cell_type": "code",
      "source": [],
      "metadata": {
        "id": "XVPJyRWyU9IF"
      },
      "execution_count": null,
      "outputs": []
    },
    {
      "cell_type": "code",
      "source": [
        "!pip install ColabTurtle"
      ],
      "metadata": {
        "colab": {
          "base_uri": "https://localhost:8080/"
        },
        "id": "oPSpOxWNK1nX",
        "outputId": "d10ef4dc-671b-4672-efb2-923f201b97b4"
      },
      "execution_count": null,
      "outputs": [
        {
          "output_type": "stream",
          "name": "stdout",
          "text": [
            "Collecting ColabTurtle\n",
            "  Downloading ColabTurtle-2.1.0.tar.gz (6.8 kB)\n",
            "  Preparing metadata (setup.py) ... \u001b[?25l\u001b[?25hdone\n",
            "Building wheels for collected packages: ColabTurtle\n",
            "  Building wheel for ColabTurtle (setup.py) ... \u001b[?25l\u001b[?25hdone\n",
            "  Created wheel for ColabTurtle: filename=ColabTurtle-2.1.0-py3-none-any.whl size=7642 sha256=d97bb5de40a4ae83a5774d2dd0430e6fd3dd7a62a5f1dbc3aa5ec4269eebc25f\n",
            "  Stored in directory: /root/.cache/pip/wheels/5b/86/e8/54f5c8c853606e3a3060bb2e60363cbed632374a12e0f33ffc\n",
            "Successfully built ColabTurtle\n",
            "Installing collected packages: ColabTurtle\n",
            "Successfully installed ColabTurtle-2.1.0\n"
          ]
        }
      ]
    }
  ]
}