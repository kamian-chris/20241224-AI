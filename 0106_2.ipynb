{
  "nbformat": 4,
  "nbformat_minor": 0,
  "metadata": {
    "colab": {
      "provenance": [],
      "authorship_tag": "ABX9TyMR4A4PfaNSK/jbZJVcJ38d",
      "include_colab_link": true
    },
    "kernelspec": {
      "name": "python3",
      "display_name": "Python 3"
    },
    "language_info": {
      "name": "python"
    }
  },
  "cells": [
    {
      "cell_type": "markdown",
      "metadata": {
        "id": "view-in-github",
        "colab_type": "text"
      },
      "source": [
        "<a href=\"https://colab.research.google.com/github/kamian-chris/20241224-AI/blob/main/0106_2.ipynb\" target=\"_parent\"><img src=\"https://colab.research.google.com/assets/colab-badge.svg\" alt=\"Open In Colab\"/></a>"
      ]
    },
    {
      "cell_type": "code",
      "execution_count": 1,
      "metadata": {
        "colab": {
          "base_uri": "https://localhost:8080/"
        },
        "id": "QPmXMYOOIhfQ",
        "outputId": "24fb3550-6963-45b6-ff0f-9a7fa02ceef2"
      },
      "outputs": [
        {
          "output_type": "stream",
          "name": "stdout",
          "text": [
            "{'name': 'Elwing', 'height': 175}\n",
            "175\n",
            "{'name': 'Elwing', 'height': 175, 'weight': 70}\n",
            "{'name': 'Elwing', 'height': 180, 'weight': 70}\n",
            "! name Elwing\n",
            "! height 180\n",
            "! weight 70\n"
          ]
        }
      ],
      "source": [
        "student = {\n",
        "    \"name\":\"Elwing\",\n",
        "    \"height\":175\n",
        "}\n",
        "print(student)\n",
        "\n",
        "print(student[\"height\"])\n",
        "\n",
        "# 口訣: 以前你怎麼使用名稱->字典[key]\n",
        "\n",
        "# weight = 80\n",
        "student[\"weight\"] = 70\n",
        "print(student)\n",
        "# height = height + 5\n",
        "student[\"height\"] = student[\"height\"] + 5\n",
        "print(student)\n",
        "\n",
        "# optional\n",
        "for key in student:\n",
        "    print(\"!\", key, student[key])"
      ]
    },
    {
      "cell_type": "code",
      "source": [
        "import json\n",
        "import urllib.request as req\n",
        "\n",
        "while True:\n",
        "    url = \"https://www.cosmed.com.tw/api/getStore.aspx?t=store&c=&d=&s=\"\n",
        "    f = req.urlopen(url)\n",
        "    content = f.read()\n",
        "    # print(type(content))\n",
        "    content = content.decode()\n",
        "    # print(type(content))\n",
        "    if \"Invalid\" in content:\n",
        "        print(\"retry...\")\n",
        "    else:\n",
        "        break\n",
        "print(type(content))\n",
        "content = json.loads(content)\n",
        "print(type(content))"
      ],
      "metadata": {
        "colab": {
          "base_uri": "https://localhost:8080/"
        },
        "id": "_iGZaZMJMTqD",
        "outputId": "b2e5b4f3-62d4-49a6-c0fc-bfeedf40d604"
      },
      "execution_count": 12,
      "outputs": [
        {
          "output_type": "stream",
          "name": "stdout",
          "text": [
            "<class 'str'>\n",
            "<class 'dict'>\n"
          ]
        }
      ]
    }
  ]
}