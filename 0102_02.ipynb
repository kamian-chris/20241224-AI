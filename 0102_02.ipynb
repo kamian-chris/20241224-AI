{
  "nbformat": 4,
  "nbformat_minor": 0,
  "metadata": {
    "colab": {
      "provenance": [],
      "authorship_tag": "ABX9TyMDMkWwP5ydHTM0RR/DoQrA",
      "include_colab_link": true
    },
    "kernelspec": {
      "name": "python3",
      "display_name": "Python 3"
    },
    "language_info": {
      "name": "python"
    }
  },
  "cells": [
    {
      "cell_type": "markdown",
      "metadata": {
        "id": "view-in-github",
        "colab_type": "text"
      },
      "source": [
        "<a href=\"https://colab.research.google.com/github/kamian-chris/20241224-AI/blob/main/0102_02.ipynb\" target=\"_parent\"><img src=\"https://colab.research.google.com/assets/colab-badge.svg\" alt=\"Open In Colab\"/></a>"
      ]
    },
    {
      "cell_type": "markdown",
      "source": [],
      "metadata": {
        "id": "jD6F--n4u3Af"
      }
    },
    {
      "cell_type": "code",
      "execution_count": 3,
      "metadata": {
        "colab": {
          "base_uri": "https://localhost:8080/"
        },
        "id": "Oh-j94qXuW0U",
        "outputId": "ebb712a0-66f3-42f1-c86c-d5b95687ff74"
      },
      "outputs": [
        {
          "output_type": "stream",
          "name": "stdout",
          "text": [
            "28\n",
            "26.14\n"
          ]
        }
      ],
      "source": [
        "# 一旦有預設值(ex.n2=3.14)，後面就一定要有\n",
        "def add(n1, n2=3.14, n3=20):\n",
        "  ans = n1 + n2 + n3\n",
        "  return ans\n",
        "print(add(3, 5))\n",
        "print(add(3))"
      ]
    }
  ]
}