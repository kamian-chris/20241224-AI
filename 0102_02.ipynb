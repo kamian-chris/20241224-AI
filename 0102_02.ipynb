{
  "nbformat": 4,
  "nbformat_minor": 0,
  "metadata": {
    "colab": {
      "provenance": [],
      "authorship_tag": "ABX9TyO7AuGNPoPYpWYXPOS2gNvo",
      "include_colab_link": true
    },
    "kernelspec": {
      "name": "python3",
      "display_name": "Python 3"
    },
    "language_info": {
      "name": "python"
    }
  },
  "cells": [
    {
      "cell_type": "markdown",
      "metadata": {
        "id": "view-in-github",
        "colab_type": "text"
      },
      "source": [
        "<a href=\"https://colab.research.google.com/github/kamian-chris/20241224-AI/blob/main/0102_02.ipynb\" target=\"_parent\"><img src=\"https://colab.research.google.com/assets/colab-badge.svg\" alt=\"Open In Colab\"/></a>"
      ]
    },
    {
      "cell_type": "markdown",
      "source": [],
      "metadata": {
        "id": "jD6F--n4u3Af"
      }
    },
    {
      "cell_type": "code",
      "execution_count": 4,
      "metadata": {
        "colab": {
          "base_uri": "https://localhost:8080/"
        },
        "id": "Oh-j94qXuW0U",
        "outputId": "175912cd-1786-4e7c-b16b-80bd43579161"
      },
      "outputs": [
        {
          "output_type": "stream",
          "name": "stdout",
          "text": [
            "28\n",
            "26.14\n",
            "46.14\n"
          ]
        }
      ],
      "source": [
        "# 一旦有預設值(ex.n2=3.14)，後面就一定要有\n",
        "def add(n1, n2=3.14, n3=20):\n",
        "  ans = n1 + n2 + n3\n",
        "  return ans\n",
        "print(add(3, 5))\n",
        "print(add(3))\n",
        "print(add(3, n3=40))"
      ]
    },
    {
      "cell_type": "code",
      "source": [
        "# 資料夾、檔案拜託都用 / 比較不會用錯\n",
        "# 創造檔案寫入並使用utf-8\n",
        "f = open(\"a.txt\", \"w\", encoding=\"utf-8\")\n",
        "f.write(\"abcd\")\n",
        "# \\n是換行的意思\n",
        "f.write(\"\\nefg\")\n",
        "f.write(\"HIG\")\n",
        "# 寫完關掉\n",
        "f.close()"
      ],
      "metadata": {
        "id": "1Tws_G1RxY65"
      },
      "execution_count": 7,
      "outputs": []
    },
    {
      "cell_type": "code",
      "source": [
        "f = open(\"sample_data/README.md\", \"r\", encoding=\"utf-8\")\n",
        "content = f.read()\n",
        "print(content)\n",
        "f.close()"
      ],
      "metadata": {
        "colab": {
          "base_uri": "https://localhost:8080/"
        },
        "id": "vofsdOZg6UfQ",
        "outputId": "3425296b-a08a-4c4c-919f-06dbf35289b4"
      },
      "execution_count": 13,
      "outputs": [
        {
          "output_type": "stream",
          "name": "stdout",
          "text": [
            "This directory includes a few sample datasets to get you started.\n",
            "\n",
            "*   `california_housing_data*.csv` is California housing data from the 1990 US\n",
            "    Census; more information is available at:\n",
            "    https://docs.google.com/document/d/e/2PACX-1vRhYtsvc5eOR2FWNCwaBiKL6suIOrxJig8LcSBbmCbyYsayia_DvPOOBlXZ4CAlQ5nlDD8kTaIDRwrN/pub\n",
            "\n",
            "*   `mnist_*.csv` is a small sample of the\n",
            "    [MNIST database](https://en.wikipedia.org/wiki/MNIST_database), which is\n",
            "    described at: http://yann.lecun.com/exdb/mnist/\n",
            "\n",
            "*   `anscombe.json` contains a copy of\n",
            "    [Anscombe's quartet](https://en.wikipedia.org/wiki/Anscombe%27s_quartet); it\n",
            "    was originally described in\n",
            "\n",
            "    Anscombe, F. J. (1973). 'Graphs in Statistical Analysis'. American\n",
            "    Statistician. 27 (1): 17-21. JSTOR 2682899.\n",
            "\n",
            "    and our copy was prepared by the\n",
            "    [vega_datasets library](https://github.com/altair-viz/vega_datasets/blob/4f67bdaad10f45e3549984e17e1b3088c731503d/vega_datasets/_data/anscombe.json).\n",
            "\n"
          ]
        }
      ]
    },
    {
      "cell_type": "code",
      "source": [
        "# list進階\n",
        "score = [30, 20, 60, 60, 40]\n",
        "print(sum(score), min(score), max(score), len(score))\n",
        "print(60 in score)\n",
        "print(score[4])\n",
        "# 反向操作\n",
        "print(score[-1])\n",
        "\n",
        "# list[開始(包含) : 結束(不包含)]\n",
        "# list[取段] -> 都是list型態\n",
        "print(score[1:4])\n",
        "print(score[1:-1])\n",
        "# 從0開始\n",
        "print(score[:4])\n",
        "# 到最後一個\n",
        "print(score[1:])\n",
        "\n",
        "# list[開始(包含) : 結束(不包含) : 幾個一跳]\n",
        "# 跳值正 -> 左到右 / 跳值負 -> 右到左(倒著數=反著數)\n",
        "print(score[0:5:1])\n",
        "print(score[::-1])\n",
        "# 取奇數位置\n",
        "print(score[::2])\n",
        "# 取偶數位置\n",
        "print(score[1::2])"
      ],
      "metadata": {
        "colab": {
          "base_uri": "https://localhost:8080/"
        },
        "id": "DMc_2_GY8cto",
        "outputId": "121b7bf1-bc41-44e3-b96b-58ce35fb791d"
      },
      "execution_count": 27,
      "outputs": [
        {
          "output_type": "stream",
          "name": "stdout",
          "text": [
            "210 20 60 5\n",
            "True\n",
            "40\n",
            "40\n",
            "[20, 60, 60]\n",
            "[20, 60, 60]\n",
            "[30, 20, 60, 60]\n",
            "[20, 60, 60, 40]\n",
            "[30, 20, 60, 60, 40]\n",
            "[40, 60, 60, 20, 30]\n",
            "[30, 60, 40]\n",
            "[20, 60]\n"
          ]
        }
      ]
    },
    {
      "cell_type": "code",
      "source": [
        "# 練習\n",
        "scores = [60, 80, 20, 30, 50]\n",
        "\n",
        "total = 0\n",
        "i = 0\n",
        "while i < len(scores):\n",
        "  s = scores[i]\n",
        "  if s >= 60:\n",
        "    total = total + 1\n",
        "  i = i+1\n",
        "print(total)"
      ],
      "metadata": {
        "colab": {
          "base_uri": "https://localhost:8080/"
        },
        "id": "TW0X0X56A3hw",
        "outputId": "2b246957-7ff5-4cca-9800-cddce4925b26"
      },
      "execution_count": 30,
      "outputs": [
        {
          "output_type": "stream",
          "name": "stdout",
          "text": [
            "2\n"
          ]
        }
      ]
    },
    {
      "cell_type": "code",
      "source": [
        "scores = [60, 80, \"貓\", 20, \"貓\", 30, 50, \"貓\"]\n",
        "\n",
        "total = 0\n",
        "# for 名稱 in 列表(都拿給你一次)\n",
        "for s in scores:\n",
        "  if s == \"貓\":\n",
        "    total = total + 1\n",
        "print(total)"
      ],
      "metadata": {
        "colab": {
          "base_uri": "https://localhost:8080/"
        },
        "id": "Bq1WBgf1E_nc",
        "outputId": "7727c215-7bad-4e56-9608-5ca8c2ce0224"
      },
      "execution_count": 32,
      "outputs": [
        {
          "output_type": "stream",
          "name": "stdout",
          "text": [
            "3\n"
          ]
        }
      ]
    },
    {
      "cell_type": "code",
      "source": [
        "# 1 + 2 +... + 10\n",
        "\n",
        "total = 0\n",
        "i = 0\n",
        "while i < 10:\n",
        "  total = total + (i + 1)\n",
        "  print(total)\n",
        "  i = i + 1"
      ],
      "metadata": {
        "colab": {
          "base_uri": "https://localhost:8080/"
        },
        "id": "qBqKfwH8Fsj1",
        "outputId": "24836d1a-1b98-4f4c-bfa2-bf5ffd93fbf4"
      },
      "execution_count": 38,
      "outputs": [
        {
          "output_type": "stream",
          "name": "stdout",
          "text": [
            "1\n",
            "3\n",
            "6\n",
            "10\n",
            "15\n",
            "21\n",
            "28\n",
            "36\n",
            "45\n",
            "55\n"
          ]
        }
      ]
    },
    {
      "cell_type": "code",
      "source": [
        "# range(5) -> [0, 1, 2, 3, 4]\n",
        "\n",
        "total = 0\n",
        "for i in range(10):\n",
        "  total = total + (i + 1)\n",
        "  print(total)"
      ],
      "metadata": {
        "colab": {
          "base_uri": "https://localhost:8080/"
        },
        "id": "wuUlgHRpGnf1",
        "outputId": "a7998608-1183-4dc8-c9bd-92b27dea3a5b"
      },
      "execution_count": 39,
      "outputs": [
        {
          "output_type": "stream",
          "name": "stdout",
          "text": [
            "1\n",
            "3\n",
            "6\n",
            "10\n",
            "15\n",
            "21\n",
            "28\n",
            "36\n",
            "45\n",
            "55\n"
          ]
        }
      ]
    }
  ]
}