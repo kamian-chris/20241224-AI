{
  "nbformat": 4,
  "nbformat_minor": 0,
  "metadata": {
    "colab": {
      "provenance": [],
      "authorship_tag": "ABX9TyOq+a+UBACHDtuG9eiDz37l",
      "include_colab_link": true
    },
    "kernelspec": {
      "name": "python3",
      "display_name": "Python 3"
    },
    "language_info": {
      "name": "python"
    }
  },
  "cells": [
    {
      "cell_type": "markdown",
      "metadata": {
        "id": "view-in-github",
        "colab_type": "text"
      },
      "source": [
        "<a href=\"https://colab.research.google.com/github/kamian-chris/20241224-AI/blob/main/1230_02.ipynb\" target=\"_parent\"><img src=\"https://colab.research.google.com/assets/colab-badge.svg\" alt=\"Open In Colab\"/></a>"
      ]
    },
    {
      "cell_type": "code",
      "execution_count": 5,
      "metadata": {
        "colab": {
          "base_uri": "https://localhost:8080/"
        },
        "id": "3TK6VFusHJ-n",
        "outputId": "de2dc613-94ff-493c-ef82-c8bb86013537"
      },
      "outputs": [
        {
          "output_type": "stream",
          "name": "stdout",
          "text": [
            "1\n",
            "3\n",
            "6\n",
            "10\n",
            "15\n",
            "21\n",
            "28\n",
            "36\n",
            "45\n",
            "55\n"
          ]
        }
      ],
      "source": [
        "# 1+2+...+10\n",
        "# 拒絕跳躍性思考\n",
        "\n",
        "total = 0\n",
        "i = 0\n",
        "while i < 10:\n",
        "  total = total + (i + 1)\n",
        "  print(total)\n",
        "  i = i + 1"
      ]
    },
    {
      "cell_type": "code",
      "source": [
        "# 除法 -> 補零 -> 取商 -> 取餘\n",
        "\n",
        "a, b = 2, 7\n",
        "ans = \"0.\"\n",
        "\n",
        "i = 0\n",
        "while i < 10:\n",
        "  # 2 * 10 -> 20\n",
        "  a10 = a * 10\n",
        "  # 20 // 7 -> 0.2\n",
        "  ans = ans + str(a10 // b)\n",
        "  # 20 % 7\n",
        "  a = a10 % b\n",
        "  print(ans)\n",
        "  i = i + 1"
      ],
      "metadata": {
        "colab": {
          "base_uri": "https://localhost:8080/"
        },
        "id": "zMOCzTQDH_pj",
        "outputId": "9259c39e-f90d-42e3-8e06-621028635585"
      },
      "execution_count": 8,
      "outputs": [
        {
          "output_type": "stream",
          "name": "stdout",
          "text": [
            "0.2\n",
            "0.28\n",
            "0.285\n",
            "0.2857\n",
            "0.28571\n",
            "0.285714\n",
            "0.2857142\n",
            "0.28571428\n",
            "0.285714285\n",
            "0.2857142857\n"
          ]
        }
      ]
    },
    {
      "cell_type": "code",
      "source": [
        "s = \"hdgaksj...hdgsJHFG,,  S,DHJKFGSDKJHF     JFDjfhsdkj\"\n",
        "# 算幾個小寫，幾個大寫\n",
        "\n",
        "lcase, ucase = 0, 0\n",
        "i = 0\n",
        "while i < len(s):\n",
        "  # s[i]\n",
        "  # ord(\"A\") = 65\n",
        "  # 當 i 大寫 -> ucase + 1\n",
        "  # ucase = ucase + 1\n",
        "  # 當 i 小寫 -> lcase + 1\n",
        "  # lcase = lcase + 1\n",
        "  letter = ord(s[i])\n",
        "  if ord(\"A\") <= letter <= ord(\"Z\"):\n",
        "    ucase = ucase + 1\n",
        "  elif ord(\"a\") <= letter <= ord(\"z\"):\n",
        "    lcase = lcase + 1\n",
        "  i = i + 1\n",
        "print(lcase, ucase)"
      ],
      "metadata": {
        "colab": {
          "base_uri": "https://localhost:8080/"
        },
        "id": "PCNCCt1xLqnR",
        "outputId": "f349a491-60d9-43a3-a30e-cafa631e0722"
      },
      "execution_count": 16,
      "outputs": [
        {
          "output_type": "stream",
          "name": "stdout",
          "text": [
            "18 20\n"
          ]
        }
      ]
    },
    {
      "cell_type": "code",
      "source": [
        "# 大小寫各幾個\n",
        "# ord(\"英文\") -> 數字\n",
        "s = \"hdgaksj...hdgsJHFG,,  S,DHJKFGSDKJHF     JFDjfhsdkj\"\n",
        "ucases = [0] * 26\n",
        "# * 26 -> 重複做\n",
        "lcases = [0] * 26\n",
        "\n",
        "i = 0\n",
        "while i < len(s):\n",
        "  # 判斷大小寫，在對應list的值+1\n",
        "  n = ord(s[i])\n",
        "  if ord(\"A\") <= n <= ord(\"Z\"):\n",
        "    n = n - ord(\"A\")\n",
        "    ucases[n] = ucases[n] + 1\n",
        "  elif ord(\"a\") <= n <= ord(\"z\"):\n",
        "    n = n - ord(\"a\")\n",
        "    lcases[n] = lcases[n] + 1\n",
        "  i = i + 1\n",
        "print(ucases)\n",
        "print(lcases)\n",
        "\n",
        "#chr(65) -> \"A\". chr(97) -> \"a\"\n",
        "\n",
        "i = 0\n",
        "while i < len(ucases):\n",
        "  # 設定c1 =  i\n",
        "  c1, c2 = chr(i + ord(\"A\")), chr(i + ord(\"a\"))\n",
        "  n1, n2 = ucases[i], lcases[i]\n",
        "  print(c1, n1, \"/\", c2, n2)\n",
        "  i = i + 1"
      ],
      "metadata": {
        "colab": {
          "base_uri": "https://localhost:8080/"
        },
        "id": "JMZFXLrqRnfR",
        "outputId": "04f2d67c-18a9-4523-c86e-c3736e3e400e"
      },
      "execution_count": 29,
      "outputs": [
        {
          "output_type": "stream",
          "name": "stdout",
          "text": [
            "[0, 0, 0, 3, 0, 4, 2, 3, 0, 4, 2, 0, 0, 0, 0, 0, 0, 0, 2, 0, 0, 0, 0, 0, 0, 0]\n",
            "[1, 0, 0, 3, 0, 1, 2, 3, 0, 3, 2, 0, 0, 0, 0, 0, 0, 0, 3, 0, 0, 0, 0, 0, 0, 0]\n",
            "A 0 / a 1\n",
            "B 0 / b 0\n",
            "C 0 / c 0\n",
            "D 3 / d 3\n",
            "E 0 / e 0\n",
            "F 4 / f 1\n",
            "G 2 / g 2\n",
            "H 3 / h 3\n",
            "I 0 / i 0\n",
            "J 4 / j 3\n",
            "K 2 / k 2\n",
            "L 0 / l 0\n",
            "M 0 / m 0\n",
            "N 0 / n 0\n",
            "O 0 / o 0\n",
            "P 0 / p 0\n",
            "Q 0 / q 0\n",
            "R 0 / r 0\n",
            "S 2 / s 3\n",
            "T 0 / t 0\n",
            "U 0 / u 0\n",
            "V 0 / v 0\n",
            "W 0 / w 0\n",
            "X 0 / x 0\n",
            "Y 0 / y 0\n",
            "Z 0 / z 0\n"
          ]
        }
      ]
    }
  ]
}