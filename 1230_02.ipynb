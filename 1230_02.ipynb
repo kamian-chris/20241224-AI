{
  "nbformat": 4,
  "nbformat_minor": 0,
  "metadata": {
    "colab": {
      "provenance": [],
      "authorship_tag": "ABX9TyNBiwDZOSZIeJlp8eSej2XK",
      "include_colab_link": true
    },
    "kernelspec": {
      "name": "python3",
      "display_name": "Python 3"
    },
    "language_info": {
      "name": "python"
    }
  },
  "cells": [
    {
      "cell_type": "markdown",
      "metadata": {
        "id": "view-in-github",
        "colab_type": "text"
      },
      "source": [
        "<a href=\"https://colab.research.google.com/github/kamian-chris/20241224-AI/blob/main/1230_02.ipynb\" target=\"_parent\"><img src=\"https://colab.research.google.com/assets/colab-badge.svg\" alt=\"Open In Colab\"/></a>"
      ]
    },
    {
      "cell_type": "code",
      "execution_count": 5,
      "metadata": {
        "colab": {
          "base_uri": "https://localhost:8080/"
        },
        "id": "3TK6VFusHJ-n",
        "outputId": "de2dc613-94ff-493c-ef82-c8bb86013537"
      },
      "outputs": [
        {
          "output_type": "stream",
          "name": "stdout",
          "text": [
            "1\n",
            "3\n",
            "6\n",
            "10\n",
            "15\n",
            "21\n",
            "28\n",
            "36\n",
            "45\n",
            "55\n"
          ]
        }
      ],
      "source": [
        "# 1+2+...+10\n",
        "# 拒絕跳躍性思考\n",
        "\n",
        "total = 0\n",
        "i = 0\n",
        "while i < 10:\n",
        "  total = total + (i + 1)\n",
        "  print(total)\n",
        "  i = i + 1"
      ]
    },
    {
      "cell_type": "code",
      "source": [
        "# 除法 -> 補零 -> 取商 -> 取餘\n",
        "\n",
        "a, b = 2, 7\n",
        "ans = \"0.\"\n",
        "\n",
        "i = 0\n",
        "while i < 10:\n",
        "  # 2 * 10 -> 20\n",
        "  a10 = a * 10\n",
        "  # 20 // 7 -> 0.2\n",
        "  ans = ans + str(a10 // b)\n",
        "  # 20 % 7\n",
        "  a = a10 % b\n",
        "  print(ans)\n",
        "  i = i + 1"
      ],
      "metadata": {
        "colab": {
          "base_uri": "https://localhost:8080/"
        },
        "id": "zMOCzTQDH_pj",
        "outputId": "1e7219b4-43d6-4763-90bb-e6ddbb36187c"
      },
      "execution_count": 6,
      "outputs": [
        {
          "output_type": "stream",
          "name": "stdout",
          "text": [
            "0.2\n",
            "0.28\n",
            "0.285\n",
            "0.2857\n",
            "0.28571\n",
            "0.285714\n",
            "0.2857142\n",
            "0.28571428\n",
            "0.285714285\n",
            "0.2857142857\n"
          ]
        }
      ]
    }
  ]
}