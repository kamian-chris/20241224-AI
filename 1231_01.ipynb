{
  "nbformat": 4,
  "nbformat_minor": 0,
  "metadata": {
    "colab": {
      "provenance": [],
      "authorship_tag": "ABX9TyO609T3CMgI84TA1V6WNtbJ",
      "include_colab_link": true
    },
    "kernelspec": {
      "name": "python3",
      "display_name": "Python 3"
    },
    "language_info": {
      "name": "python"
    }
  },
  "cells": [
    {
      "cell_type": "markdown",
      "metadata": {
        "id": "view-in-github",
        "colab_type": "text"
      },
      "source": [
        "<a href=\"https://colab.research.google.com/github/kamian-chris/20241224-AI/blob/main/1231_01.ipynb\" target=\"_parent\"><img src=\"https://colab.research.google.com/assets/colab-badge.svg\" alt=\"Open In Colab\"/></a>"
      ]
    },
    {
      "cell_type": "markdown",
      "source": [
        " 不限次數的迴圈"
      ],
      "metadata": {
        "id": "I0HGjq7lR6TO"
      }
    },
    {
      "cell_type": "code",
      "execution_count": 14,
      "metadata": {
        "colab": {
          "base_uri": "https://localhost:8080/"
        },
        "id": "93OapQDyQj6F",
        "outputId": "d6a0c0ab-d22c-403c-f7b8-7b3c8b21ef1a"
      },
      "outputs": [
        {
          "output_type": "stream",
          "name": "stdout",
          "text": [
            "輸(L)\n",
            "輸(L)\n",
            "贏(W)\n",
            "輸(L)\n",
            "總體: LOSE\n"
          ]
        }
      ],
      "source": [
        "import random\n",
        "\n",
        "win, even, lose = 0, 0, 0\n",
        "\n",
        "trans = [\"輸(L)\", \"平手(E)\", \"贏(W)\"]\n",
        "\n",
        "while (win < 3) and (lose < 3):\n",
        "  result = random.randint(-1, 1)\n",
        "  print(trans[result+1])\n",
        "  if result == -1:\n",
        "    lose = lose + 1\n",
        "  elif result == 0:\n",
        "    even = even + 1\n",
        "  elif result == 1:\n",
        "    win = win + 1\n",
        "\n",
        "if win > lose:\n",
        "  print(\"總體: WIN\")\n",
        "else:\n",
        "  print(\"總體: LOSE\")"
      ]
    },
    {
      "cell_type": "code",
      "source": [
        "# while True:\n",
        "# break\n",
        "# 無限迴圈\n",
        "\n",
        "import random\n",
        "\n",
        "win, even, lose = 0, 0, 0\n",
        "\n",
        "trans = [\"輸(L)\", \"平手(E)\", \"贏(W)\"]\n",
        "\n",
        "while True:\n",
        "  result = random.randint(-1, 1)\n",
        "  print(trans[result+1])\n",
        "  if result == -1:\n",
        "    lose = lose + 1\n",
        "  elif result == 0:\n",
        "    even = even + 1\n",
        "  elif result == 1:\n",
        "    win = win + 1\n",
        "\n",
        "  if win >= 3:\n",
        "    print(\"總體: WIN\")\n",
        "    break\n",
        "  elif lose >= 3:\n",
        "    print(\"總體: LOSE\")\n",
        "    break\n"
      ],
      "metadata": {
        "colab": {
          "base_uri": "https://localhost:8080/"
        },
        "id": "WmcImo98dzpC",
        "outputId": "9e5c9777-b4cd-4ff3-beb6-e36339b95655"
      },
      "execution_count": 19,
      "outputs": [
        {
          "output_type": "stream",
          "name": "stdout",
          "text": [
            "贏(W)\n",
            "贏(W)\n",
            "贏(W)\n",
            "總體: WIN\n"
          ]
        }
      ]
    },
    {
      "cell_type": "code",
      "source": [],
      "metadata": {
        "id": "8Crtn7kcgex-"
      },
      "execution_count": null,
      "outputs": []
    }
  ]
}