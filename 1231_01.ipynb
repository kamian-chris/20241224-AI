{
  "nbformat": 4,
  "nbformat_minor": 0,
  "metadata": {
    "colab": {
      "provenance": [],
      "authorship_tag": "ABX9TyMMDh3EvMOB9NAtpst2qB3O",
      "include_colab_link": true
    },
    "kernelspec": {
      "name": "python3",
      "display_name": "Python 3"
    },
    "language_info": {
      "name": "python"
    }
  },
  "cells": [
    {
      "cell_type": "markdown",
      "metadata": {
        "id": "view-in-github",
        "colab_type": "text"
      },
      "source": [
        "<a href=\"https://colab.research.google.com/github/kamian-chris/20241224-AI/blob/main/1231_01.ipynb\" target=\"_parent\"><img src=\"https://colab.research.google.com/assets/colab-badge.svg\" alt=\"Open In Colab\"/></a>"
      ]
    },
    {
      "cell_type": "markdown",
      "source": [
        " 不限次數的迴圈"
      ],
      "metadata": {
        "id": "I0HGjq7lR6TO"
      }
    },
    {
      "cell_type": "code",
      "execution_count": 14,
      "metadata": {
        "colab": {
          "base_uri": "https://localhost:8080/"
        },
        "id": "93OapQDyQj6F",
        "outputId": "d6a0c0ab-d22c-403c-f7b8-7b3c8b21ef1a"
      },
      "outputs": [
        {
          "output_type": "stream",
          "name": "stdout",
          "text": [
            "輸(L)\n",
            "輸(L)\n",
            "贏(W)\n",
            "輸(L)\n",
            "總體: LOSE\n"
          ]
        }
      ],
      "source": [
        "import random\n",
        "\n",
        "win, even, lose = 0, 0, 0\n",
        "\n",
        "trans = [\"輸(L)\", \"平手(E)\", \"贏(W)\"]\n",
        "\n",
        "while (win < 3) and (lose < 3):\n",
        "  result = random.randint(-1, 1)\n",
        "  print(trans[result+1])\n",
        "  if result == -1:\n",
        "    lose = lose + 1\n",
        "  elif result == 0:\n",
        "    even = even + 1\n",
        "  elif result == 1:\n",
        "    win = win + 1\n",
        "\n",
        "if win > lose:\n",
        "  print(\"總體: WIN\")\n",
        "else:\n",
        "  print(\"總體: LOSE\")"
      ]
    },
    {
      "cell_type": "code",
      "source": [
        "# while True:\n",
        "# break\n",
        "# 無限迴圈\n",
        "\n",
        "import random\n",
        "\n",
        "win, even, lose = 0, 0, 0\n",
        "\n",
        "trans = [\"輸(L)\", \"平手(E)\", \"贏(W)\"]\n",
        "\n",
        "while True:\n",
        "  result = random.randint(-1, 1)\n",
        "  print(trans[result+1])\n",
        "  if result == -1:\n",
        "    lose = lose + 1\n",
        "  elif result == 0:\n",
        "    even = even + 1\n",
        "  elif result == 1:\n",
        "    win = win + 1\n",
        "\n",
        "  if win >= 3:\n",
        "    print(\"總體: WIN\")\n",
        "    break\n",
        "  elif lose >= 3:\n",
        "    print(\"總體: LOSE\")\n",
        "    break\n"
      ],
      "metadata": {
        "colab": {
          "base_uri": "https://localhost:8080/"
        },
        "id": "WmcImo98dzpC",
        "outputId": "9e5c9777-b4cd-4ff3-beb6-e36339b95655"
      },
      "execution_count": 19,
      "outputs": [
        {
          "output_type": "stream",
          "name": "stdout",
          "text": [
            "贏(W)\n",
            "贏(W)\n",
            "贏(W)\n",
            "總體: WIN\n"
          ]
        }
      ]
    },
    {
      "cell_type": "code",
      "source": [
        "# 整除，提早結束\n",
        "a, b = 50, 7\n",
        "ans = str(a//b)+ \".\"\n",
        "a =a % b\n",
        "\n",
        "i = 0\n",
        "while i < 10:\n",
        "    # 2 -> 20\n",
        "    a10 = a * 10\n",
        "    # 20 // 7 -> 0.2\n",
        "    ans = ans + str(a10 // b)\n",
        "    print(ans)\n",
        "    # 20 % 7\n",
        "    a = a10 % b\n",
        "\n",
        "    if a == 0:\n",
        "      break\n",
        "    i = i + 1"
      ],
      "metadata": {
        "colab": {
          "base_uri": "https://localhost:8080/"
        },
        "id": "8Crtn7kcgex-",
        "outputId": "373ba7dd-c08e-4215-d33e-1dd6fb481ec6"
      },
      "execution_count": 44,
      "outputs": [
        {
          "output_type": "stream",
          "name": "stdout",
          "text": [
            "7.1\n",
            "7.14\n",
            "7.142\n",
            "7.1428\n",
            "7.14285\n",
            "7.142857\n",
            "7.1428571\n",
            "7.14285714\n",
            "7.142857142\n",
            "7.1428571428\n"
          ]
        }
      ]
    },
    {
      "cell_type": "markdown",
      "source": [
        "```python\n",
        "目標: 給你隨便一個日期， 幫我往後出10個完全平方日\n",
        "\n",
        "1.判斷日期是否合規:\n",
        " ex. 20223009\n",
        "\n",
        "!!! def 功能名(參數):\n",
        "    很多事\n",
        "    return 回傳值\n",
        "\n",
        "```"
      ],
      "metadata": {
        "id": "ktPq94VkmRRw"
      }
    },
    {
      "cell_type": "code",
      "source": [
        "# n = 20223009\n",
        "\n",
        "# 判斷是否為閏年\n",
        "def is_leep_year(y):\n",
        "    if y % 400 ==0:\n",
        "      return True\n",
        "    elif y % 100 == 0:\n",
        "      return False\n",
        "    elif y % 4 == 0:\n",
        "      return True\n",
        "    else:\n",
        "      return False\n",
        "\n",
        "# 判斷日期是否合理\n",
        "def is_valid_date(n):\n",
        "  # 找年 取商\n",
        "  year = n // 10000\n",
        "  # 找月跟日 先 取餘\n",
        "  last4 = n %10000\n",
        "  # 再用 餘 取商 取餘\n",
        "  month = last4 // 100\n",
        "  day = last4 % 100\n",
        "  # print(year, month, day)\n",
        "\n",
        "  # 創建月份清單，並且綁訂日期以供查詢\n",
        "  max_days = [31, 28, 31, 30, 31 ,30 ,31, 31, 30, 31, 30, 31]\n",
        "  # 先判斷月份\n",
        "  if 1 <= month <= 12:\n",
        "    # 月份對了，再判斷 對應日期 是否在上面list範圍內\n",
        "    month_day = max_days[month-1]\n",
        "    # 判斷是否為閏年\n",
        "    if month == 2 and is_leep_year(year) == True:\n",
        "      month_day = month_day + 1\n",
        "    # 判斷日期\n",
        "    if 1 <= day <= month_day:\n",
        "      # print(\"合理輸入\")\n",
        "      return True\n",
        "    else:\n",
        "      #　print(\"不合理日期(日)\")\n",
        "      return False\n",
        "  else:\n",
        "    # print(\"不合理日期(月)\")\n",
        "    return False\n",
        "\n",
        "# print(is_valid_date(19800229))\n",
        "# print(is_valid_date(20000229))\n",
        "# print(is_valid_date(30000229))\n",
        "\n",
        "import math\n",
        "today = 20241231\n",
        "start = math.ceil(today ** 0.5)\n",
        "count = 0\n",
        "\n",
        "while True:\n",
        "  newsart = start ** 2\n",
        "  if is_valid_date(newsart) == True:\n",
        "    print(start, newsart, \"是個完全平方日\")\n",
        "    count = count + 1\n",
        "  start = start + 1\n",
        "  if count == 10:\n",
        "    break"
      ],
      "metadata": {
        "colab": {
          "base_uri": "https://localhost:8080/"
        },
        "id": "aeoqCndckkfe",
        "outputId": "4c1de894-a034-4185-ba60-331f29bc9155"
      },
      "execution_count": 77,
      "outputs": [
        {
          "output_type": "stream",
          "name": "stdout",
          "text": [
            "4552 20720704 是個完全平方日\n",
            "4575 20930625 是個完全平方日\n",
            "4599 21150801 是個完全平方日\n",
            "4625 21390625 是個完全平方日\n",
            "4639 21520321 是個完全平方日\n",
            "4652 21641104 是個完全平方日\n",
            "4653 21650409 是個完全平方日\n",
            "4668 21790224 是個完全平方日\n",
            "4682 21921124 是個完全平方日\n",
            "4698 22071204 是個完全平方日\n"
          ]
        }
      ]
    },
    {
      "cell_type": "code",
      "source": [
        "import math\n",
        "math.ceil(20241231 ** 0.5)\n",
        "math.floor(20241231 ** 0.5)"
      ],
      "metadata": {
        "colab": {
          "base_uri": "https://localhost:8080/"
        },
        "id": "uSxP_92vbbQW",
        "outputId": "58788c99-2b8c-4082-e2d4-65601524f9ef"
      },
      "execution_count": 75,
      "outputs": [
        {
          "output_type": "execute_result",
          "data": {
            "text/plain": [
              "4499"
            ]
          },
          "metadata": {},
          "execution_count": 75
        }
      ]
    },
    {
      "cell_type": "code",
      "source": [
        "n = 19800229\n",
        "# n = 20000229\n",
        "# n = 30000229\n",
        "year = n // 10000\n",
        "last4 = n %10000\n",
        "month = last4 // 100\n",
        "day = last4 % 100\n",
        "print(year, month, day)\n",
        "\n",
        "# 創建月份清單，並且綁訂日期以供查詢\n",
        "max_days = [31, 28, 31, 30, 31 ,30 ,31, 31, 30, 31, 30, 31]\n",
        "# 判斷是否為閏年，但比較難看\n",
        "if year % 4 == 0:\n",
        "  if year % 100 == 0:\n",
        "    if year % 400 == 0:\n",
        "      print(\"閏年\")\n",
        "    else:\n",
        "      print(\"不是閏年\")\n",
        "  else:\n",
        "    print(\"閏年\")\n",
        "else:\n",
        "  print(\"不是閏年\")"
      ],
      "metadata": {
        "colab": {
          "base_uri": "https://localhost:8080/"
        },
        "id": "SoOLk2Bx8I32",
        "outputId": "6d65ae37-5972-4660-9aeb-26f49d8f510d"
      },
      "execution_count": 61,
      "outputs": [
        {
          "output_type": "stream",
          "name": "stdout",
          "text": [
            "1980 2 29\n",
            "閏年\n"
          ]
        }
      ]
    }
  ]
}