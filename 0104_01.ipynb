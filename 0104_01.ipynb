{
  "nbformat": 4,
  "nbformat_minor": 0,
  "metadata": {
    "colab": {
      "provenance": [],
      "authorship_tag": "ABX9TyM0of5Wjt7GchMRyKKlx2Iz",
      "include_colab_link": true
    },
    "kernelspec": {
      "name": "python3",
      "display_name": "Python 3"
    },
    "language_info": {
      "name": "python"
    }
  },
  "cells": [
    {
      "cell_type": "markdown",
      "metadata": {
        "id": "view-in-github",
        "colab_type": "text"
      },
      "source": [
        "<a href=\"https://colab.research.google.com/github/kamian-chris/20241224-AI/blob/main/0104_01.ipynb\" target=\"_parent\"><img src=\"https://colab.research.google.com/assets/colab-badge.svg\" alt=\"Open In Colab\"/></a>"
      ]
    },
    {
      "cell_type": "code",
      "execution_count": 27,
      "metadata": {
        "colab": {
          "base_uri": "https://localhost:8080/"
        },
        "id": "_aTXv2AFpvd6",
        "outputId": "a948ac0c-14fd-46dd-f787-a55bdc4ffe7c"
      },
      "outputs": [
        {
          "output_type": "stream",
          "name": "stdout",
          "text": [
            "輸入獎項名稱：A\n",
            "輸入次數：4\n",
            "輸入獎項名稱：B\n",
            "輸入次數：4\n",
            "輸入抽獎次數：3\n",
            "第 1 抽:  A\n",
            "剩餘獎項: 7 個\n",
            "第 2 抽:  B\n",
            "剩餘獎項: 6 個\n",
            "第 3 抽:  A\n",
            "剩餘獎項: 5 個\n"
          ]
        }
      ],
      "source": [
        "# 我想模擬抽獎\n",
        "# 需要隨機數\n",
        "import random\n",
        "\n",
        "# 需要輸入 甚麼獎 有 幾個\n",
        "n1 = input(\"輸入獎項名稱：\")\n",
        "f1 = int(input(\"輸入次數：\"))\n",
        "n2 = input(\"輸入獎項名稱：\")\n",
        "f2 = int(input(\"輸入次數：\"))\n",
        "# 我想抽 幾次\n",
        "want_take = int(input(\"輸入抽獎次數：\"))\n",
        "\n",
        "# 然後創建清單，把 獎項 * 幾個 放進去\n",
        "list_total = [n1] * f1 + [n2] * f2\n",
        "\n",
        "# 我想顯示第幾抽，所以設定初始 0 抽\n",
        "count = 0\n",
        "# 因為會一直重複做很多次，所以用 while True\n",
        "while True:\n",
        "  # 我要隨機一個數，最小值是 0 ，最大值是上面的 list_total - 1\n",
        "  prize = random.randint(0, len(list_total)-1)\n",
        "  # 因為我需要先顯示這是 第幾抽, 抽到 什麼，所以 先+1, 但不回傳\n",
        "  print(\"第\", str(count + 1), \"抽: \", list_total[prize])\n",
        "  # 我不知道怎樣從 list 拿掉東西， 所以問chatGPT， 並使用 list 的 pop(位置參數) -> 把list中的對應位置拿掉\n",
        "  list_total.pop(prize)\n",
        "  # 顯示 剩下幾個\n",
        "  print(\"剩餘獎項:\", len(list_total), \"個\")\n",
        "  # count 初始 0, want_take, 初始 1， 所以要相等(等於抽幾次) -> want_take 就要 -1，或是 count +1\n",
        "  if count == want_take - 1:\n",
        "    break\n",
        "  if list_total == []:\n",
        "    print(\"已抽完\")\n",
        "    break\n",
        "  count = count + 1"
      ]
    },
    {
      "cell_type": "code",
      "source": [
        "import random\n",
        "n1 = 1\n",
        "n2 = 2\n",
        "n3 = 4\n",
        "list1 = [n1, n2, n3]\n",
        "\n",
        "i = 0\n",
        "while i < 1:\n",
        "  r = random.randint(0,2)\n",
        "  print(list1[r])\n",
        "  i = i + 1"
      ],
      "metadata": {
        "colab": {
          "base_uri": "https://localhost:8080/"
        },
        "id": "rELXEhRC2WiW",
        "outputId": "a344a89f-5d11-466d-c7e6-3dfb568ef175"
      },
      "execution_count": 79,
      "outputs": [
        {
          "output_type": "stream",
          "name": "stdout",
          "text": [
            "1\n"
          ]
        }
      ]
    },
    {
      "cell_type": "code",
      "source": [
        "n1 = input(\"輸入獎項名稱：\")\n",
        "f1 = int(input(\"輸入次數：\"))\n",
        "n2 = input(\"輸入獎項名稱：\")\n",
        "f2 = int(input(\"輸入次數：\"))\n",
        "list_total = [n1] * f1 + [n2] * f2\n",
        "\n",
        "all_prize = random.randint(0, len(list_total))\n",
        "print(list_total[all_prize])"
      ],
      "metadata": {
        "colab": {
          "base_uri": "https://localhost:8080/"
        },
        "id": "8Vckb-ui_bit",
        "outputId": "f176a6c0-2390-427c-a6b2-cbd69f92da7d"
      },
      "execution_count": 6,
      "outputs": [
        {
          "output_type": "stream",
          "name": "stdout",
          "text": [
            "輸入獎項名稱：A\n",
            "輸入次數：1\n",
            "輸入獎項名稱：B\n",
            "輸入次數：2\n",
            "B\n"
          ]
        }
      ]
    }
  ]
}