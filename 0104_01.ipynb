{
  "nbformat": 4,
  "nbformat_minor": 0,
  "metadata": {
    "colab": {
      "provenance": [],
      "authorship_tag": "ABX9TyMji0cMbgMiS6Huue9Bp1KT",
      "include_colab_link": true
    },
    "kernelspec": {
      "name": "python3",
      "display_name": "Python 3"
    },
    "language_info": {
      "name": "python"
    }
  },
  "cells": [
    {
      "cell_type": "markdown",
      "metadata": {
        "id": "view-in-github",
        "colab_type": "text"
      },
      "source": [
        "<a href=\"https://colab.research.google.com/github/kamian-chris/20241224-AI/blob/main/0104_01.ipynb\" target=\"_parent\"><img src=\"https://colab.research.google.com/assets/colab-badge.svg\" alt=\"Open In Colab\"/></a>"
      ]
    },
    {
      "cell_type": "code",
      "execution_count": 27,
      "metadata": {
        "colab": {
          "base_uri": "https://localhost:8080/"
        },
        "id": "_aTXv2AFpvd6",
        "outputId": "a948ac0c-14fd-46dd-f787-a55bdc4ffe7c"
      },
      "outputs": [
        {
          "output_type": "stream",
          "name": "stdout",
          "text": [
            "輸入獎項名稱：A\n",
            "輸入次數：4\n",
            "輸入獎項名稱：B\n",
            "輸入次數：4\n",
            "輸入抽獎次數：3\n",
            "第 1 抽:  A\n",
            "剩餘獎項: 7 個\n",
            "第 2 抽:  B\n",
            "剩餘獎項: 6 個\n",
            "第 3 抽:  A\n",
            "剩餘獎項: 5 個\n"
          ]
        }
      ],
      "source": [
        "# 模擬 一番賞抽獎 01 版\n",
        "# 我想模擬抽獎\n",
        "# 需要隨機數\n",
        "import random\n",
        "\n",
        "#-------但是這個好不自由， 不能我自己決定有幾個-----------------\n",
        "\n",
        "# 需要輸入 甚麼獎 有 幾個\n",
        "n1 = input(\"輸入獎項名稱：\")\n",
        "f1 = int(input(\"輸入次數：\"))\n",
        "n2 = input(\"輸入獎項名稱：\")\n",
        "f2 = int(input(\"輸入次數：\"))\n",
        "# 我想抽 幾次\n",
        "want_take = int(input(\"輸入抽獎次數：\"))\n",
        "\n",
        "# 然後創建清單，把 獎項 * 幾個 放進去\n",
        "list_total = [n1] * f1 + [n2] * f2\n",
        "\n",
        "#---------所以我想換個寫法, 讓我可以一直\"輸入到我想停為止\"------\n",
        "\n",
        "# 我想顯示第幾抽，所以設定初始 0 抽\n",
        "count = 0\n",
        "# 因為會一直重複做很多次，所以用 while True\n",
        "while True:\n",
        "  # 我要隨機一個數，最小值是 0 ，最大值是上面的 list_total - 1\n",
        "  prize = random.randint(0, len(list_total)-1)\n",
        "  # 因為我需要先顯示這是 第幾抽, 抽到 什麼，所以 先+1, 但不回傳\n",
        "  print(\"第\", str(count + 1), \"抽: \", list_total[prize])\n",
        "  # 我不知道怎樣從 list 拿掉東西， 所以問chatGPT， 並使用 list 的 pop(位置參數) -> 把list中的對應位置拿掉\n",
        "  list_total.pop(prize)\n",
        "  # 顯示 剩下幾個\n",
        "  print(\"剩餘獎項:\", len(list_total), \"個\")\n",
        "  # count 初始 0, want_take, 初始 1， 所以要相等(等於抽幾次) -> want_take 就要 -1，或是 count +1\n",
        "  if count == want_take - 1:\n",
        "    break\n",
        "  if list_total == []:\n",
        "    print(\"已抽完\")\n",
        "    break\n",
        "  count = count + 1"
      ]
    },
    {
      "cell_type": "code",
      "source": [
        "# 測試用\n",
        "import random\n",
        "n1 = 1\n",
        "n2 = 2\n",
        "n3 = 4\n",
        "list1 = [n1, n2, n3]\n",
        "\n",
        "i = 0\n",
        "while i < 1:\n",
        "  r = random.randint(0,2)\n",
        "  print(list1[r])\n",
        "  i = i + 1"
      ],
      "metadata": {
        "colab": {
          "base_uri": "https://localhost:8080/"
        },
        "id": "rELXEhRC2WiW",
        "outputId": "a344a89f-5d11-466d-c7e6-3dfb568ef175"
      },
      "execution_count": 79,
      "outputs": [
        {
          "output_type": "stream",
          "name": "stdout",
          "text": [
            "1\n"
          ]
        }
      ]
    },
    {
      "cell_type": "code",
      "source": [
        "# 測試用\n",
        "n1 = input(\"輸入獎項名稱：\")\n",
        "f1 = int(input(\"輸入次數：\"))\n",
        "n2 = input(\"輸入獎項名稱：\")\n",
        "f2 = int(input(\"輸入次數：\"))\n",
        "list_total = [n1] * f1 + [n2] * f2\n",
        "\n",
        "all_prize = random.randint(0, len(list_total))\n",
        "print(list_total[all_prize])"
      ],
      "metadata": {
        "colab": {
          "base_uri": "https://localhost:8080/"
        },
        "id": "8Vckb-ui_bit",
        "outputId": "f176a6c0-2390-427c-a6b2-cbd69f92da7d"
      },
      "execution_count": 6,
      "outputs": [
        {
          "output_type": "stream",
          "name": "stdout",
          "text": [
            "輸入獎項名稱：A\n",
            "輸入次數：1\n",
            "輸入獎項名稱：B\n",
            "輸入次數：2\n",
            "B\n"
          ]
        }
      ]
    },
    {
      "cell_type": "code",
      "source": [
        "# 我想要重複輸入\n",
        "\n",
        "list_total = []\n",
        "while True:\n",
        "  n1 = input(\"寫:\")\n",
        "  if n1 == \"over\":\n",
        "    break\n",
        "  f1 = int(input(\"次數:\"))\n",
        "  list1 = [n1] * f1\n",
        "  print(list1)\n",
        "  list_total = list_total + list1\n",
        "\n",
        "print(list_total)"
      ],
      "metadata": {
        "id": "AovD0ieTOqUd",
        "outputId": "01e273d3-203c-440d-defb-80eb8492fdf6",
        "colab": {
          "base_uri": "https://localhost:8080/"
        }
      },
      "execution_count": 39,
      "outputs": [
        {
          "output_type": "stream",
          "name": "stdout",
          "text": [
            "寫:A\n",
            "次數:2\n",
            "['A', 'A']\n",
            "寫:B\n",
            "次數:6\n",
            "['B', 'B', 'B', 'B', 'B', 'B']\n",
            "寫:q\n",
            "['A', 'A', 'B', 'B', 'B', 'B', 'B', 'B']\n"
          ]
        }
      ]
    },
    {
      "cell_type": "code",
      "source": [
        "import random\n",
        "\n",
        "# 所以我先創建 list_total(空的)\n",
        "list_total = []\n",
        "# 提示下面如何停止迴圈\n",
        "print(\"若要停止輸入，請於獎項時輸入:over\")\n",
        "while True:\n",
        "  # 輸入獎項\n",
        "  n = input(\"輸入獎項名稱：\")\n",
        "  # 若獎項 == over 就 break\n",
        "  if n == \"over\":\n",
        "    break\n",
        "  # 若不 == break 才輸入幾個\n",
        "  f = int(input(\"輸入此獎項有幾個:\"))\n",
        "  # 之後生成 n 有 f 個的清單\n",
        "  list_1 = [n] * f\n",
        "  # 看一下\n",
        "  print(list_1)\n",
        "  # 再回傳到 list_total\n",
        "  list_total = list_total + list_1\n",
        "\n",
        "# 我想抽 幾次\n",
        "want_take = int(input(\"輸入抽獎次數：\"))\n",
        "# 分隔線\n",
        "print(\"----------------------\")\n",
        "\n",
        "count = 0\n",
        "while True:\n",
        "  prize = random.randint(0, len(list_total)-1)\n",
        "  print(\"第\", str(count + 1), \"抽: \", list_total[prize])\n",
        "\n",
        "  list_total.pop(prize)\n",
        "\n",
        "  print(\"剩餘獎項:\", len(list_total), \"個\")\n",
        "  if count == want_take - 1:\n",
        "    break\n",
        "  if list_total == []:\n",
        "    print(\"已抽完\")\n",
        "    break\n",
        "  count = count + 1"
      ],
      "metadata": {
        "id": "TdlVp3n8STSR",
        "outputId": "b96d19a9-c5e0-4371-9c57-12f39923f2da",
        "colab": {
          "base_uri": "https://localhost:8080/"
        }
      },
      "execution_count": 41,
      "outputs": [
        {
          "output_type": "stream",
          "name": "stdout",
          "text": [
            "若要停止輸入，請於獎項時輸入:over\n",
            "輸入獎項名稱：A\n",
            "輸入此獎項有幾個:2\n",
            "['A', 'A']\n",
            "輸入獎項名稱：B\n",
            "輸入此獎項有幾個:2\n",
            "['B', 'B']\n",
            "輸入獎項名稱：C\n",
            "輸入此獎項有幾個:3\n",
            "['C', 'C', 'C']\n",
            "輸入獎項名稱：over\n",
            "輸入抽獎次數：2\n",
            "第 1 抽:  B\n",
            "剩餘獎項: 6 個\n",
            "第 2 抽:  C\n",
            "剩餘獎項: 5 個\n"
          ]
        }
      ]
    }
  ]
}