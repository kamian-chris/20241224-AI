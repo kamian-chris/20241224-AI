{
  "nbformat": 4,
  "nbformat_minor": 0,
  "metadata": {
    "colab": {
      "provenance": [],
      "authorship_tag": "ABX9TyNO5geTlXRoMAyieLg6EDgP",
      "include_colab_link": true
    },
    "kernelspec": {
      "name": "python3",
      "display_name": "Python 3"
    },
    "language_info": {
      "name": "python"
    }
  },
  "cells": [
    {
      "cell_type": "markdown",
      "metadata": {
        "id": "view-in-github",
        "colab_type": "text"
      },
      "source": [
        "<a href=\"https://colab.research.google.com/github/kamian-chris/20241224-AI/blob/main/0104_01.ipynb\" target=\"_parent\"><img src=\"https://colab.research.google.com/assets/colab-badge.svg\" alt=\"Open In Colab\"/></a>"
      ]
    },
    {
      "cell_type": "code",
      "execution_count": 20,
      "metadata": {
        "colab": {
          "base_uri": "https://localhost:8080/"
        },
        "id": "_aTXv2AFpvd6",
        "outputId": "7974fd4a-3734-410c-efc8-8b3c5b9d5b54"
      },
      "outputs": [
        {
          "output_type": "stream",
          "name": "stdout",
          "text": [
            "輸入獎項名稱：A\n",
            "輸入次數：5\n",
            "輸入獎項名稱：B\n",
            "輸入次數：5\n",
            "輸入抽獎次數：10\n",
            "第 1 抽:  B\n",
            "剩餘獎項: 9 個\n",
            "第 1 抽:  A\n",
            "剩餘獎項: 8 個\n",
            "第 1 抽:  A\n",
            "剩餘獎項: 7 個\n",
            "第 1 抽:  A\n",
            "剩餘獎項: 6 個\n",
            "第 1 抽:  B\n",
            "剩餘獎項: 5 個\n",
            "第 1 抽:  B\n",
            "剩餘獎項: 4 個\n",
            "第 1 抽:  A\n",
            "剩餘獎項: 3 個\n",
            "第 1 抽:  A\n",
            "剩餘獎項: 2 個\n",
            "第 1 抽:  B\n",
            "剩餘獎項: 1 個\n",
            "第 1 抽:  B\n",
            "剩餘獎項: 0 個\n",
            "已抽完\n"
          ]
        }
      ],
      "source": [
        "import random\n",
        "\n",
        "n1 = input(\"輸入獎項名稱：\")\n",
        "f1 = int(input(\"輸入次數：\"))\n",
        "n2 = input(\"輸入獎項名稱：\")\n",
        "f2 = int(input(\"輸入次數：\"))\n",
        "want_take = int(input(\"輸入抽獎次數：\"))\n",
        "\n",
        "list_total = [n1] * f1 + [n2] * f2\n",
        "\n",
        "i = 0\n",
        "while True:\n",
        "  prize = random.randint(0, len(list_total)-1)\n",
        "  print(\"第\", str(i + 1), \"抽: \", list_total[prize])\n",
        "\n",
        "  list_total.pop(prize)\n",
        "  print(\"剩餘獎項:\", len(list_total), \"個\")\n",
        "  if i == want_take - 1:\n",
        "    break\n",
        "  if list_total == []:\n",
        "    print(\"已抽完\")\n",
        "    break"
      ]
    },
    {
      "cell_type": "code",
      "source": [
        "import random\n",
        "n1 = 1\n",
        "n2 = 2\n",
        "n3 = 4\n",
        "list1 = [n1, n2, n3]\n",
        "\n",
        "i = 0\n",
        "while i < 1:\n",
        "  r = random.randint(0,2)\n",
        "  print(list1[r])\n",
        "  i = i + 1"
      ],
      "metadata": {
        "colab": {
          "base_uri": "https://localhost:8080/"
        },
        "id": "rELXEhRC2WiW",
        "outputId": "a344a89f-5d11-466d-c7e6-3dfb568ef175"
      },
      "execution_count": 79,
      "outputs": [
        {
          "output_type": "stream",
          "name": "stdout",
          "text": [
            "1\n"
          ]
        }
      ]
    },
    {
      "cell_type": "code",
      "source": [
        "n1 = input(\"輸入獎項名稱：\")\n",
        "f1 = int(input(\"輸入次數：\"))\n",
        "n2 = input(\"輸入獎項名稱：\")\n",
        "f2 = int(input(\"輸入次數：\"))\n",
        "list_total = [n1] * f1 + [n2] * f2\n",
        "\n",
        "all_prize = random.randint(0, len(list_total))\n",
        "print(list_total[all_prize])"
      ],
      "metadata": {
        "id": "8Vckb-ui_bit",
        "outputId": "f176a6c0-2390-427c-a6b2-cbd69f92da7d",
        "colab": {
          "base_uri": "https://localhost:8080/"
        }
      },
      "execution_count": 6,
      "outputs": [
        {
          "output_type": "stream",
          "name": "stdout",
          "text": [
            "輸入獎項名稱：A\n",
            "輸入次數：1\n",
            "輸入獎項名稱：B\n",
            "輸入次數：2\n",
            "B\n"
          ]
        }
      ]
    }
  ]
}