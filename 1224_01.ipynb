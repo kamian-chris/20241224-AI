{
  "nbformat": 4,
  "nbformat_minor": 0,
  "metadata": {
    "colab": {
      "provenance": [],
      "authorship_tag": "ABX9TyO0KkTms102xSm3Ic5CsC2L",
      "include_colab_link": true
    },
    "kernelspec": {
      "name": "python3",
      "display_name": "Python 3"
    },
    "language_info": {
      "name": "python"
    }
  },
  "cells": [
    {
      "cell_type": "markdown",
      "metadata": {
        "id": "view-in-github",
        "colab_type": "text"
      },
      "source": [
        "<a href=\"https://colab.research.google.com/github/kamian-chris/20241224-AI/blob/main/1224_01.ipynb\" target=\"_parent\"><img src=\"https://colab.research.google.com/assets/colab-badge.svg\" alt=\"Open In Colab\"/></a>"
      ]
    },
    {
      "cell_type": "markdown",
      "source": [
        "latex math\n",
        "\n",
        "$ a = \\sum_{i=0}^{n} \\frac{1}{n+1} $"
      ],
      "metadata": {
        "id": "36JWEY9HL_gM"
      }
    },
    {
      "cell_type": "code",
      "source": [
        "# bmi = weight(kg) / height(m) ^ 2\n",
        "weight = float(input(\"請輸入體重：\"))\n",
        "height = float(input(\"請輸入身高：\"))\n",
        "bmi = weight / (height / 100 ) **2\n",
        "print(\"你的體重是：\" + str(weight))\n",
        "print(\"你的身高是：\" + str(height))\n",
        "print(\"bmi是\" + str(bmi))\n",
        "\n",
        "if bmi > 25:\n",
        "  print(\"過重\")\n",
        "  print(\"少吃多動\")\n",
        "else:\n",
        "  print(\"正常\")"
      ],
      "metadata": {
        "colab": {
          "base_uri": "https://localhost:8080/"
        },
        "id": "92fy8Mc5h_HX",
        "outputId": "84477a9f-9e31-4534-d70c-cbe460191e73"
      },
      "execution_count": 3,
      "outputs": [
        {
          "output_type": "stream",
          "name": "stdout",
          "text": [
            "請輸入體重：90\n",
            "請輸入身高：170\n",
            "你的體重是：90.0\n",
            "你的身高是：170.0\n",
            "bmi是31.14186851211073\n",
            "過重\n",
            "少吃多動\n"
          ]
        }
      ]
    },
    {
      "cell_type": "code",
      "source": [
        "# 剪刀石頭布\n",
        "# list>>[]\n",
        "# X = [0, 1, 2, 3......]\n",
        "# 要查的東西[編號>>key]\n",
        "# 取商 7//3 >>> 2  >>> 分組運算\n",
        "# 取餘 7%(mod)3 >>> 1 >>> 循環運算\n",
        "# 循環>>>到哪裡的時候歸零>>> 0-4: %5 0-9: %10 0-x:%(x+1)\n",
        "# 最後思考>>>什麼時候要取: 有可能超過\n",
        "\n",
        "import random\n",
        "\n",
        "my = int(input(\"請輸入 0.剪刀 1.石頭 2.布:\"))\n",
        "com = random.randint(0, 2)\n",
        "trans = [\"剪刀\", \"石頭\", \"布\"]\n",
        "print(\"我出的:\", trans[my])\n",
        "print(\"電腦的:\", trans[com])\n",
        "\n",
        "if my == (com + 1) % 3:\n",
        "  print(\"WIN\")\n",
        "elif com == (my +1) % 3:\n",
        "  print(\"LOSE\")\n",
        "else:\n",
        "  print(\"EVEN\")"
      ],
      "metadata": {
        "colab": {
          "base_uri": "https://localhost:8080/"
        },
        "id": "S8XCtRYdqy_i",
        "outputId": "9a70945a-50ff-480a-89c5-3ae6b0cbcf81"
      },
      "execution_count": 13,
      "outputs": [
        {
          "output_type": "stream",
          "name": "stdout",
          "text": [
            "請輸入 0.剪刀 1.石頭 2.布:0\n",
            "我出的: 剪刀\n",
            "電腦的: 布\n",
            "WIN\n"
          ]
        }
      ]
    },
    {
      "cell_type": "code",
      "source": [
        "#作業\n",
        "\n",
        "import random\n",
        "\n",
        "my = int(input(\"0-5:\"))\n",
        "com = random.randint(0, 5)\n",
        "trans = [\"剪刀(0)\", \"石頭(0)\", \"布(0)\",\n",
        "      \"剪刀(1)\", \"石頭(1)\", \"布(1)\"]\n",
        "print(\"我出的:\", trans[my])\n",
        "print(\"電腦的:\", trans[com])\n",
        "\n",
        "if my // 3 == com // 3:\n",
        "  if my % 3 == ((com + 1) % 3) % 3:\n",
        "    print(\"WIN\")\n",
        "  elif com % 3 == ((my + 1) % 3) % 3:\n",
        "    print(\"LOST\")\n",
        "  else:\n",
        "    print(\"EVEN(平手)\")\n",
        "else:\n",
        "  print(\"EVEN(不同組)\")"
      ],
      "metadata": {
        "colab": {
          "base_uri": "https://localhost:8080/"
        },
        "id": "ldz4a6LT8R-p",
        "outputId": "76329a5f-f7e5-4b32-d618-e00132eaa543"
      },
      "execution_count": 26,
      "outputs": [
        {
          "output_type": "stream",
          "name": "stdout",
          "text": [
            "0-5:1\n",
            "我出的: 石頭(0)\n",
            "電腦的: 布(0)\n",
            "LOST\n"
          ]
        }
      ]
    }
  ]
}