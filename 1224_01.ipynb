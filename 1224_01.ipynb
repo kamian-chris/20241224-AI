{
  "nbformat": 4,
  "nbformat_minor": 0,
  "metadata": {
    "colab": {
      "provenance": [],
      "authorship_tag": "ABX9TyOmq+d0eyWq9DWqmhzUqHBB",
      "include_colab_link": true
    },
    "kernelspec": {
      "name": "python3",
      "display_name": "Python 3"
    },
    "language_info": {
      "name": "python"
    }
  },
  "cells": [
    {
      "cell_type": "markdown",
      "metadata": {
        "id": "view-in-github",
        "colab_type": "text"
      },
      "source": [
        "<a href=\"https://colab.research.google.com/github/kamian-chris/20241224-AI/blob/main/1224_01.ipynb\" target=\"_parent\"><img src=\"https://colab.research.google.com/assets/colab-badge.svg\" alt=\"Open In Colab\"/></a>"
      ]
    },
    {
      "cell_type": "code",
      "execution_count": null,
      "metadata": {
        "id": "o7Tt5jFu9I0N"
      },
      "outputs": [],
      "source": []
    },
    {
      "cell_type": "markdown",
      "source": [
        "latex math\n",
        "\n",
        "$ a = \\sum_{i=0}^{n} \\frac{1}{n+1} $"
      ],
      "metadata": {
        "id": "36JWEY9HL_gM"
      }
    },
    {
      "cell_type": "code",
      "source": [
        "# bmi = weight(kg) / height(m) ^ 2\n",
        "weight = 70\n",
        "height = 175\n",
        "print(weight)\n",
        "print(height)\n",
        "print(weight / (height / 100 ) **2 )"
      ],
      "metadata": {
        "colab": {
          "base_uri": "https://localhost:8080/"
        },
        "id": "92fy8Mc5h_HX",
        "outputId": "b5d757b5-574e-42a8-c259-4eb11a308629"
      },
      "execution_count": 5,
      "outputs": [
        {
          "output_type": "stream",
          "name": "stdout",
          "text": [
            "70\n",
            "175\n",
            "22.857142857142858\n"
          ]
        }
      ]
    }
  ]
}