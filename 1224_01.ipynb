{
  "nbformat": 4,
  "nbformat_minor": 0,
  "metadata": {
    "colab": {
      "provenance": [],
      "authorship_tag": "ABX9TyPhbQZw9m9gdm2bDvG1lA0l",
      "include_colab_link": true
    },
    "kernelspec": {
      "name": "python3",
      "display_name": "Python 3"
    },
    "language_info": {
      "name": "python"
    }
  },
  "cells": [
    {
      "cell_type": "markdown",
      "metadata": {
        "id": "view-in-github",
        "colab_type": "text"
      },
      "source": [
        "<a href=\"https://colab.research.google.com/github/kamian-chris/20241224-AI/blob/main/1224_01.ipynb\" target=\"_parent\"><img src=\"https://colab.research.google.com/assets/colab-badge.svg\" alt=\"Open In Colab\"/></a>"
      ]
    },
    {
      "cell_type": "code",
      "execution_count": null,
      "metadata": {
        "id": "o7Tt5jFu9I0N"
      },
      "outputs": [],
      "source": []
    },
    {
      "cell_type": "markdown",
      "source": [
        "latex math\n",
        "\n",
        "$ a = \\sum_{i=0}^{n} \\frac{1}{n+1} $"
      ],
      "metadata": {
        "id": "36JWEY9HL_gM"
      }
    },
    {
      "cell_type": "code",
      "source": [
        "# bmi = weight(kg) / height(m) ^ 2\n",
        "weight = float(input(\"請輸入體重：\"))\n",
        "height = float(input(\"請輸入身高：\"))\n",
        "bmi = weight / (height / 100 ) **2\n",
        "print(\"你的體重是：\" + str(weight))\n",
        "print(\"你的身高是：\" + str(height))\n",
        "print(\"bmi是\" + str(bmi))\n",
        "\n",
        "if bmi > 25:\n",
        "  print(\"過重\")\n",
        "  print(\"少吃多動\")\n",
        "else:\n",
        "  print(\"正常\")"
      ],
      "metadata": {
        "colab": {
          "base_uri": "https://localhost:8080/"
        },
        "id": "92fy8Mc5h_HX",
        "outputId": "84477a9f-9e31-4534-d70c-cbe460191e73"
      },
      "execution_count": 3,
      "outputs": [
        {
          "output_type": "stream",
          "name": "stdout",
          "text": [
            "請輸入體重：90\n",
            "請輸入身高：170\n",
            "你的體重是：90.0\n",
            "你的身高是：170.0\n",
            "bmi是31.14186851211073\n",
            "過重\n",
            "少吃多動\n"
          ]
        }
      ]
    }
  ]
}