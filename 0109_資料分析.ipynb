{
  "nbformat": 4,
  "nbformat_minor": 0,
  "metadata": {
    "colab": {
      "provenance": [],
      "authorship_tag": "ABX9TyN/grArnUu7Fz1kHFMB4uXE",
      "include_colab_link": true
    },
    "kernelspec": {
      "name": "python3",
      "display_name": "Python 3"
    },
    "language_info": {
      "name": "python"
    }
  },
  "cells": [
    {
      "cell_type": "markdown",
      "metadata": {
        "id": "view-in-github",
        "colab_type": "text"
      },
      "source": [
        "<a href=\"https://colab.research.google.com/github/kamian-chris/20241224-AI/blob/main/0109_%E8%B3%87%E6%96%99%E5%88%86%E6%9E%90.ipynb\" target=\"_parent\"><img src=\"https://colab.research.google.com/assets/colab-badge.svg\" alt=\"Open In Colab\"/></a>"
      ]
    },
    {
      "cell_type": "code",
      "execution_count": 9,
      "metadata": {
        "id": "GLhyNm1TvRSl",
        "colab": {
          "base_uri": "https://localhost:8080/"
        },
        "outputId": "171e2faa-b365-4781-ee36-74c59911f9ce"
      },
      "outputs": [
        {
          "output_type": "stream",
          "name": "stdout",
          "text": [
            "[2, 4, 6, 8, 10, 12]\n"
          ]
        }
      ],
      "source": [
        "x = []\n",
        "i = 0\n",
        "while i <= 12:\n",
        "    if i % 2 == 0:\n",
        "        x.append(i)\n",
        "    i = i + 1\n",
        "x.pop(0)\n",
        "print(x)"
      ]
    }
  ]
}