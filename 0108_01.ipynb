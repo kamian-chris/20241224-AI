{
  "nbformat": 4,
  "nbformat_minor": 0,
  "metadata": {
    "colab": {
      "provenance": [],
      "authorship_tag": "ABX9TyPmcRt0Okp+eeHUnXaoBTIR",
      "include_colab_link": true
    },
    "kernelspec": {
      "name": "python3",
      "display_name": "Python 3"
    },
    "language_info": {
      "name": "python"
    }
  },
  "cells": [
    {
      "cell_type": "markdown",
      "metadata": {
        "id": "view-in-github",
        "colab_type": "text"
      },
      "source": [
        "<a href=\"https://colab.research.google.com/github/kamian-chris/20241224-AI/blob/main/0108_01.ipynb\" target=\"_parent\"><img src=\"https://colab.research.google.com/assets/colab-badge.svg\" alt=\"Open In Colab\"/></a>"
      ]
    },
    {
      "cell_type": "code",
      "execution_count": 4,
      "metadata": {
        "colab": {
          "base_uri": "https://localhost:8080/"
        },
        "id": "goVBkxTWd_5A",
        "outputId": "3e07b66d-05a4-4e0a-b9c0-1574d587addd"
      },
      "outputs": [
        {
          "output_type": "stream",
          "name": "stdout",
          "text": [
            "<a class=\"list-rst__rst-name-target cpy-rst-name\" data-list-dest=\"item_top\" href=\"https://tabelog.com/tw/tokyo/A1302/A130204/13018162/\" rel=\"noopener\" target=\"_blank\">Nihonbashi Kakigaracho Sugita</a>\n",
            "https://tabelog.com/tw/tokyo/A1302/A130204/13018162/\n",
            "Nihonbashi Kakigaracho Sugita\n"
          ]
        }
      ],
      "source": [
        "# https://tabelog.com/tw/tokyo/rstLst/1/?SrtT=rt\n",
        "\n",
        "import urllib.request as req\n",
        "# beautifulsoup4(html用)\n",
        "import bs4 as bs\n",
        "\n",
        "url = \"https://tabelog.com/tw/tokyo/rstLst/1/?SrtT=rt\"\n",
        "response = req.urlopen(url)\n",
        "html = bs.BeautifulSoup(response)\n",
        "\n",
        "# html專屬功能: 1.find 找第一個, 2.find_all 找所有\n",
        "# 1.特殊屬性: link[\"href\"]\n",
        "# 2.內容(專屬值): link.text\n",
        "\n",
        "link = html.find(\"a\",{\"class\":\"list-rst__rst-name-target\"})\n",
        "# link = html 的 找(\"超連結\"{class :(中的) list-rst__rst-name-target})\n",
        "\n",
        "print(link)\n",
        "print(link[\"href\"])\n",
        "# link 中的 \"herf\"\n",
        "print(link.text)"
      ]
    }
  ]
}