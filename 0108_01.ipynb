{
  "nbformat": 4,
  "nbformat_minor": 0,
  "metadata": {
    "colab": {
      "provenance": [],
      "authorship_tag": "ABX9TyNI64b5uoqrPsqCdILVQQER",
      "include_colab_link": true
    },
    "kernelspec": {
      "name": "python3",
      "display_name": "Python 3"
    },
    "language_info": {
      "name": "python"
    }
  },
  "cells": [
    {
      "cell_type": "markdown",
      "metadata": {
        "id": "view-in-github",
        "colab_type": "text"
      },
      "source": [
        "<a href=\"https://colab.research.google.com/github/kamian-chris/20241224-AI/blob/main/0108_01.ipynb\" target=\"_parent\"><img src=\"https://colab.research.google.com/assets/colab-badge.svg\" alt=\"Open In Colab\"/></a>"
      ]
    },
    {
      "cell_type": "code",
      "execution_count": null,
      "metadata": {
        "id": "goVBkxTWd_5A"
      },
      "outputs": [],
      "source": [
        "# https://tabelog.com/tw/tokyo/rstLst/1/?SrtT=rt\n",
        "\n",
        "import urllib.request as req\n",
        "# beautifulsoup4(html用)\n",
        "import bs4 as bs\n",
        "\n",
        "url = \"https://tabelog.com/tw/tokyo/rstLst/1/?SrtT=rt\"\n",
        "response = req.urlopen(url)\n",
        "html = bs.BeautifulSoup(response)\n",
        "\n",
        "# html專屬功能: 1.find 找第一個, 2.find_all 找所有\n",
        "# 1.特殊屬性: link[\"href\"]\n",
        "# 2.內容(專屬值): link.text\n",
        "\n",
        "link = html.find(\"a\",{\"class\":\"list-rst__rst-name-target\"})\n",
        "# link = html 的 找(\"超連結\"{class :(中的) list-rst__rst-name-target})\n",
        "\n",
        "print(link)\n",
        "print(link[\"href\"])\n",
        "# link 中的 \"herf\"\n",
        "print(link.text)"
      ]
    },
    {
      "cell_type": "code",
      "source": [
        "import urllib.request as req\n",
        "import bs4 as bs\n",
        "\n",
        "url = \"https://tabelog.com/tw/tokyo/rstLst/1/?SrtT=rt\"\n",
        "response = req.urlopen(url)\n",
        "html = bs.BeautifulSoup(response)\n",
        "\n",
        "# find_all: 型態類似list\n",
        "r_list = html.find_all(\"div\",{\"class\":\"list-rst__body\"})\n",
        "\n",
        "for r in r_list:\n",
        "    en_name = r.find(\"a\",{\"class\":\"list-rst__rst-name-target\"})\n",
        "    en_name_href = en_name[\"href\"]\n",
        "    en_name_text = en_name.text\n",
        "\n",
        "    print(en_name_href)\n",
        "    print(en_name_text)\n",
        "    print(\"-\" * 30)\n"
      ],
      "metadata": {
        "id": "G_hxraytcAWI"
      },
      "execution_count": null,
      "outputs": []
    }
  ]
}