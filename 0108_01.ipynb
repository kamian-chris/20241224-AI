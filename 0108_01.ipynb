{
  "nbformat": 4,
  "nbformat_minor": 0,
  "metadata": {
    "colab": {
      "provenance": [],
      "authorship_tag": "ABX9TyPDT7MTIdb1NpsHbKghfqq7",
      "include_colab_link": true
    },
    "kernelspec": {
      "name": "python3",
      "display_name": "Python 3"
    },
    "language_info": {
      "name": "python"
    }
  },
  "cells": [
    {
      "cell_type": "markdown",
      "metadata": {
        "id": "view-in-github",
        "colab_type": "text"
      },
      "source": [
        "<a href=\"https://colab.research.google.com/github/kamian-chris/20241224-AI/blob/main/0108_01.ipynb\" target=\"_parent\"><img src=\"https://colab.research.google.com/assets/colab-badge.svg\" alt=\"Open In Colab\"/></a>"
      ]
    },
    {
      "cell_type": "code",
      "execution_count": null,
      "metadata": {
        "id": "goVBkxTWd_5A"
      },
      "outputs": [],
      "source": [
        "# https://tabelog.com/tw/tokyo/rstLst/1/?SrtT=rt\n",
        "\n",
        "import urllib.request as req\n",
        "# beautifulsoup4(html用)\n",
        "import bs4 as bs\n",
        "\n",
        "url = \"https://tabelog.com/tw/tokyo/rstLst/1/?SrtT=rt\"\n",
        "response = req.urlopen(url)\n",
        "html = bs.BeautifulSoup(response)\n",
        "\n",
        "# html專屬功能: 1.find 找第一個, 2.find_all 找所有\n",
        "# 1.特殊屬性: link[\"href\"]\n",
        "# 2.內容(專屬值): link.text\n",
        "\n",
        "link = html.find(\"a\",{\"class\":\"list-rst__rst-name-target\"})\n",
        "# link = html 的 找(\"超連結\"{class :(中的) list-rst__rst-name-target})\n",
        "\n",
        "print(link)\n",
        "print(link[\"href\"])\n",
        "# link 中的 \"herf\"\n",
        "print(link.text)"
      ]
    },
    {
      "cell_type": "code",
      "source": [
        "import urllib.request as req\n",
        "import bs4 as bs\n",
        "\n",
        "url = \"https://tabelog.com/tw/tokyo/rstLst/1/?SrtT=rt\"\n",
        "response = req.urlopen(url)\n",
        "html = bs.BeautifulSoup(response)\n",
        "\n",
        "# find_all: 型態類似list\n",
        "r_list = html.find_all(\"div\",{\"class\":\"list-rst__body\"})\n",
        "\n",
        "for r in r_list:\n",
        "    en_name = r.find(\"a\",{\"class\":\"list-rst__rst-name-target\"})\n",
        "    en_name_href = en_name[\"href\"]\n",
        "    en_name_text = en_name.text\n",
        "\n",
        "    print(en_name_href)\n",
        "    print(en_name_text)\n",
        "    print(\"-\" * 30)"
      ],
      "metadata": {
        "id": "G_hxraytcAWI"
      },
      "execution_count": null,
      "outputs": []
    },
    {
      "cell_type": "code",
      "source": [
        "# 地點， 簡介, 評價, 錢, 開門時間\n",
        "\n",
        "import urllib.request as req\n",
        "import bs4 as bs\n",
        "\n",
        "url = \"https://tabelog.com/tw/tokyo/rstLst/1/?SrtT=rt\"\n",
        "response = req.urlopen(url)\n",
        "html = bs.BeautifulSoup(response)\n",
        "# 地址\n",
        "p_list = html.find_all(\"div\", {\"class\":\"list-rst__area-genre\"})\n",
        "# 簡述\n",
        "e_list = html.find_all(\"div\", {\"class\":\"list-rst__pr\"})\n",
        "# 評價\n",
        "s_list = html.find_all(\"span\", {\"class\":\"c-rating__val c-rating__val--strong list-rst__rating-val\"})\n",
        "# 晚間.午間價錢\n",
        "price_list = html.find_all(\"span\", {\"class\":\"c-rating-v3__val\"})\n",
        "# 休息日\n",
        "v_list = html.find_all(\"span\", {\"class\":\"list-rst__holiday-text\"})\n",
        "\n",
        "# print()\n",
        "for i in e_list:\n",
        "    e_name = i.find(\"p\",{\"class\":\"list-rst__pr-title cpy-pr-title\"})\n",
        "    e_name_text = e_name.text\n",
        "    print(e_name_text)"
      ],
      "metadata": {
        "id": "i6kaN13jf5XY"
      },
      "execution_count": null,
      "outputs": []
    },
    {
      "cell_type": "code",
      "source": [
        "import urllib.request as req\n",
        "import bs4 as bs\n",
        "\n",
        "page = 58\n",
        "while True:\n",
        "    print(\"頁數:\", page)\n",
        "    url = \"https://tabelog.com/tw/tokyo/rstLst/{}/?SrtT=rt\".format(page)\n",
        "    # = url = \"https://tabelog.com/tw/tokyo/rstLst/+ str(i+1)/?SrtT=rt\"\n",
        "    page = page + 1\n",
        "    response = req.urlopen(url)\n",
        "    html = bs.BeautifulSoup(response)\n",
        "\n",
        "    r_list = html.find_all(\"div\",{\"class\":\"list-rst__body\"})\n",
        "    # 當list長度 = 0 -> break\n",
        "    if len(r_list) == 0:\n",
        "        print(\"已經沒有了\")\n",
        "        break\n",
        "\n",
        "    # 字串專屬功能 -> strip()  (左右刪除)\n",
        "    for r in r_list:\n",
        "        en_name = r.find(\"a\",{\"class\":\"list-rst__rst-name-target\"})\n",
        "        en_name_href = en_name[\"href\"]\n",
        "        en_name_text = en_name.text\n",
        "\n",
        "        area = r.find(\"div\",{\"class\":\"list-rst__area-genre\"})\n",
        "        area_text = area.text.strip()\n",
        "\n",
        "        intro = r.find(\"p\",{\"class\":\"list-rst__pr-title cpy-pr-title\"})\n",
        "        if intro == None:\n",
        "            intro_text = \"無\"\n",
        "        else:\n",
        "            intro_text = intro.text.strip()\n",
        "\n",
        "        rating = r.find(\"span\",{\"class\":\"c-rating__val\"})\n",
        "        rating_text = rating.text\n",
        "\n",
        "        # 價錢分晚間, 午間\n",
        "        prices = r.find_all(\"span\", {\"class\":\"c-rating-v3__val\"})\n",
        "        dinner_price = prices[0].text\n",
        "        lunch_price = prices[1].text\n",
        "        holiday = r.find(\"span\", {\"class\":\"list-rst__holiday-text\"})\n",
        "        holiday_text = holiday.text\n",
        "\n",
        "        rest = r.find(\"span\",{\"class\":\"list-rst__holiday-text\"})\n",
        "        if rest == None:\n",
        "            rest_text = \"無\"\n",
        "        else:\n",
        "            rest_text = rest.text.strip()\n",
        "\n",
        "        print(rating_text)\n",
        "        print(en_name_text)\n",
        "        print(en_name_href)\n",
        "        print(area_text)\n",
        "        print(intro_text)\n",
        "\n",
        "        print(\"晚間價錢:\", dinner_price, \"午間價錢:\", lunch_price)\n",
        "\n",
        "        print(rest_text)\n",
        "        print(\"-\" * 30)"
      ],
      "metadata": {
        "id": "HuXwWtAnoi-r"
      },
      "execution_count": null,
      "outputs": []
    },
    {
      "cell_type": "code",
      "source": [
        "# 字串專屬功能\n",
        "# 好用的 字串 專屬功能\n",
        "# 字串.replace(\"原本字串\", \"新的字串\", 要改幾個-數字)\n",
        "# 字串.split(\"要置換的符號\")\n",
        "# 字串.join(要加入的東西)\n",
        "# 字串.strip()\n",
        "\n",
        "a = \"2025-01-08\"\n",
        "b = a.split(\"-\")\n",
        "\n",
        "\n",
        "print(a)\n",
        "print(b)\n",
        "print(\"-\".join(b))"
      ],
      "metadata": {
        "colab": {
          "base_uri": "https://localhost:8080/"
        },
        "id": "zrdb9sRK2E5U",
        "outputId": "74361fc4-dc7c-49b8-ec97-5007bd6289e5"
      },
      "execution_count": 62,
      "outputs": [
        {
          "output_type": "stream",
          "name": "stdout",
          "text": [
            "2025-01-08\n",
            "['2025', '01', '08']\n",
            "2025-01-08\n"
          ]
        }
      ]
    },
    {
      "cell_type": "code",
      "source": [
        "# list專屬功能(例外，直覺不須回傳)\n",
        "# lisr.XXX不須回傳 -> 因為功能後的值 = None\n",
        "# 下一行再印或是做其他事\n",
        "# .append(加入的東西) / .pop(拿掉的東西)"
      ],
      "metadata": {
        "id": "J659xHDE51-A"
      },
      "execution_count": null,
      "outputs": []
    }
  ]
}