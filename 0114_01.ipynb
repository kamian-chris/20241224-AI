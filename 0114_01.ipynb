{
  "cells": [
    {
      "cell_type": "markdown",
      "metadata": {
        "id": "view-in-github",
        "colab_type": "text"
      },
      "source": [
        "<a href=\"https://colab.research.google.com/github/kamian-chris/20241224-AI/blob/main/0114_01.ipynb\" target=\"_parent\"><img src=\"https://colab.research.google.com/assets/colab-badge.svg\" alt=\"Open In Colab\"/></a>"
      ]
    },
    {
      "cell_type": "markdown",
      "metadata": {
        "id": "m7wPtiWC5ken"
      },
      "source": [
        "# !!! 放下自尊 !!!\n",
        "# !!! 別貪 !!!\n",
        "# !!! 一步一步來 !!!"
      ]
    },
    {
      "cell_type": "markdown",
      "metadata": {
        "id": "FyrxsM0_WQvc"
      },
      "source": [
        "# HTTP代碼\n",
        "```python\n",
        "\n",
        "2開頭: 成功\n",
        "\n",
        "3開頭: 轉址\n",
        "對面的網路已經搬家了，雖然你還是輸入舊網址，但它會自動幫你替換成新網址\n",
        "\n",
        "4開頭: 錯誤\n",
        "\n",
        "404: Not Found\n",
        "!!! 最常見: 網址打錯\n",
        "\n",
        "403: Forbidden\n",
        "!!! 原因1: ip ban\n",
        "!!!   通常是數次惡意行為 (例如短時間送太多次...)\n",
        "!!!   解法: 等待 / 換ip\n",
        "!!! 原因2: 你學的不像瀏覽器 (程式...)\n",
        "!!!   解法: 學的像一點 (headers的完善)\n",
        "```"
      ]
    },
    {
      "cell_type": "markdown",
      "metadata": {
        "id": "vckMC0DmYRxU"
      },
      "source": [
        "# Header\n",
        "```python\n",
        "\n",
        "你在送出網址的時候，其實不只送出網址\n",
        "你送出的是: 網址 + 額外信息(request headers)\n",
        "\n",
        "你在得到回應的時候，其實不是只有得到回應\n",
        "你得到的是: 網址 + 額外信息(response headers)\n",
        "\n",
        "```"
      ]
    },
    {
      "cell_type": "markdown",
      "source": [
        "# 處理檔案\n",
        "```python\n",
        "1. 純文字\n",
        "open(....\"r\" or \"w\", encording=\"utf-8\")\n",
        "\n",
        "2. 非純文字(圖片/pdf/doc...)\n",
        "open(....\"rb\" or \"wb\")\n",
        "\n",
        "```"
      ],
      "metadata": {
        "id": "glegEDWGjT1p"
      }
    },
    {
      "cell_type": "code",
      "execution_count": 15,
      "metadata": {
        "id": "eoapmyke5Ve9"
      },
      "outputs": [],
      "source": [
        "import urllib.request as req\n",
        "import bs4 as bs\n",
        "\n",
        "url = \"https://www.ptt.cc/bbs/Beauty/M.1736755829.A.02A.html\"\n",
        "# 要用 header -> 先把網址先包起來\n",
        "r = req.Request(url)\n",
        "r.add_header(\"User-Agent\",\"Mozilla/5.0 (Windows NT 10.0; Win64; x64) AppleWebKit/537.36 (KHTML, like Gecko) Chrome/131.0.0.0 Safari/537.36\")\n",
        "\n",
        "response = req.urlopen(r)\n",
        "html = bs.BeautifulSoup(response)\n",
        "\n",
        "# 如果沒有class的話\n",
        "# 1. 找她老爸\n",
        "# 2. 自己寫篩選方式(!!!!!)\n",
        "alloew_subname = [\"jpg\", \"jpeg\", \"png\", \"gif\"]\n",
        "# 找全部 -> 產生清單\n",
        "links = html.find_all(\"a\")\n",
        "# 把清單跑過一次\n",
        "for l in links:\n",
        "    # 只找 \"href\"\n",
        "    href = l[\"href\"]\n",
        "    # 用 \".\" 做切割\n",
        "    subname = href.split(\".\")[-1]\n",
        "    if subname.lower() in alloew_subname:\n",
        "        # 這邊再加一次 header 是因為被擋了 -> 遇到4XX error -> 嘗試加 header\n",
        "        r = req.Request(href)\n",
        "        r.add_header(\"User-Agent\",\"Mozilla/5.0 (Windows NT 10.0; Win64; x64) AppleWebKit/537.36 (KHTML, like Gecko) Chrome/131.0.0.0 Safari/537.36\")\n",
        "        img = req.urlopen(r)\n",
        "        # open一個檔案來儲存，並用 .split來切割出檔案名稱\n",
        "        fname = href.split(\"/\")[-1]\n",
        "        # 不是純文字 -> \"wb\"\n",
        "        f = open(fname, \"wb\")\n",
        "        # 寫入 關掉\n",
        "        f.write(img.read())\n",
        "        f.close()\n",
        "        # print(img.read())\n",
        "        # print(\"-\" * 30)\n",
        ""
      ]
    },
    {
      "cell_type": "code",
      "source": [
        "import urllib.request as req\n",
        "import bs4 as bs\n",
        "import os\n",
        "import json\n",
        "\n",
        "url = \"https://www.ptt.cc/bbs/Beauty/M.1736733511.A.738.html\"\n",
        "# 順便準備一下等一下要儲存的檔案名稱\n",
        "url_split = url.split(\"/\")\n",
        "fname = url_split[-1] + \".json\"\n",
        "dirname = url_split[-2]\n",
        "# 記得要先創資料夾, 不然紅字\n",
        "if not os.path.exists(dirname):\n",
        "    os.makedirs(dirname)\n",
        "fpath = dirname + \"/\" + fname\n",
        "\n",
        "if not os.path.exists(dirname):\n",
        "    os.makedirs(dirname)\n",
        "\n",
        "\n",
        "# 要用 header -> 先把網址先包起來\n",
        "r = req.Request(url)\n",
        "r.add_header(\"User-Agent\",\"Mozilla/5.0 (Windows NT 10.0; Win64; x64) AppleWebKit/537.36 (KHTML, like Gecko) Chrome/131.0.0.0 Safari/537.36\")\n",
        "\n",
        "response = req.urlopen(r)\n",
        "html = bs.BeautifulSoup(response)\n",
        "\n",
        "meta_list = html.find_all(\"span\", {\"class\":\"article-meta-value\"})\n",
        "\n",
        "ptt_id = meta_list[0].text\n",
        "if \"(\" in ptt_id:\n",
        "    ptt_id_split = ptt_id.split(\"(\")\n",
        "    ptt_id = ptt_id_split[0].strip()\n",
        "    nick_name = ptt_id_split[-1].replace(\")\", \"\")\n",
        "else:\n",
        "    nick_name = \"\"\n",
        "board = meta_list[1].text\n",
        "title = meta_list[2].text\n",
        "if title[0] == \"[\":\n",
        "    title_split = title.split(\"]\")\n",
        "    category = title_split[0].replace(\"[\", \"\")\n",
        "    title = title_split[-1].strip()\n",
        "else:\n",
        "    category = \"\"\n",
        "date = meta_list[3].text\n",
        "\n",
        "# 存檔的時候肯定是來個JSON\n",
        "data = {\n",
        "    \"id\":ptt_id,\n",
        "    \"nickname\":nick_name,\n",
        "    \"board\":board,\n",
        "    \"category\":category,\n",
        "    \"title\":title,\n",
        "    \"data\":date,\n",
        "    \"push\":[]\n",
        "}\n",
        "\n",
        "print(\"作者:\", ptt_id)\n",
        "print(\"當時暱稱:\", nick_name)\n",
        "print(\"看板:\", board)\n",
        "print(\"分類:\", category)\n",
        "print(\"標題:\", title)\n",
        "print(\"時間:\", date)\n",
        "\n",
        "\n",
        "push_list = html.find_all(\"div\", {\"class\":\"push\"})\n",
        "for push in push_list:\n",
        "    push_meta = push.find_all(\"span\")\n",
        "    push_type = push_meta[0].text.strip()\n",
        "    push_ptt_id = push_meta[1].text.strip()\n",
        "    push_content = push_meta[2].text.replace(\": \", \"\").strip()\n",
        "    push_ip_date = push_meta[3].text.strip()\n",
        "    print(push_type, push_ptt_id, push_content, push_ip_date)\n",
        "    push_data = {\n",
        "        \"type\":push_type,\n",
        "        \"id\":push_ptt_id,\n",
        "        \"content\":push_content,\n",
        "        \"ipdate\":push_ip_date\n",
        "    }\n",
        "    data[\"push\"].append(push_data)\n",
        "\n",
        "# 把json寫入到檔案裡\n",
        "f = open(fpath, \"w\", encoding=\"utf-8\")\n",
        "# 之前是f.write, 現在使用json.dump幫我做更好的write\n",
        "json.dump(data, f, ensure_ascii=False, indent=4)\n",
        "f.close()"
      ],
      "metadata": {
        "colab": {
          "base_uri": "https://localhost:8080/"
        },
        "id": "QyiiB4Mmrv7U",
        "outputId": "06126957-6569-4318-c161-7bc0c6fcf4a7"
      },
      "execution_count": 29,
      "outputs": [
        {
          "output_type": "stream",
          "name": "stdout",
          "text": [
            "作者: JANUARZ\n",
            "當時暱稱: 社會職人\n",
            "看板: Beauty\n",
            "分類: 正妹\n",
            "標題: 有些角度像楊謹華\n",
            "時間: Mon Jan 13 09:58:29 2025\n",
            "推 ninaman 正 101.12.146.84 01/13 10:05\n",
            "推 deltarobot . 49.217.122.9 01/13 10:07\n",
            "推 elfindor 優 223.137.175.186 01/13 10:16\n",
            "推 wglhe 優版派克 42.77.77.102 01/13 10:17\n",
            "推 Uncontinue 正正 122.118.35.37 01/13 10:38\n",
            "推 Williamtsou 門 27.53.230.154 01/13 10:52\n",
            "推 aass5566 就是本人 42.77.55.73 01/13 11:10\n",
            "→ bingreen 正 111.184.234.172 01/13 11:17\n",
            "推 openbook13 優質皮朋 49.215.58.105 01/13 11:29\n",
            "推 okbon 不錯喔 118.231.152.241 01/13 13:03\n",
            "噓 TopGun2 明明就是 張鳳書 114.33.106.198 01/13 13:12\n",
            "→ wl00669773 之前現場聊天過，一直覺得本人比照片 223.141.125.149 01/13 13:26\n",
            "→ wl00669773 漂亮 223.141.125.149 01/13 13:27\n",
            "噓 hmt17 許光漢？ 49.216.52.98 01/13 14:26\n",
            "推 WasJohnWall 派克？ 61.228.67.71 01/13 15:32\n",
            "推 durian0308 讚 42.78.236.55 01/13 15:51\n",
            "推 saw6904 楊謹華天花版 42.79.150.39 01/13 18:24\n",
            "推 ruffryders 正翻 42.78.17.7 01/13 19:57\n",
            "推 a3300689 已追蹤 推藏頭 1.171.153.189 01/14 00:32\n",
            "→ a9564208 比較像 常威 101.9.96.122 01/14 07:33\n",
            "推 clkdtm32 比楊謹華正太多了吧 198.232.126.7 01/14 11:00\n",
            "推 ryanworld 有像 118.232.4.15 01/14 14:58\n"
          ]
        }
      ]
    }
  ],
  "metadata": {
    "colab": {
      "provenance": [],
      "authorship_tag": "ABX9TyPilMXlXs2HCV3U/ntKpdoZ",
      "include_colab_link": true
    },
    "kernelspec": {
      "display_name": "Python 3",
      "name": "python3"
    },
    "language_info": {
      "name": "python"
    }
  },
  "nbformat": 4,
  "nbformat_minor": 0
}