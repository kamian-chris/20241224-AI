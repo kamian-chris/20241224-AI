{
  "nbformat": 4,
  "nbformat_minor": 0,
  "metadata": {
    "colab": {
      "provenance": [],
      "authorship_tag": "ABX9TyM0f6k3UXdg9y4uE717Jair",
      "include_colab_link": true
    },
    "kernelspec": {
      "name": "python3",
      "display_name": "Python 3"
    },
    "language_info": {
      "name": "python"
    }
  },
  "cells": [
    {
      "cell_type": "markdown",
      "metadata": {
        "id": "view-in-github",
        "colab_type": "text"
      },
      "source": [
        "<a href=\"https://colab.research.google.com/github/kamian-chris/20241224-AI/blob/main/0102_01.ipynb\" target=\"_parent\"><img src=\"https://colab.research.google.com/assets/colab-badge.svg\" alt=\"Open In Colab\"/></a>"
      ]
    },
    {
      "cell_type": "markdown",
      "source": [
        "yt\n",
        "刪掉: &ump=1 &range=0-122050\n",
        "\n",
        "影片合併\n",
        "Youtube\n",
        "\n",
        "WIN: https://drive.google.com/file/d/1NG1jLgtNSMA8Gu_WKtfpa7a7sOsXoRiI/view?usp=sharing\n",
        "\n",
        "MAC: https://drive.google.com/file/d/1jeMX_L6j4iINj9f9pRXyddxeHPuLkQJu/view?usp=sharing\n",
        "\n",
        "指令: ffmpeg.exe -i 聲音 -i 影片 out.mp4\n",
        "\n",
        "BAHA\n",
        "\n",
        "WIN: -headers \"Origin: https://ani.gamer.com.tw\" -i \"\" anime.mp4\n",
        "\n",
        "MAC: -headers 'Origin: https://ani.gamer.com.tw' -i '' anime.mp4\n",
        "\n",
        "command line原理\n",
        "執行擋(.exe) 參數\n",
        "\n",
        "參數有兩種帶法:\n",
        "1. 直接寫: 如果位置固定(譬如是最尾巴)\n",
        "2. 先加提示在開始寫: -i 檔案名字\n",
        "長提示: --input\n",
        "短提示: -i\n",
        "\n",
        "常用指令:\n",
        "cd 資料夾位致"
      ],
      "metadata": {
        "id": "lT-Yl3i6yV8E"
      }
    },
    {
      "cell_type": "markdown",
      "source": [
        "-headers \"Origin: https://ani.gamer.com.tw\" -i \"\" anime.mp4"
      ],
      "metadata": {
        "id": "NnBQolMUmB-i"
      }
    },
    {
      "cell_type": "code",
      "execution_count": null,
      "metadata": {
        "id": "4lJMUC4wyK0R"
      },
      "outputs": [],
      "source": []
    }
  ]
}